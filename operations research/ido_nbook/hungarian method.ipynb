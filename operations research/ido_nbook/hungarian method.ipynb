{
 "cells": [
  {
   "cell_type": "markdown",
   "metadata": {},
   "source": [
    "# Hungarian Method"
   ]
  },
  {
   "cell_type": "code",
   "execution_count": 3,
   "metadata": {
    "collapsed": false
   },
   "outputs": [],
   "source": [
    "import sys\n",
    "import numpy as np\n",
    "sys.path.append(\"..\")\n",
    "from ido import hungarian"
   ]
  },
  {
   "cell_type": "code",
   "execution_count": 4,
   "metadata": {
    "collapsed": false
   },
   "outputs": [
    {
     "name": "stdout",
     "output_type": "stream",
     "text": [
      "[[1 6 0 8 1]\n",
      " [6 5 0 7 5]\n",
      " [4 2 0 5 3]\n",
      " [6 2 0 1 3]\n",
      " [3 4 0 3 4]] \n",
      "\n",
      "[[0 4 0 7 0]\n",
      " [5 3 0 6 4]\n",
      " [3 0 0 4 2]\n",
      " [5 0 0 0 2]\n",
      " [2 2 0 2 3]]\n"
     ]
    }
   ],
   "source": [
    "mtest = np.array([[3,  8, 2, 10,  3],\n",
    "                  [8,  7, 2,  9,  7],\n",
    "                  [6,  4, 2,  7,  5],\n",
    "                  [8,  4, 2,  3,  5],\n",
    "                  [9, 10, 6,  9, 10]])\n",
    "hungarian(mtest)"
   ]
  },
  {
   "cell_type": "code",
   "execution_count": 7,
   "metadata": {
    "collapsed": false
   },
   "outputs": [
    {
     "name": "stdout",
     "output_type": "stream",
     "text": [
      "[[1 7 0 1 5]\n",
      " [5 0 4 5 5]\n",
      " [6 1 4 7 0]\n",
      " [1 4 3 1 0]\n",
      " [7 4 0 2 3]] \n",
      "\n",
      "[[0 7 0 0 5]\n",
      " [4 0 4 4 5]\n",
      " [5 1 4 6 0]\n",
      " [0 4 3 0 0]\n",
      " [6 4 0 1 3]]\n"
     ]
    }
   ],
   "source": [
    "mtest2 = np.array([[3, 9, 2,  3, 7],\n",
    "                   [6, 1, 5,  6, 6],\n",
    "                   [9, 4, 7, 10, 3],\n",
    "                   [2, 5, 4,  2, 1],\n",
    "                   [9, 6, 2,  4, 5]])\n",
    "\n",
    "hungarian(mtest2)"
   ]
  }
 ],
 "metadata": {
  "kernelspec": {
   "display_name": "Python 3",
   "language": "python",
   "name": "python3"
  },
  "language_info": {
   "codemirror_mode": {
    "name": "ipython",
    "version": 3
   },
   "file_extension": ".py",
   "mimetype": "text/x-python",
   "name": "python",
   "nbconvert_exporter": "python",
   "pygments_lexer": "ipython3",
   "version": "3.4.3"
  }
 },
 "nbformat": 4,
 "nbformat_minor": 0
}
