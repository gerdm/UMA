{
 "cells": [
  {
   "cell_type": "code",
   "execution_count": 1,
   "metadata": {
    "collapsed": true
   },
   "outputs": [],
   "source": [
    "import numpy as np\n",
    "import sys\n",
    "sys.path.append(\"..\")\n",
    "from ido import Simplex"
   ]
  },
  {
   "cell_type": "markdown",
   "metadata": {},
   "source": [
    "# Transportation Problems"
   ]
  },
  {
   "cell_type": "markdown",
   "metadata": {},
   "source": [
    "## Problem1"
   ]
  },
  {
   "cell_type": "code",
   "execution_count": 2,
   "metadata": {
    "collapsed": false
   },
   "outputs": [],
   "source": [
    "from ido import Transportation\n",
    "from numpy import nan\n",
    "supply = np.array([35, 50, 40])\n",
    "demand = np.array([45, 20, 30, 30])\n",
    "\n",
    "costs = np.array([[ 8,  6, 10, 9],\n",
    "                  [ 9, 12, 13, 7],\n",
    "                  [14,  9, 16, 5]])\n",
    "\n",
    "tr1 = Transportation(costs, supply, demand)\n",
    "mtr = tr1.start_solution"
   ]
  },
  {
   "cell_type": "code",
   "execution_count": 4,
   "metadata": {
    "collapsed": false
   },
   "outputs": [
    {
     "name": "stdout",
     "output_type": "stream",
     "text": [
      "[[ 35.  nan  nan  nan]\n",
      " [ 10.  20.  20.  nan]\n",
      " [ nan  nan  10.  30.]] \n",
      "\n",
      "(5, (1, 2))\n",
      "(2, (1, 3))\n",
      "(-8, (1, 4))\n",
      "(-5, (2, 4))\n",
      "(-2, (3, 1))\n",
      "(6, (3, 2))\n"
     ]
    },
    {
     "data": {
      "text/plain": [
       "False"
      ]
     },
     "execution_count": 4,
     "metadata": {},
     "output_type": "execute_result"
    }
   ],
   "source": [
    "print(mtr, \"\\n\")\n",
    "tr1.is_factible(mtr)"
   ]
  },
  {
   "cell_type": "code",
   "execution_count": 5,
   "metadata": {
    "collapsed": false
   },
   "outputs": [
    {
     "name": "stdout",
     "output_type": "stream",
     "text": [
      "(5, (1, 2))\n",
      "(2, (1, 3))\n",
      "(-2, (1, 4))\n",
      "(1, (2, 4))\n",
      "(-8, (3, 1))\n",
      "(-6, (3, 3))\n"
     ]
    },
    {
     "data": {
      "text/plain": [
       "False"
      ]
     },
     "execution_count": 5,
     "metadata": {},
     "output_type": "execute_result"
    }
   ],
   "source": [
    "mtr = np.array([[35, nan, nan, nan],\n",
    "                [10,  10,  30, nan],\n",
    "                [nan, 10, nan,  30]])\n",
    "tr1.is_factible(mtr)"
   ]
  },
  {
   "cell_type": "code",
   "execution_count": 6,
   "metadata": {
    "collapsed": false
   },
   "outputs": [
    {
     "name": "stdout",
     "output_type": "stream",
     "text": [
      "(2, (1, 3))\n",
      "(-7, (1, 4))\n",
      "(-5, (2, 2))\n",
      "(-4, (2, 4))\n",
      "(-3, (3, 1))\n",
      "(-1, (3, 3))\n"
     ]
    },
    {
     "data": {
      "text/plain": [
       "False"
      ]
     },
     "execution_count": 6,
     "metadata": {},
     "output_type": "execute_result"
    }
   ],
   "source": [
    "mtr = np.array([[25,  10, nan, nan],\n",
    "                [20, nan,  30, nan],\n",
    "                [nan, 10, nan,  30]])\n",
    "tr1.is_factible(mtr)"
   ]
  },
  {
   "cell_type": "code",
   "execution_count": 7,
   "metadata": {
    "collapsed": false
   },
   "outputs": [
    {
     "name": "stdout",
     "output_type": "stream",
     "text": [
      "(nan, (1, 1))\n",
      "(-7, (1, 4))\n",
      "(-3, (2, 2))\n",
      "(-2, (2, 4))\n",
      "(nan, (3, 1))\n",
      "(-3, (3, 3))\n"
     ]
    },
    {
     "data": {
      "text/plain": [
       "True"
      ]
     },
     "execution_count": 7,
     "metadata": {},
     "output_type": "execute_result"
    }
   ],
   "source": [
    "mtr = np.array([[nan,  10,  25, nan],\n",
    "          [ 45, nan,   5, nan],\n",
    "          [nan,  10, nan, 30]])\n",
    "tr1.is_factible(mtr)"
   ]
  },
  {
   "cell_type": "markdown",
   "metadata": {},
   "source": [
    "## Problem 2"
   ]
  },
  {
   "cell_type": "code",
   "execution_count": 21,
   "metadata": {
    "collapsed": false
   },
   "outputs": [],
   "source": [
    "supply = np.array([40, 20, 30, 20])\n",
    "demand = np.array([30, 30, 30, 20])\n",
    "\n",
    "costs = np.array([[ 15,  25,  25, 0],\n",
    "                  [115, 125, 125, 0],\n",
    "                  [ 10,  50,  40, 0],\n",
    "                  [110, 150, 140, 0]])\n",
    "\n",
    "tr3 = Transportation(costs, supply, demand)\n",
    "optm = tr3.start_solution"
   ]
  },
  {
   "cell_type": "code",
   "execution_count": 22,
   "metadata": {
    "collapsed": false
   },
   "outputs": [
    {
     "name": "stdout",
     "output_type": "stream",
     "text": [
      "[[ 30.  10.  nan  nan]\n",
      " [ nan  20.   0.  nan]\n",
      " [ nan  nan  30.   0.]\n",
      " [ nan  nan  nan  20.]] \n",
      "\n",
      "(0, (1, 3))\n",
      "(-15, (1, 4))\n",
      "(0, (2, 1))\n",
      "(85, (2, 4))\n",
      "(20, (3, 1))\n",
      "(-10, (3, 2))\n",
      "(-80, (4, 1))\n",
      "(-110, (4, 2))\n",
      "(-100, (4, 3))\n"
     ]
    },
    {
     "data": {
      "text/plain": [
       "False"
      ]
     },
     "execution_count": 22,
     "metadata": {},
     "output_type": "execute_result"
    }
   ],
   "source": [
    "print(optm, \"\\n\")\n",
    "tr3.is_factible(optm)"
   ]
  },
  {
   "cell_type": "code",
   "execution_count": 23,
   "metadata": {
    "collapsed": false
   },
   "outputs": [
    {
     "name": "stdout",
     "output_type": "stream",
     "text": [
      "(nan, (1, 3))\n",
      "(-100, (1, 4))\n",
      "(0, (2, 1))\n",
      "(nan, (2, 3))\n",
      "(105, (3, 1))\n",
      "(75, (3, 2))\n",
      "(5, (4, 1))\n",
      "(-25, (4, 2))\n",
      "(nan, (4, 3))\n"
     ]
    },
    {
     "data": {
      "text/plain": [
       "False"
      ]
     },
     "execution_count": 23,
     "metadata": {},
     "output_type": "execute_result"
    }
   ],
   "source": [
    "optm = np.array([[ 30,  10, nan, nan],\n",
    "                 [nan,  20, nan,   0],\n",
    "                 [nan, nan,  30,   0],\n",
    "                 [nan, nan, nan,  20]])\n",
    "tr3.is_factible(optm)"
   ]
  },
  {
   "cell_type": "code",
   "execution_count": 26,
   "metadata": {
    "collapsed": false
   },
   "outputs": [
    {
     "name": "stdout",
     "output_type": "stream",
     "text": [
      "(20, (1, 3))\n",
      "(-100, (1, 4))\n",
      "(0, (2, 1))\n",
      "(20, (2, 3))\n",
      "(-30, (3, 2))\n",
      "(-105, (3, 4))\n",
      "(5, (4, 1))\n",
      "(-25, (4, 2))\n",
      "(5, (4, 3))\n"
     ]
    },
    {
     "data": {
      "text/plain": [
       "False"
      ]
     },
     "execution_count": 26,
     "metadata": {},
     "output_type": "execute_result"
    }
   ],
   "source": [
    "optm = np.array([[ 30,  10, nan, nan],\n",
    "                 [nan,  20, nan,   0],\n",
    "                 [  0, nan,  30, nan],\n",
    "                 [nan, nan, nan,  20]])\n",
    "tr3.is_factible(optm)"
   ]
  },
  {
   "cell_type": "code",
   "execution_count": 27,
   "metadata": {
    "collapsed": false
   },
   "outputs": [
    {
     "name": "stdout",
     "output_type": "stream",
     "text": [
      "(-100, (1, 4))\n",
      "(0, (2, 1))\n",
      "(0, (2, 3))\n",
      "(-30, (3, 2))\n",
      "(-20, (3, 3))\n",
      "(-105, (3, 4))\n",
      "(5, (4, 1))\n",
      "(-25, (4, 2))\n",
      "(-15, (4, 3))\n"
     ]
    },
    {
     "data": {
      "text/plain": [
       "False"
      ]
     },
     "execution_count": 27,
     "metadata": {},
     "output_type": "execute_result"
    }
   ],
   "source": [
    "optm = np.array([[  0,  10,  30, nan],\n",
    "                 [nan,  20, nan,   0],\n",
    "                 [ 30, nan, nan, nan],\n",
    "                 [nan, nan, nan,  20]])\n",
    "tr3.is_factible(optm)"
   ]
  },
  {
   "cell_type": "code",
   "execution_count": 28,
   "metadata": {
    "collapsed": false
   },
   "outputs": [
    {
     "name": "stdout",
     "output_type": "stream",
     "text": [
      "(nan, (1, 1))\n",
      "(-100, (1, 4))\n",
      "(nan, (2, 1))\n",
      "(0, (2, 3))\n",
      "(nan, (3, 2))\n",
      "(nan, (3, 3))\n",
      "(nan, (3, 4))\n",
      "(-25, (4, 2))\n",
      "(-15, (4, 3))\n"
     ]
    },
    {
     "data": {
      "text/plain": [
       "True"
      ]
     },
     "execution_count": 28,
     "metadata": {},
     "output_type": "execute_result"
    }
   ],
   "source": [
    "optm = np.array([[nan,  10,  30, nan],\n",
    "                 [nan,  20, nan,   0],\n",
    "                 [ 30, nan, nan, nan],\n",
    "                 [  0, nan, nan,  20]])\n",
    "tr3.is_factible(optm)"
   ]
  },
  {
   "cell_type": "markdown",
   "metadata": {},
   "source": [
    "## Problem 4(a) "
   ]
  },
  {
   "cell_type": "code",
   "execution_count": 30,
   "metadata": {
    "collapsed": false
   },
   "outputs": [],
   "source": [
    "supply = np.array([120, 150, 160])\n",
    "demand = np.array([100, 100, 100, 130])\n",
    "\n",
    "costs = np.array([[60, 40, 28, 0],\n",
    "                  [50, 30, 30, 0],\n",
    "                  [43, 20, 20, 0]])\n",
    "\n",
    "tr4a= Transportation(costs, supply, demand)\n",
    "optm = tr4a.start_solution"
   ]
  },
  {
   "cell_type": "code",
   "execution_count": 31,
   "metadata": {
    "collapsed": false
   },
   "outputs": [
    {
     "name": "stdout",
     "output_type": "stream",
     "text": [
      "[[ 100.   20.   nan   nan]\n",
      " [  nan   80.   70.   nan]\n",
      " [  nan   nan   30.  130.]] \n",
      "\n",
      "(12, (1, 3))\n",
      "(20, (1, 4))\n",
      "(0, (2, 1))\n",
      "(10, (2, 4))\n",
      "(-3, (3, 1))\n",
      "(0, (3, 2))\n"
     ]
    },
    {
     "data": {
      "text/plain": [
       "False"
      ]
     },
     "execution_count": 31,
     "metadata": {},
     "output_type": "execute_result"
    }
   ],
   "source": [
    "print(optm, \"\\n\")\n",
    "tr4a.is_factible(optm)"
   ]
  },
  {
   "cell_type": "code",
   "execution_count": 32,
   "metadata": {
    "collapsed": false
   },
   "outputs": [
    {
     "name": "stdout",
     "output_type": "stream",
     "text": [
      "(nan, (1, 2))\n",
      "(nan, (1, 3))\n",
      "(nan, (2, 1))\n",
      "(nan, (2, 4))\n",
      "(17, (3, 1))\n",
      "(nan, (3, 2))\n"
     ]
    },
    {
     "data": {
      "text/plain": [
       "False"
      ]
     },
     "execution_count": 32,
     "metadata": {},
     "output_type": "execute_result"
    }
   ],
   "source": [
    "optm = np.array([[100, nan, nan,  20],\n",
    "                 [nan, 100,  50, nan],\n",
    "                 [nan, nan,  50, 110]])\n",
    "tr4a.is_factible(optm)"
   ]
  },
  {
   "cell_type": "code",
   "execution_count": 33,
   "metadata": {
    "collapsed": false
   },
   "outputs": [
    {
     "name": "stdout",
     "output_type": "stream",
     "text": [
      "(nan, (1, 1))\n",
      "(nan, (1, 2))\n",
      "(nan, (1, 3))\n",
      "(nan, (2, 1))\n",
      "(nan, (2, 4))\n",
      "(nan, (3, 2))\n"
     ]
    },
    {
     "data": {
      "text/plain": [
       "True"
      ]
     },
     "execution_count": 33,
     "metadata": {},
     "output_type": "execute_result"
    }
   ],
   "source": [
    "optm = np.array([[nan, nan, nan, 120],\n",
    "                 [nan, 100,  50, nan],\n",
    "                 [100, nan,  50,  10]])\n",
    "tr4a.is_factible(optm)"
   ]
  }
 ],
 "metadata": {
  "kernelspec": {
   "display_name": "Python 3",
   "language": "python",
   "name": "python3"
  },
  "language_info": {
   "codemirror_mode": {
    "name": "ipython",
    "version": 3
   },
   "file_extension": ".py",
   "mimetype": "text/x-python",
   "name": "python",
   "nbconvert_exporter": "python",
   "pygments_lexer": "ipython3",
   "version": "3.4.3"
  }
 },
 "nbformat": 4,
 "nbformat_minor": 0
}
