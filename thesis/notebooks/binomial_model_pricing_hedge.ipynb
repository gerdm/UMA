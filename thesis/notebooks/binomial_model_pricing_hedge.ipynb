{
 "cells": [
  {
   "cell_type": "markdown",
   "metadata": {},
   "source": [
    "# Binomial Tree Example"
   ]
  },
  {
   "cell_type": "code",
   "execution_count": 12,
   "metadata": {
    "collapsed": true
   },
   "outputs": [],
   "source": [
    "import numpy as np\n",
    "from numpy import exp"
   ]
  },
  {
   "cell_type": "code",
   "execution_count": 47,
   "metadata": {
    "collapsed": false
   },
   "outputs": [],
   "source": [
    "u_factor = 1.20\n",
    "d_factor = 0.80\n",
    "r = 0.00\n",
    "K = 110\n",
    "S0 = 100\n",
    "\n",
    "q = (exp(r) - d_factor) / (u_factor - d_factor)"
   ]
  },
  {
   "cell_type": "code",
   "execution_count": 48,
   "metadata": {
    "collapsed": false
   },
   "outputs": [
    {
     "data": {
      "text/plain": [
       "array([ 62.8,   5.2,   0. ,   0. ])"
      ]
     },
     "execution_count": 48,
     "metadata": {},
     "output_type": "execute_result"
    }
   ],
   "source": [
    "S3 = np.array([172.8, 115.2, 76.8, 51.2])\n",
    "payoffs = np.maximum(S3 - K, 0); payoffs"
   ]
  },
  {
   "cell_type": "code",
   "execution_count": 49,
   "metadata": {
    "collapsed": false
   },
   "outputs": [],
   "source": [
    "ExpQ = lambda payoffs, q, r: exp(-r) * np.sum(payoffs * np.array([q, 1 - q]))"
   ]
  },
  {
   "cell_type": "markdown",
   "metadata": {},
   "source": [
    "## Payoffs"
   ]
  },
  {
   "cell_type": "markdown",
   "metadata": {},
   "source": [
    "### $t = 3$ "
   ]
  },
  {
   "cell_type": "code",
   "execution_count": 93,
   "metadata": {
    "collapsed": true
   },
   "outputs": [],
   "source": [
    "fuuu, fuud, fudd, fddd = payoffs"
   ]
  },
  {
   "cell_type": "markdown",
   "metadata": {},
   "source": [
    "### $t=2$"
   ]
  },
  {
   "cell_type": "code",
   "execution_count": 50,
   "metadata": {
    "collapsed": false
   },
   "outputs": [],
   "source": [
    "# Node 3, at t=2\n",
    "fuu = ExpQ((62.8, 5.2), q, r)\n",
    "\n",
    "# Node 2, at t=2\n",
    "fud = ExpQ((5.2, 0), q, r)\n",
    "\n",
    "# Node 1, at t=2\n",
    "fdd = ExpQ((0, 0), q, r)"
   ]
  },
  {
   "cell_type": "markdown",
   "metadata": {},
   "source": [
    "### $t=1$"
   ]
  },
  {
   "cell_type": "code",
   "execution_count": 51,
   "metadata": {
    "collapsed": false
   },
   "outputs": [],
   "source": [
    "# Node 2, at t=1\n",
    "fu = ExpQ((fuu, fud), q, r)\n",
    "\n",
    "# Node 1, at t=1\n",
    "fd = ExpQ((fud, fud), q, r)"
   ]
  },
  {
   "cell_type": "markdown",
   "metadata": {},
   "source": [
    "### $t=0$"
   ]
  },
  {
   "cell_type": "code",
   "execution_count": 52,
   "metadata": {
    "collapsed": false
   },
   "outputs": [
    {
     "data": {
      "text/plain": [
       "10.450000000000001"
      ]
     },
     "execution_count": 52,
     "metadata": {},
     "output_type": "execute_result"
    }
   ],
   "source": [
    "f = ExpQ((fu, fd), q, r); f"
   ]
  },
  {
   "cell_type": "markdown",
   "metadata": {},
   "source": [
    "## Hedging the derivative"
   ]
  },
  {
   "cell_type": "markdown",
   "metadata": {},
   "source": [
    "$$\n",
    "    \\phi = \\frac{f_u - f_d}{S(u -d)}\n",
    "$$"
   ]
  },
  {
   "cell_type": "code",
   "execution_count": 82,
   "metadata": {
    "collapsed": false
   },
   "outputs": [
    {
     "data": {
      "text/plain": [
       "(0.39250000000000007, 28.800000000000004)"
      ]
     },
     "execution_count": 82,
     "metadata": {},
     "output_type": "execute_result"
    }
   ],
   "source": [
    "# Hedging at t = 0\n",
    "phi1 = (fu - fd) / (S0 * (u_factor - d_factor)) # number of shares to buy\n",
    "psi1 = phi1 * S0 - f # amount to borrow\n",
    "\n",
    "phi1, psi1"
   ]
  },
  {
   "cell_type": "markdown",
   "metadata": {},
   "source": [
    "We need $0.3925$ units of $S$ and borrow $28.8$ to cover the expenses"
   ]
  },
  {
   "cell_type": "code",
   "execution_count": 92,
   "metadata": {
    "collapsed": false
   },
   "outputs": [
    {
     "data": {
      "text/plain": [
       "(0.65416666666666679, 60.20000000000001)"
      ]
     },
     "execution_count": 92,
     "metadata": {},
     "output_type": "execute_result"
    }
   ],
   "source": [
    "# Suppose it went up\n",
    "phi2 = (fuu - fud) / (S0 * u_factor * (u_factor - d_factor)) \n",
    "psi2 = (phi2 - phi1) * (S0 * u_factor) + psi1\n",
    "\n",
    "phi2, psi2"
   ]
  },
  {
   "cell_type": "markdown",
   "metadata": {},
   "source": [
    "We now need around $0.65$ units of $S$ and it costs an additional $31.4$ which brings the total expenses up to $60.2$"
   ]
  },
  {
   "cell_type": "code",
   "execution_count": 95,
   "metadata": {
    "collapsed": false
   },
   "outputs": [
    {
     "data": {
      "text/plain": [
       "(1.0000000000000004, 110.00000000000006)"
      ]
     },
     "execution_count": 95,
     "metadata": {},
     "output_type": "execute_result"
    }
   ],
   "source": [
    "# Suppose it went up one more time\n",
    "phi3 = (fuuu - fuud) / (S0 * u_factor ** 2 * (u_factor - d_factor))\n",
    "psi3 = (phi3 - phi2) * (S0 * u_factor ** 2) + psi2\n",
    "\n",
    "phi3, psi3"
   ]
  },
  {
   "cell_type": "markdown",
   "metadata": {},
   "source": [
    "At $t=2$, we need to have one unit of $S$ and the total cost of the position is $110$"
   ]
  },
  {
   "cell_type": "markdown",
   "metadata": {},
   "source": [
    "## $t=3$: The stock falls\n",
    "Suppose, at $t=3$, that the stock falls"
   ]
  },
  {
   "cell_type": "code",
   "execution_count": 99,
   "metadata": {
    "collapsed": false
   },
   "outputs": [
    {
     "data": {
      "text/plain": [
       "115.20000000000006"
      ]
     },
     "execution_count": 99,
     "metadata": {},
     "output_type": "execute_result"
    }
   ],
   "source": [
    "# The total value of the position in the stock is\n",
    "(100 * u_factor ** 2 * d_factor) * phi3"
   ]
  },
  {
   "cell_type": "code",
   "execution_count": 101,
   "metadata": {
    "collapsed": false
   },
   "outputs": [
    {
     "data": {
      "text/plain": [
       "-110.00000000000006"
      ]
     },
     "execution_count": 101,
     "metadata": {},
     "output_type": "execute_result"
    }
   ],
   "source": [
    "# We have borrowed a total amount of\n",
    "- psi3"
   ]
  },
  {
   "cell_type": "code",
   "execution_count": 102,
   "metadata": {
    "collapsed": false
   },
   "outputs": [
    {
     "data": {
      "text/plain": [
       "5.2000000000000028"
      ]
     },
     "execution_count": 102,
     "metadata": {},
     "output_type": "execute_result"
    }
   ],
   "source": [
    "# Which leads to a total portfolio value of\n",
    "(100 * u_factor ** 2 * d_factor) * phi3 - psi3"
   ]
  },
  {
   "cell_type": "markdown",
   "metadata": {},
   "source": [
    "The latter being the value of the derivative at $t=3$. We can thus fulfill our obligation. Had the stock gone up was last time, the value of th portfolio would've been the necesary to also fulfill the obligation."
   ]
  },
  {
   "cell_type": "code",
   "execution_count": 96,
   "metadata": {
    "collapsed": false
   },
   "outputs": [
    {
     "data": {
      "text/plain": [
       "(62.800000000000011, 5.2000000000000028)"
      ]
     },
     "execution_count": 96,
     "metadata": {},
     "output_type": "execute_result"
    }
   ],
   "source": [
    "fuuu, fuud"
   ]
  }
 ],
 "metadata": {
  "anaconda-cloud": {},
  "kernelspec": {
   "display_name": "Python [default]",
   "language": "python",
   "name": "python3"
  },
  "language_info": {
   "codemirror_mode": {
    "name": "ipython",
    "version": 3
   },
   "file_extension": ".py",
   "mimetype": "text/x-python",
   "name": "python",
   "nbconvert_exporter": "python",
   "pygments_lexer": "ipython3",
   "version": "3.5.2"
  }
 },
 "nbformat": 4,
 "nbformat_minor": 1
}
