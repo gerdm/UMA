{
 "cells": [
  {
   "cell_type": "markdown",
   "metadata": {},
   "source": [
    "## Gradient Descent"
   ]
  },
  {
   "cell_type": "code",
   "execution_count": 101,
   "metadata": {},
   "outputs": [
    {
     "name": "stdout",
     "output_type": "stream",
     "text": [
      "Total Steps: 207\n"
     ]
    },
    {
     "data": {
      "text/plain": [
       "<matplotlib.collections.PathCollection at 0x12273da58>"
      ]
     },
     "execution_count": 101,
     "metadata": {},
     "output_type": "execute_result"
    },
    {
     "data": {
      "image/png": "[encoded data removed]",
      "text/plain": [
       "<Figure size 432x288 with 1 Axes>"
      ]
     },
     "metadata": {},
     "output_type": "display_data"
    }
   ],
   "source": [
    "def f(x): return np.sin(x)\n",
    "def df(x): return np.cos(x)\n",
    "\n",
    "x0 = 1.5\n",
    "xrange = np.linspace(-2, 2, 100)\n",
    "alpha = 0.1\n",
    "steps = [x0]\n",
    "\n",
    "it = 0\n",
    "while True:\n",
    "    x0 = x0 - alpha * df(x0)\n",
    "    steps.append(x0)\n",
    "    if abs(f(x0) / f(steps[it]) - 1)  < 2e-20:\n",
    "        break\n",
    "    it += 1\n",
    "print(f\"Total Steps: {it}\");\n",
    "steps = np.array(steps)\n",
    "plt.plot(xrange, f(xrange))\n",
    "plt.scatter(steps, f(steps), color=\"tab:red\")"
   ]
  },
  {
   "cell_type": "markdown",
   "metadata": {},
   "source": [
    "## Armijo"
   ]
  },
  {
   "cell_type": "code",
   "execution_count": 146,
   "metadata": {},
   "outputs": [
    {
     "name": "stdout",
     "output_type": "stream",
     "text": [
      "armjijo's alpha at it 0: 0.5\n",
      "armjijo's alpha at it 10: 0.20480000000000007\n",
      "armjijo's alpha at it 20: 0.16384000000000007\n",
      "armjijo's alpha at it 30: 0.16384000000000007\n",
      "armjijo's alpha at it 40: 0.16384000000000007\n",
      "armjijo's alpha at it 50: 0.16384000000000007\n",
      "armjijo's alpha at it 60: 0.16384000000000007\n",
      "armjijo's alpha at it 70: 0.16384000000000007\n",
      "armjijo's alpha at it 80: 0.16384000000000007\n",
      "armjijo's alpha at it 90: 0.20480000000000007\n",
      "armjijo's alpha at it 100: 0.32000000000000006\n",
      "total steps taken 100\n"
     ]
    },
    {
     "data": {
      "text/plain": [
       "<matplotlib.collections.PathCollection at 0x122e80e80>"
      ]
     },
     "execution_count": 146,
     "metadata": {},
     "output_type": "execute_result"
    },
    {
     "data": {
      "image/png": "[encoded data removed]",
      "text/plain": [
       "<Figure size 432x288 with 1 Axes>"
      ]
     },
     "metadata": {},
     "output_type": "display_data"
    }
   ],
   "source": [
    "def f(x): return np.sin(x)\n",
    "def df(x): return np.cos(x)\n",
    "x0 = 1.5\n",
    "xrange = np.linspace(-2, 2, 100)\n",
    "beta = 1.1\n",
    "tau = 0.8\n",
    "\n",
    "steps = [x0]\n",
    "it = 0\n",
    "while True:\n",
    "    alpha = 0.5\n",
    "    while f(x0 + alpha * df(x0)) > f(x0) + alpha * beta * df(x0) ** 2:\n",
    "        alpha = alpha * tau\n",
    "    if it % 10 == 0:\n",
    "        print(f\"armjijo's alpha at it {it}: {alpha}\")\n",
    "    x0 = x0 - alpha * df(x0)\n",
    "    steps.append(x0)\n",
    "    if abs(f(x0) / f(steps[it]) - 1)  < 2e-20:\n",
    "        break\n",
    "    it += 1\n",
    "    \n",
    "print(f\"total steps taken {it}\")\n",
    "steps = np.array(steps)\n",
    "plt.plot(xrange, f(xrange))\n",
    "plt.scatter(steps, f(steps), color=\"tab:red\")"
   ]
  },
  {
   "cell_type": "code",
   "execution_count": 91,
   "metadata": {},
   "outputs": [
    {
     "data": {
      "text/plain": [
       "False"
      ]
     },
     "execution_count": 91,
     "metadata": {},
     "output_type": "execute_result"
    }
   ],
   "source": [
    "f(x0) < 2e-20"
   ]
  }
 ],
 "metadata": {
  "kernelspec": {
   "display_name": "Python 3",
   "language": "python",
   "name": "python3"
  },
  "language_info": {
   "codemirror_mode": {
    "name": "ipython",
    "version": 3
   },
   "file_extension": ".py",
   "mimetype": "text/x-python",
   "name": "python",
   "nbconvert_exporter": "python",
   "pygments_lexer": "ipython3",
   "version": "3.6.5"
  }
 },
 "nbformat": 4,
 "nbformat_minor": 2
}
