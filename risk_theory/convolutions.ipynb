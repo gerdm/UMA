{
 "cells": [
  {
   "cell_type": "code",
   "execution_count": 10,
   "metadata": {
    "collapsed": true
   },
   "outputs": [],
   "source": [
    "import numpy as np\n",
    "import pandas as pd\n",
    "import matplotlib.pyplot as plt\n",
    "from numpy import sqrt"
   ]
  },
  {
   "cell_type": "code",
   "execution_count": 11,
   "metadata": {
    "collapsed": false
   },
   "outputs": [
    {
     "data": {
      "text/html": [
       "<div>\n",
       "<table border=\"1\" class=\"dataframe\">\n",
       "  <thead>\n",
       "    <tr style=\"text-align: right;\">\n",
       "      <th></th>\n",
       "      <th>x1</th>\n",
       "      <th>x2</th>\n",
       "      <th>x3</th>\n",
       "    </tr>\n",
       "  </thead>\n",
       "  <tbody>\n",
       "    <tr>\n",
       "      <th>0</th>\n",
       "      <td>0.5</td>\n",
       "      <td>0.6</td>\n",
       "      <td>0.6</td>\n",
       "    </tr>\n",
       "    <tr>\n",
       "      <th>1</th>\n",
       "      <td>0.1</td>\n",
       "      <td>0.2</td>\n",
       "      <td>0.0</td>\n",
       "    </tr>\n",
       "    <tr>\n",
       "      <th>2</th>\n",
       "      <td>0.2</td>\n",
       "      <td>0.1</td>\n",
       "      <td>0.1</td>\n",
       "    </tr>\n",
       "    <tr>\n",
       "      <th>3</th>\n",
       "      <td>0.2</td>\n",
       "      <td>0.0</td>\n",
       "      <td>0.2</td>\n",
       "    </tr>\n",
       "    <tr>\n",
       "      <th>4</th>\n",
       "      <td>0.0</td>\n",
       "      <td>0.1</td>\n",
       "      <td>0.1</td>\n",
       "    </tr>\n",
       "  </tbody>\n",
       "</table>\n",
       "</div>"
      ],
      "text/plain": [
       "    x1   x2   x3\n",
       "0  0.5  0.6  0.6\n",
       "1  0.1  0.2  0.0\n",
       "2  0.2  0.1  0.1\n",
       "3  0.2  0.0  0.2\n",
       "4  0.0  0.1  0.1"
      ]
     },
     "execution_count": 11,
     "metadata": {},
     "output_type": "execute_result"
    }
   ],
   "source": [
    "n_insured = 3\n",
    "\n",
    "X = {\"x1\": [0.5, 0.1, 0.2, 0.2, 0.0],\n",
    "     \"x2\": [0.6, 0.2, 0.1, 0.0, 0.1],\n",
    "     \"x3\": [0.6, 0.0, 0.1, 0.2, 0.1]}\n",
    "X = pd.DataFrame(X, index = [0,1,2,3,4])\n",
    "X"
   ]
  },
  {
   "cell_type": "code",
   "execution_count": 12,
   "metadata": {
    "collapsed": false
   },
   "outputs": [],
   "source": [
    "f2 = X[[\"x1\",\"x2\"]]\n",
    "\n",
    "def convolution(X, damage, change):\n",
    "    # Correcting for P(x2 = 0) & P(x1 = 0)\n",
    "    probability = 0\n",
    "    # Lower and Upper bounds to be moving throughout the iteration\n",
    "    start_x2 = damage if damage <= max(X.index) else max(X.index)\n",
    "    start_x1 = abs(min(max(X.index) - damage, 0))\n",
    "    # We want to shift positions: x2 should end where x1 starts \n",
    "    # and viceversa\n",
    "    current_x2 = start_x2\n",
    "    current_x1 = start_x1\n",
    "\n",
    "    # Take X1 downwards, X2 upwards\n",
    "    while current_x1 <= start_x2:\n",
    "        f1x = X.iloc[current_x1,0]\n",
    "        f2x = X.iloc[current_x2,1]\n",
    "        probability += f1x*f2x\n",
    "\n",
    "        print(\"{}·{} \".format(round(f1x,2), round(f2x,2)),end=\"\")\n",
    "        current_x1 += change\n",
    "        current_x2 -= change\n",
    "    return probability"
   ]
  },
  {
   "cell_type": "code",
   "execution_count": 13,
   "metadata": {
    "collapsed": false
   },
   "outputs": [
    {
     "name": "stdout",
     "output_type": "stream",
     "text": [
      "f2(0): 0.5·0.6 = 0.3 \n",
      "\n",
      "f2(1): 0.5·0.2 0.1·0.6 = 0.16 \n",
      "\n",
      "f2(2): 0.5·0.1 0.1·0.2 0.2·0.6 = 0.19 \n",
      "\n",
      "f2(3): 0.5·0.0 0.1·0.1 0.2·0.2 0.2·0.6 = 0.17 \n",
      "\n",
      "f2(4): 0.5·0.1 0.1·0.0 0.2·0.1 0.2·0.2 0.0·0.6 = 0.11 \n",
      "\n",
      "f2(5): 0.1·0.1 0.2·0.0 0.2·0.1 0.0·0.2 = 0.03 \n",
      "\n",
      "f2(6): 0.2·0.1 0.2·0.0 0.0·0.1 = 0.02 \n",
      "\n",
      "f2(7): 0.2·0.1 0.0·0.0 = 0.02 \n",
      "\n",
      "f2(8): 0.0·0.1 = 0.0 \n",
      "\n"
     ]
    }
   ],
   "source": [
    "f2_conv = []\n",
    "for i in range(9):\n",
    "    print(\"f2({})\".format(i),end=\": \")\n",
    "    prob = convolution(f2, damage=i, change=1)\n",
    "    f2_conv.append(prob)\n",
    "    print(\"= {}\".format(round(prob,4)), \"\\n\")"
   ]
  },
  {
   "cell_type": "code",
   "execution_count": 14,
   "metadata": {
    "collapsed": false
   },
   "outputs": [
    {
     "data": {
      "text/plain": [
       "0    0.30\n",
       "1    0.16\n",
       "2    0.19\n",
       "3    0.17\n",
       "4    0.11\n",
       "5    0.03\n",
       "6    0.02\n",
       "7    0.02\n",
       "8    0.00\n",
       "Name: x1, dtype: float64"
      ]
     },
     "execution_count": 14,
     "metadata": {},
     "output_type": "execute_result"
    }
   ],
   "source": [
    "# Take the convolution, append to x3 0 initial probabilities for the remaining length\n",
    "f3 = {\"x1\": f2_conv,\n",
    "      \"x3\": np.append(X.x3.values, np.repeat(0, len(f2_conv) - len(X.x3)))}\n",
    "\n",
    "f3 = pd.DataFrame(f3)\n",
    "f3.x1"
   ]
  },
  {
   "cell_type": "code",
   "execution_count": 15,
   "metadata": {
    "collapsed": false
   },
   "outputs": [
    {
     "name": "stdout",
     "output_type": "stream",
     "text": [
      "f3( 0): 0.3·0.6 = 0.18 \n",
      "\n",
      "f3( 1): 0.3·0.0 0.16·0.6 = 0.096 \n",
      "\n",
      "f3( 2): 0.3·0.1 0.16·0.0 0.19·0.6 = 0.144 \n",
      "\n",
      "f3( 3): 0.3·0.2 0.16·0.1 0.19·0.0 0.17·0.6 = 0.178 \n",
      "\n",
      "f3( 4): 0.3·0.1 0.16·0.2 0.19·0.1 0.17·0.0 0.11·0.6 = 0.147 \n",
      "\n",
      "f3( 5): 0.3·0.0 0.16·0.1 0.19·0.2 0.17·0.1 0.11·0.0 0.03·0.6 = 0.089 \n",
      "\n",
      "f3( 6): 0.3·0.0 0.16·0.0 0.19·0.1 0.17·0.2 0.11·0.1 0.03·0.0 0.02·0.6 = 0.076 \n",
      "\n",
      "f3( 7): 0.3·0.0 0.16·0.0 0.19·0.0 0.17·0.1 0.11·0.2 0.03·0.1 0.02·0.0 0.02·0.6 = 0.054 \n",
      "\n",
      "f3( 8): 0.3·0.0 0.16·0.0 0.19·0.0 0.17·0.0 0.11·0.1 0.03·0.2 0.02·0.1 0.02·0.0 0.0·0.6 = 0.019 \n",
      "\n",
      "f3( 9): 0.16·0.0 0.19·0.0 0.17·0.0 0.11·0.0 0.03·0.1 0.02·0.2 0.02·0.1 0.0·0.0 = 0.009 \n",
      "\n",
      "f3(10): 0.19·0.0 0.17·0.0 0.11·0.0 0.03·0.0 0.02·0.1 0.02·0.2 0.0·0.1 = 0.006 \n",
      "\n",
      "f3(11): 0.17·0.0 0.11·0.0 0.03·0.0 0.02·0.0 0.02·0.1 0.0·0.2 = 0.002 \n",
      "\n",
      "f3(12): 0.11·0.0 0.03·0.0 0.02·0.0 0.02·0.0 0.0·0.1 = 0.0 \n",
      "\n",
      "f3(13): 0.03·0.0 0.02·0.0 0.02·0.0 0.0·0.0 = 0.0 \n",
      "\n",
      "f3(14): 0.02·0.0 0.02·0.0 0.0·0.0 = 0.0 \n",
      "\n",
      "f3(15): 0.02·0.0 0.0·0.0 = 0.0 \n",
      "\n",
      "f3(16): 0.0·0.0 = 0.0 \n",
      "\n"
     ]
    }
   ],
   "source": [
    "f3_conv = []\n",
    "for i in range(17):\n",
    "    print(\"f3({:>2})\".format(i),end=\": \")\n",
    "    prob = convolution(f3, damage=i, change=1)\n",
    "    f3_conv.append(prob)\n",
    "    print(\"= {}\".format(round(prob,4)), \"\\n\")\n",
    "f3_conv = pd.DataFrame({\"f(3)\": f3_conv})"
   ]
  },
  {
   "cell_type": "code",
   "execution_count": 16,
   "metadata": {
    "collapsed": false
   },
   "outputs": [
    {
     "data": {
      "image/png": "[encoded data removed]",
      "text/plain": [
       "<matplotlib.figure.Figure at 0x115332e80>"
      ]
     },
     "metadata": {},
     "output_type": "display_data"
    }
   ],
   "source": [
    "f3_conv.plot()\n",
    "plt.show()"
   ]
  },
  {
   "cell_type": "code",
   "execution_count": 17,
   "metadata": {
    "collapsed": false
   },
   "outputs": [
    {
     "data": {
      "image/png": "[encoded data removed]",
      "text/plain": [
       "<matplotlib.figure.Figure at 0x115332908>"
      ]
     },
     "metadata": {},
     "output_type": "display_data"
    }
   ],
   "source": [
    "f3_conv.cumsum().plot()\n",
    "plt.show()"
   ]
  },
  {
   "cell_type": "markdown",
   "metadata": {},
   "source": [
    "$$\n",
    "    \\text{Risk Premium} = \\frac{\\mathbb{E}(s)}{\\text {# Insured}} = \\frac{\\sum^{n}_{i=1}\\mathbb{E}(x_i)}{\\text {# Insured}}\n",
    "$$"
   ]
  },
  {
   "cell_type": "code",
   "execution_count": 48,
   "metadata": {
    "collapsed": false
   },
   "outputs": [
    {
     "name": "stdout",
     "output_type": "stream",
     "text": [
      "E[s] = 3.1000\n",
      "V(s) = 5.4100\n",
      "Prima de Riesgo: 1.0333\n",
      "Coeficiente de Variación: 0.7503\n",
      "Prima Recargada: $1.81\n",
      "Prima 95% confianza: $11.80\n"
     ]
    }
   ],
   "source": [
    "Es = sum(f3_conv.values.flatten() * f3_conv.index) # Expectation\n",
    "risk_premium = Es / n_insured\n",
    "E2s = sum(f3_conv.values.flatten() * f3_conv.index**2)\n",
    "Vs = E2s - Es**2 # Variance\n",
    "c_var = sqrt(Vs)/Es\n",
    "\n",
    "# Risk Premium at 95% confiability\n",
    "M = f3_conv.cumsum().iloc[6:8,0]; m = np.subtract(*M.index) / np.subtract(*M.values)\n",
    "conf_95 = m * (0.95 - M.values[0]) + M.index[0]#; conf_95 /= n_insured\n",
    "\n",
    "print(\"E[s] = {:.4f}\".format(Es))\n",
    "print(\"V(s) = {:.4f}\".format(Vs))\n",
    "print(\"Prima de Riesgo: {:.4f}\".format(risk_premium))\n",
    "print(\"Coeficiente de Variación: {:.4f}\".format(c_var))\n",
    "print(\"Prima Recargada: ${:.2f}\".format(risk_premium * (1 + c_var)))\n",
    "print(\"Prima 95% confianza: ${:.2f}\".format(conf_95 * (1 + c_var)))"
   ]
  },
  {
   "cell_type": "code",
   "execution_count": 47,
   "metadata": {
    "collapsed": false
   },
   "outputs": [
    {
     "data": {
      "text/plain": [
       "0.91000000000000003"
      ]
     },
     "execution_count": 47,
     "metadata": {},
     "output_type": "execute_result"
    }
   ],
   "source": [
    "M.values[0]"
   ]
  }
 ],
 "metadata": {
  "anaconda-cloud": {},
  "kernelspec": {
   "display_name": "Python [default]",
   "language": "python",
   "name": "python3"
  },
  "language_info": {
   "codemirror_mode": {
    "name": "ipython",
    "version": 3
   },
   "file_extension": ".py",
   "mimetype": "text/x-python",
   "name": "python",
   "nbconvert_exporter": "python",
   "pygments_lexer": "ipython3",
   "version": "3.4.5"
  }
 },
 "nbformat": 4,
 "nbformat_minor": 1
}
