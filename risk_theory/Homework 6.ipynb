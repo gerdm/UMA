{
 "cells": [
  {
   "cell_type": "markdown",
   "metadata": {},
   "source": [
    "# Homework 6"
   ]
  },
  {
   "cell_type": "code",
   "execution_count": 70,
   "metadata": {
    "collapsed": false
   },
   "outputs": [
    {
     "data": {
      "text/plain": [
       "'%.8f'"
      ]
     },
     "execution_count": 70,
     "metadata": {},
     "output_type": "execute_result"
    }
   ],
   "source": [
    "import pandas as pd\n",
    "import numpy as np\n",
    "from numpy import exp\n",
    "%precision 8"
   ]
  },
  {
   "cell_type": "code",
   "execution_count": 18,
   "metadata": {
    "collapsed": true
   },
   "outputs": [],
   "source": [
    "table_A = pd.DataFrame({\"num_insured\":[68799, 10325, 820, 51, 5]})\n",
    "table_B = pd.DataFrame({\"claim_amount\":[1000, 2000, 3000],\n",
    "                        \"prob_claim\":[0.2, 0.4, 0.4]})"
   ]
  },
  {
   "cell_type": "code",
   "execution_count": 49,
   "metadata": {
    "collapsed": false
   },
   "outputs": [
    {
     "data": {
      "text/html": [
       "<div>\n",
       "<table border=\"1\" class=\"dataframe\">\n",
       "  <thead>\n",
       "    <tr style=\"text-align: right;\">\n",
       "      <th></th>\n",
       "      <th>num_insured</th>\n",
       "    </tr>\n",
       "  </thead>\n",
       "  <tbody>\n",
       "    <tr>\n",
       "      <th>0</th>\n",
       "      <td>68799</td>\n",
       "    </tr>\n",
       "    <tr>\n",
       "      <th>1</th>\n",
       "      <td>10325</td>\n",
       "    </tr>\n",
       "    <tr>\n",
       "      <th>2</th>\n",
       "      <td>820</td>\n",
       "    </tr>\n",
       "    <tr>\n",
       "      <th>3</th>\n",
       "      <td>51</td>\n",
       "    </tr>\n",
       "    <tr>\n",
       "      <th>4</th>\n",
       "      <td>5</td>\n",
       "    </tr>\n",
       "  </tbody>\n",
       "</table>\n",
       "</div>"
      ],
      "text/plain": [
       "   num_insured\n",
       "0        68799\n",
       "1        10325\n",
       "2          820\n",
       "3           51\n",
       "4            5"
      ]
     },
     "execution_count": 49,
     "metadata": {},
     "output_type": "execute_result"
    }
   ],
   "source": [
    "# Lets assume, N~Poisson(lambda)\n",
    "table_A"
   ]
  },
  {
   "cell_type": "code",
   "execution_count": 28,
   "metadata": {
    "collapsed": false
   },
   "outputs": [],
   "source": [
    "# Expectation E[X] & Variance V(N) for the number of insured\n",
    "EN = sum((table_A.index * table_A.num_insured) / sum(table_A.num_insured))\n",
    "VN = sum(((table_A.index - EN)**2 * table_A.num_insured)/sum(table_A.num_insured))"
   ]
  },
  {
   "cell_type": "code",
   "execution_count": 46,
   "metadata": {
    "collapsed": false
   },
   "outputs": [
    {
     "name": "stdout",
     "output_type": "stream",
     "text": [
      "E[N] ≈ 0.151725\n",
      "V[N] ≈ 0.153780\n"
     ]
    }
   ],
   "source": [
    "print(\"E[N] ≈ {:.6f}\".format(EN))\n",
    "print(\"V[N] ≈ {:.6f}\".format(VN))"
   ]
  },
  {
   "cell_type": "markdown",
   "metadata": {},
   "source": [
    "**Assume $N\\sim pois(\\lambda)$; do a statistical test with panger approximation**\n",
    "\n",
    "By *Panger* \n",
    "$$\n",
    "    \\mathbb{P}(N=n) \\approx (a + \\frac{b}{n})\\mathbb{P}(N=n-1)\n",
    "$$\n",
    "\n",
    "where, for $N \\sim poisson(\\lambda)$, $a = 0$, $b=\\lambda$, and \n",
    "\n",
    "$$\n",
    "    \\mathbb{P}(N=0) = e^{-\\lambda}\n",
    "$$"
   ]
  },
  {
   "cell_type": "code",
   "execution_count": 71,
   "metadata": {
    "collapsed": false
   },
   "outputs": [],
   "source": [
    "total_insured = sum(table_A.num_insured)\n",
    "\n",
    "# Panger approximation\n",
    "Pn = np.zeros(len(table_A))\n",
    "\n",
    "for ix in range(len(Pn)):\n",
    "    if ix == 0:\n",
    "        Pn[ix] = exp(-EN)\n",
    "    else:\n",
    "        Pn[ix] = (EN/ix) * Pn[ix-1]"
   ]
  },
  {
   "cell_type": "code",
   "execution_count": 78,
   "metadata": {
    "collapsed": false
   },
   "outputs": [
    {
     "data": {
      "text/html": [
       "<div>\n",
       "<table border=\"1\" class=\"dataframe\">\n",
       "  <thead>\n",
       "    <tr style=\"text-align: right;\">\n",
       "      <th></th>\n",
       "      <th>PN</th>\n",
       "      <th>expected_insured</th>\n",
       "      <th>observed_insured</th>\n",
       "    </tr>\n",
       "  </thead>\n",
       "  <tbody>\n",
       "    <tr>\n",
       "      <th>0</th>\n",
       "      <td>0.859225</td>\n",
       "      <td>68738.0</td>\n",
       "      <td>68799</td>\n",
       "    </tr>\n",
       "    <tr>\n",
       "      <th>1</th>\n",
       "      <td>0.130366</td>\n",
       "      <td>10429.0</td>\n",
       "      <td>10325</td>\n",
       "    </tr>\n",
       "    <tr>\n",
       "      <th>2</th>\n",
       "      <td>0.009890</td>\n",
       "      <td>791.0</td>\n",
       "      <td>820</td>\n",
       "    </tr>\n",
       "    <tr>\n",
       "      <th>3</th>\n",
       "      <td>0.000500</td>\n",
       "      <td>40.0</td>\n",
       "      <td>51</td>\n",
       "    </tr>\n",
       "    <tr>\n",
       "      <th>4</th>\n",
       "      <td>0.000019</td>\n",
       "      <td>2.0</td>\n",
       "      <td>5</td>\n",
       "    </tr>\n",
       "  </tbody>\n",
       "</table>\n",
       "</div>"
      ],
      "text/plain": [
       "         PN  expected_insured  observed_insured\n",
       "0  0.859225           68738.0             68799\n",
       "1  0.130366           10429.0             10325\n",
       "2  0.009890             791.0               820\n",
       "3  0.000500              40.0                51\n",
       "4  0.000019               2.0                 5"
      ]
     },
     "execution_count": 78,
     "metadata": {},
     "output_type": "execute_result"
    }
   ],
   "source": [
    "test_table = pd.DataFrame({\"PN\":Pn,\n",
    "              \"expected_insured\": np.round(Pn * total_insured, 0),\n",
    "              \"observed_insured\": table_A.num_insured})\n",
    "test_table"
   ]
  },
  {
   "cell_type": "code",
   "execution_count": 88,
   "metadata": {
    "collapsed": false
   },
   "outputs": [
    {
     "data": {
      "text/html": [
       "<div>\n",
       "<table border=\"1\" class=\"dataframe\">\n",
       "  <thead>\n",
       "    <tr style=\"text-align: right;\">\n",
       "      <th></th>\n",
       "      <th>PN</th>\n",
       "      <th>expected_insured</th>\n",
       "      <th>observed_insured</th>\n",
       "    </tr>\n",
       "  </thead>\n",
       "  <tbody>\n",
       "    <tr>\n",
       "      <th>0</th>\n",
       "      <td>0.859225</td>\n",
       "      <td>68738.0</td>\n",
       "      <td>68799.0</td>\n",
       "    </tr>\n",
       "    <tr>\n",
       "      <th>1</th>\n",
       "      <td>0.130366</td>\n",
       "      <td>10429.0</td>\n",
       "      <td>10325.0</td>\n",
       "    </tr>\n",
       "    <tr>\n",
       "      <th>2</th>\n",
       "      <td>0.011447</td>\n",
       "      <td>917.0</td>\n",
       "      <td>988.0</td>\n",
       "    </tr>\n",
       "  </tbody>\n",
       "</table>\n",
       "</div>"
      ],
      "text/plain": [
       "         PN  expected_insured  observed_insured\n",
       "0  0.859225           68738.0           68799.0\n",
       "1  0.130366           10429.0           10325.0\n",
       "2  0.011447             917.0             988.0"
      ]
     },
     "execution_count": 88,
     "metadata": {},
     "output_type": "execute_result"
    }
   ],
   "source": [
    "# If values < 75 => merge them\n",
    "test_table.ix[2,:] = np.sum(test_table.ix[2:,:])\n",
    "test_table = test_table.ix[:2,:]\n",
    "test_table"
   ]
  },
  {
   "cell_type": "code",
   "execution_count": 93,
   "metadata": {
    "collapsed": false
   },
   "outputs": [
    {
     "data": {
      "text/plain": [
       "0.24446831"
      ]
     },
     "execution_count": 93,
     "metadata": {},
     "output_type": "execute_result"
    }
   ],
   "source": [
    "sum((test_table.expected_insured - test_table.observed_insured)**2) / sum(test_table.expected_insured)"
   ]
  },
  {
   "cell_type": "markdown",
   "metadata": {},
   "source": [
    "Our statistic does not pass the $\\chi^2$ test. We reject $H_0$ and, since $\\mathbb{V}(N) > \\mathbb{E}(N)$, we assume that the distribution is a **negative binomial**.\n",
    "\n",
    "For negative binomial, the MME for $r$ and $p$ are:\n",
    "$$\n",
    "    p = \\frac{\\bar{X}}{S^2}\n",
    "$$\n",
    "\n",
    "$$\n",
    "    r = \\frac{\\bar{X}}{S^2 - \\bar{X}}\n",
    "$$\n",
    "\n",
    "Furthermore, recall that \n",
    "$$\n",
    "    R = \\frac{2\\theta\\mathbb{E}(N)\\mathbb{E}(X)}{\\mathbb{E}[N]\\mathbb{V}(X) + \\mathbb{E}^2[X]\\mathbb{V}(N)}\n",
    "$$"
   ]
  },
  {
   "cell_type": "code",
   "execution_count": 125,
   "metadata": {
    "collapsed": false
   },
   "outputs": [],
   "source": [
    "p_nbin = EN / VN\n",
    "r_nbin = EN / (VN - EN)\n",
    "\n",
    "# Since we are assuming a negative binomial, we set the parameters to be:\n",
    "EN = r_nbin * (1 - p_nbin) / p_nbin\n",
    "VN = r_nbin * (1 - p_nbin) / p_nbin ** 2"
   ]
  },
  {
   "cell_type": "code",
   "execution_count": 126,
   "metadata": {
    "collapsed": false
   },
   "outputs": [],
   "source": [
    "EX = sum(table_B.claim_amount * table_B.prob_claim)\n",
    "VX = sum((table_B.claim_amount - EX) ** 2 * table_B.prob_claim)\n",
    "\n",
    "theta = 5 / 100 # fee\n",
    "mu = 100000 # margin\n",
    "\n",
    "R = lambda theta, EN, EX, VN, VX: 2 * theta * EN * EX / (EN * VX + EX**2 * VN)\n",
    "\n",
    "\n",
    "epsilon = exp(-round(R(theta, EN, EX, VN, VX), 8) * mu) # Ruin probability"
   ]
  },
  {
   "cell_type": "code",
   "execution_count": 127,
   "metadata": {
    "collapsed": false
   },
   "outputs": [
    {
     "name": "stdout",
     "output_type": "stream",
     "text": [
      "The ruin probability is: 0.017863\n"
     ]
    }
   ],
   "source": [
    "print(\"The ruin probability is: {:8f}\".format(epsilon))"
   ]
  }
 ],
 "metadata": {
  "anaconda-cloud": {},
  "kernelspec": {
   "display_name": "Python [default]",
   "language": "python",
   "name": "python3"
  },
  "language_info": {
   "codemirror_mode": {
    "name": "ipython",
    "version": 3
   },
   "file_extension": ".py",
   "mimetype": "text/x-python",
   "name": "python",
   "nbconvert_exporter": "python",
   "pygments_lexer": "ipython3",
   "version": "3.4.5"
  }
 },
 "nbformat": 4,
 "nbformat_minor": 1
}
