{
 "cells": [
  {
   "cell_type": "markdown",
   "metadata": {},
   "source": [
    "# Homework #2"
   ]
  },
  {
   "cell_type": "code",
   "execution_count": 1,
   "metadata": {
    "collapsed": false
   },
   "outputs": [],
   "source": [
    "import numpy as np\n",
    "import pandas as pd\n",
    "from matplotlib import pyplot as plt\n",
    "import statsmodels.formula.api as smf"
   ]
  },
  {
   "cell_type": "markdown",
   "metadata": {},
   "source": [
    "****\n",
    "## Exercise 7.16\n",
    "7.16. The demand for roses. * Table 7.6 gives quarterly data on these variables:\n",
    "\n",
    "* $Y$: Quantity of roses sold, dozens\n",
    "* $X_2$: Average wholesale price of roses (\\$/dozen)\n",
    "* $X_3$: Average wholesale price of carnations (\\$/dozen)\n",
    "* $X_4$: Average weekly family disposible income (\\$/dozen)\n",
    "* $X_5$: The trend variable taking values in $\\mathbb{N}$ for the period 1971-II to 1975-II in the Detroid metropolitan area\n",
    "\n",
    "$$\n",
    "Y_t = \\alpha_1 + \\alpha_2 X_{2t} + \\alpha_3 X_{3t} + \\alpha_4 X_{4t} + \\alpha_5 X_{5t} + \\varepsilon_t\n",
    "$$\n",
    "\n",
    "$$\n",
    "\\ln Y_t = \\beta_1 + \\beta_2 \\ln X_{2t} + \\beta_3 \\ln X_{3t} + \\beta_4 \\ln X_{4t} + \\beta_5 \\ln X_{5t} + \\varepsilon_t\n",
    "$$\n",
    "\n",
    "\n",
    "- a. Estimate the parameters of the linear model and interpret the results.\n",
    "\n",
    "\n",
    "- b. Estimate the parameters of the log–linear model and interpret the results.\n",
    "\n",
    "\n",
    "- c. $\\beta_2$ , $\\beta_3$ , and $\\beta_4$ give, respectively, the own-price, cross-price, and income elastici-ties of demand. What are their a priori signs? Do the results concur with the a priori expectations?\n",
    "\n",
    "\n",
    "- d. How would you compute the own-price, cross-price, and income elasticities for the linear model?\n",
    "\n",
    "\n",
    "- e. On the basis of your analysis, which model, if either, would you choose and why?"
   ]
  },
  {
   "cell_type": "code",
   "execution_count": 2,
   "metadata": {
    "collapsed": false
   },
   "outputs": [
    {
     "data": {
      "text/html": [
       "<div>\n",
       "<table border=\"1\" class=\"dataframe\">\n",
       "  <thead>\n",
       "    <tr style=\"text-align: right;\">\n",
       "      <th></th>\n",
       "      <th>Y</th>\n",
       "      <th>X2</th>\n",
       "      <th>X3</th>\n",
       "      <th>X4</th>\n",
       "      <th>X5</th>\n",
       "    </tr>\n",
       "  </thead>\n",
       "  <tbody>\n",
       "    <tr>\n",
       "      <th>0</th>\n",
       "      <td>11484</td>\n",
       "      <td>2.26</td>\n",
       "      <td>3.49</td>\n",
       "      <td>158.11</td>\n",
       "      <td>1</td>\n",
       "    </tr>\n",
       "    <tr>\n",
       "      <th>1</th>\n",
       "      <td>9348</td>\n",
       "      <td>2.54</td>\n",
       "      <td>2.85</td>\n",
       "      <td>173.36</td>\n",
       "      <td>2</td>\n",
       "    </tr>\n",
       "    <tr>\n",
       "      <th>2</th>\n",
       "      <td>8429</td>\n",
       "      <td>3.07</td>\n",
       "      <td>4.06</td>\n",
       "      <td>165.26</td>\n",
       "      <td>3</td>\n",
       "    </tr>\n",
       "    <tr>\n",
       "      <th>3</th>\n",
       "      <td>10079</td>\n",
       "      <td>2.91</td>\n",
       "      <td>3.64</td>\n",
       "      <td>172.92</td>\n",
       "      <td>4</td>\n",
       "    </tr>\n",
       "    <tr>\n",
       "      <th>4</th>\n",
       "      <td>9240</td>\n",
       "      <td>2.73</td>\n",
       "      <td>3.21</td>\n",
       "      <td>178.46</td>\n",
       "      <td>5</td>\n",
       "    </tr>\n",
       "  </tbody>\n",
       "</table>\n",
       "</div>"
      ],
      "text/plain": [
       "       Y    X2    X3      X4  X5\n",
       "0  11484  2.26  3.49  158.11   1\n",
       "1   9348  2.54  2.85  173.36   2\n",
       "2   8429  3.07  4.06  165.26   3\n",
       "3  10079  2.91  3.64  172.92   4\n",
       "4   9240  2.73  3.21  178.46   5"
      ]
     },
     "execution_count": 2,
     "metadata": {},
     "output_type": "execute_result"
    }
   ],
   "source": [
    "headers = \"Y X2 X3 X4 X5\".split(\" \")\n",
    "roses = pd.read_csv(\"roses.csv\", names=headers)\n",
    "roses.head()"
   ]
  },
  {
   "cell_type": "code",
   "execution_count": 5,
   "metadata": {
    "collapsed": false
   },
   "outputs": [
    {
     "name": "stderr",
     "output_type": "stream",
     "text": [
      "/Users/gerardo/anaconda/lib/python3.5/site-packages/scipy/stats/stats.py:1334: UserWarning: kurtosistest only valid for n>=20 ... continuing anyway, n=16\n",
      "  \"anyway, n=%i\" % int(n))\n"
     ]
    },
    {
     "data": {
      "text/html": [
       "<table class=\"simpletable\">\n",
       "<tr>\n",
       "        <td>Model:</td>               <td>OLS</td>         <td>Adj. R-squared:</td>      <td>0.722</td>  \n",
       "</tr>\n",
       "<tr>\n",
       "  <td>Dependent Variable:</td>         <td>Y</td>               <td>AIC:</td>          <td>272.2040</td> \n",
       "</tr>\n",
       "<tr>\n",
       "         <td>Date:</td>        <td>2017-04-01 22:54</td>        <td>BIC:</td>          <td>275.2943</td> \n",
       "</tr>\n",
       "<tr>\n",
       "   <td>No. Observations:</td>         <td>16</td>          <td>Log-Likelihood:</td>     <td>-132.10</td> \n",
       "</tr>\n",
       "<tr>\n",
       "       <td>Df Model:</td>              <td>3</td>           <td>F-statistic:</td>        <td>14.01</td>  \n",
       "</tr>\n",
       "<tr>\n",
       "     <td>Df Residuals:</td>           <td>12</td>        <td>Prob (F-statistic):</td>  <td>0.000316</td> \n",
       "</tr>\n",
       "<tr>\n",
       "      <td>R-squared:</td>            <td>0.778</td>            <td>Scale:</td>        <td>1.1584e+06</td>\n",
       "</tr>\n",
       "</table>\n",
       "<table class=\"simpletable\">\n",
       "<tr>\n",
       "      <td></td>         <th>Coef.</th>   <th>Std.Err.</th>     <th>t</th>     <th>P>|t|</th>   <th>[0.025</th>     <th>0.975]</th>  \n",
       "</tr>\n",
       "<tr>\n",
       "  <th>Intercept</th> <td>13354.6016</td> <td>6485.4190</td> <td>2.0592</td>  <td>0.0619</td>  <td>-775.9124</td> <td>27485.1157</td>\n",
       "</tr>\n",
       "<tr>\n",
       "  <th>X2</th>        <td>-3628.1859</td> <td>635.6282</td>  <td>-5.7080</td> <td>0.0001</td> <td>-5013.1009</td> <td>-2243.2709</td>\n",
       "</tr>\n",
       "<tr>\n",
       "  <th>X3</th>         <td>2633.7548</td> <td>1012.6367</td> <td>2.6009</td>  <td>0.0232</td>  <td>427.4090</td>   <td>4840.1006</td>\n",
       "</tr>\n",
       "<tr>\n",
       "  <th>X4</th>         <td>-19.2539</td>   <td>30.6946</td>  <td>-0.6273</td> <td>0.5422</td>  <td>-86.1318</td>    <td>47.6239</td> \n",
       "</tr>\n",
       "</table>\n",
       "<table class=\"simpletable\">\n",
       "<tr>\n",
       "     <td>Omnibus:</td>    <td>0.765</td>  <td>Durbin-Watson:</td>   <td>2.317</td>\n",
       "</tr>\n",
       "<tr>\n",
       "  <td>Prob(Omnibus):</td> <td>0.682</td> <td>Jarque-Bera (JB):</td> <td>0.712</td>\n",
       "</tr>\n",
       "<tr>\n",
       "       <td>Skew:</td>     <td>0.251</td>     <td>Prob(JB):</td>     <td>0.701</td>\n",
       "</tr>\n",
       "<tr>\n",
       "     <td>Kurtosis:</td>   <td>2.096</td>  <td>Condition No.:</td>   <td>4382</td> \n",
       "</tr>\n",
       "</table>"
      ],
      "text/plain": [
       "<class 'statsmodels.iolib.summary2.Summary'>\n",
       "\"\"\"\n",
       "                  Results: Ordinary least squares\n",
       "===================================================================\n",
       "Model:              OLS              Adj. R-squared:     0.722     \n",
       "Dependent Variable: Y                AIC:                272.2040  \n",
       "Date:               2017-04-01 22:54 BIC:                275.2943  \n",
       "No. Observations:   16               Log-Likelihood:     -132.10   \n",
       "Df Model:           3                F-statistic:        14.01     \n",
       "Df Residuals:       12               Prob (F-statistic): 0.000316  \n",
       "R-squared:          0.778            Scale:              1.1584e+06\n",
       "-------------------------------------------------------------------\n",
       "            Coef.     Std.Err.    t    P>|t|    [0.025     0.975]  \n",
       "-------------------------------------------------------------------\n",
       "Intercept 13354.6016 6485.4190  2.0592 0.0619  -775.9124 27485.1157\n",
       "X2        -3628.1859  635.6282 -5.7080 0.0001 -5013.1009 -2243.2709\n",
       "X3         2633.7548 1012.6367  2.6009 0.0232   427.4090  4840.1006\n",
       "X4          -19.2539   30.6946 -0.6273 0.5422   -86.1318    47.6239\n",
       "-------------------------------------------------------------------\n",
       "Omnibus:                0.765        Durbin-Watson:           2.317\n",
       "Prob(Omnibus):          0.682        Jarque-Bera (JB):        0.712\n",
       "Skew:                   0.251        Prob(JB):                0.701\n",
       "Kurtosis:               2.096        Condition No.:           4382 \n",
       "===================================================================\n",
       "* The condition number is large (4e+03). This might indicate\n",
       "strong multicollinearity or other numerical problems.\n",
       "\"\"\""
      ]
     },
     "execution_count": 5,
     "metadata": {},
     "output_type": "execute_result"
    }
   ],
   "source": [
    "roses_lmod = smf.ols(\"Y ~ X2 + X3 + X4\", data=roses).fit()\n",
    "roses_lmod.summary2()"
   ]
  },
  {
   "cell_type": "code",
   "execution_count": 7,
   "metadata": {
    "collapsed": false
   },
   "outputs": [
    {
     "name": "stdout",
     "output_type": "stream",
     "text": [
      "181.535388583\n",
      "1040.65318104\n",
      "-1298.20857086\n",
      "1024.94392387\n",
      "772.05188607\n",
      "-257.850821976\n",
      "-429.707538882\n",
      "1064.24498686\n",
      "-651.826388468\n",
      "-291.334110653\n",
      "123.169058062\n",
      "1882.45747808\n",
      "-1189.63072839\n",
      "-1340.89400152\n",
      "-857.595186304\n",
      "227.991444475\n"
     ]
    }
   ],
   "source": [
    "for ix, resid in enumerate(roses_lmod.resid):\n",
    "    print(resid)"
   ]
  }
 ],
 "metadata": {
  "kernelspec": {
   "display_name": "Python [default]",
   "language": "python",
   "name": "python3"
  },
  "language_info": {
   "codemirror_mode": {
    "name": "ipython",
    "version": 3
   },
   "file_extension": ".py",
   "mimetype": "text/x-python",
   "name": "python",
   "nbconvert_exporter": "python",
   "pygments_lexer": "ipython3",
   "version": "3.5.3"
  }
 },
 "nbformat": 4,
 "nbformat_minor": 2
}
