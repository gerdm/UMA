{
 "cells": [
  {
   "cell_type": "code",
   "execution_count": 1,
   "metadata": {},
   "outputs": [],
   "source": [
    "import numpy as np\n",
    "import pandas as pd\n",
    "from matplotlib import pyplot as plt\n",
    "import statsmodels.formula.api as smf\n",
    "from statsmodels.api import add_constant\n",
    "from datetime import datetime"
   ]
  },
  {
   "cell_type": "code",
   "execution_count": 15,
   "metadata": {
    "collapsed": true
   },
   "outputs": [],
   "source": [
    "def graph_residuals(model):\n",
    "    plt.figure(figsize=(5, 3.5), dpi=100)\n",
    "    for ix, resid in enumerate(model.resid):\n",
    "        plt.plot([ix, ix], [0, resid], color=\"orange\")\n",
    "        plt.scatter(ix, resid, color=\"orange\")\n",
    "\n",
    "    plt.hlines(0, -1, 15.2, alpha=.5, linestyles=\"dashed\")\n",
    "    plt.xlim(-0.5, 15.2)\n",
    "    plt.title(r\"Residuals between $Y$ and $\\bar Y$\")\n",
    "    plt.show()"
   ]
  },
  {
   "cell_type": "markdown",
   "metadata": {},
   "source": [
    "****\n",
    "## Exercise 7.16\n",
    "Table 7.6 gives quarterly data on these variables:\n",
    "\n",
    "* $Y$: Quantity of roses sold, dozens\n",
    "* $X_2$: Average wholesale price of roses (\\$/dozen)\n",
    "* $X_3$: Average wholesale price of carnations (\\$/dozen)\n",
    "* $X_4$: Average weekly family disposible income (\\$/dozen)\n",
    "* $X_5$: The trend variable taking values in $\\mathbb{N}$ for the period 1971-II to 1975-II in the Detroid metropolitan area\n",
    "\n",
    "$$\n",
    "Y_t = \\alpha_1 + \\alpha_2 X_{2t} + \\alpha_3 X_{3t} + \\alpha_4 X_{4t} + \\alpha_5 X_{5t} + \\varepsilon_t\n",
    "$$\n",
    "\n",
    "$$\n",
    "\\ln Y_t = \\beta_1 + \\beta_2 \\ln X_{2t} + \\beta_3 \\ln X_{3t} + \\beta_4 \\ln X_{4t} + \\beta_5 \\ln X_{5t} + \\varepsilon_t\n",
    "$$\n",
    "\n",
    "\n",
    "- a. Estimate the parameters of the linear model and interpret the results.\n",
    "\n",
    "\n",
    "- b. Estimate the parameters of the log–linear model and interpret the results.\n",
    "\n",
    "\n",
    "- c. $\\beta_2$ , $\\beta_3$ , and $\\beta_4$ give, respectively, the own-price, cross-price, and income elastici-ties of demand. What are their a priori signs? Do the results concur with the a priori expectations?\n",
    "\n",
    "\n",
    "- d. How would you compute the own-price, cross-price, and income elasticities for the linear model?\n",
    "\n",
    "\n",
    "- e. On the basis of your analysis, which model, if either, would you choose and why?"
   ]
  },
  {
   "cell_type": "markdown",
   "metadata": {},
   "source": [
    "#### a) Fitting the linear model"
   ]
  },
  {
   "cell_type": "code",
   "execution_count": 3,
   "metadata": {},
   "outputs": [
    {
     "data": {
      "text/html": [
       "<div>\n",
       "<table border=\"1\" class=\"dataframe\">\n",
       "  <thead>\n",
       "    <tr style=\"text-align: right;\">\n",
       "      <th></th>\n",
       "      <th>Y</th>\n",
       "      <th>X2</th>\n",
       "      <th>X3</th>\n",
       "      <th>X4</th>\n",
       "      <th>X5</th>\n",
       "    </tr>\n",
       "  </thead>\n",
       "  <tbody>\n",
       "    <tr>\n",
       "      <th>0</th>\n",
       "      <td>11484</td>\n",
       "      <td>2.26</td>\n",
       "      <td>3.49</td>\n",
       "      <td>158.11</td>\n",
       "      <td>1</td>\n",
       "    </tr>\n",
       "    <tr>\n",
       "      <th>1</th>\n",
       "      <td>9348</td>\n",
       "      <td>2.54</td>\n",
       "      <td>2.85</td>\n",
       "      <td>173.36</td>\n",
       "      <td>2</td>\n",
       "    </tr>\n",
       "    <tr>\n",
       "      <th>2</th>\n",
       "      <td>8429</td>\n",
       "      <td>3.07</td>\n",
       "      <td>4.06</td>\n",
       "      <td>165.26</td>\n",
       "      <td>3</td>\n",
       "    </tr>\n",
       "    <tr>\n",
       "      <th>3</th>\n",
       "      <td>10079</td>\n",
       "      <td>2.91</td>\n",
       "      <td>3.64</td>\n",
       "      <td>172.92</td>\n",
       "      <td>4</td>\n",
       "    </tr>\n",
       "    <tr>\n",
       "      <th>4</th>\n",
       "      <td>9240</td>\n",
       "      <td>2.73</td>\n",
       "      <td>3.21</td>\n",
       "      <td>178.46</td>\n",
       "      <td>5</td>\n",
       "    </tr>\n",
       "  </tbody>\n",
       "</table>\n",
       "</div>"
      ],
      "text/plain": [
       "       Y    X2    X3      X4  X5\n",
       "0  11484  2.26  3.49  158.11   1\n",
       "1   9348  2.54  2.85  173.36   2\n",
       "2   8429  3.07  4.06  165.26   3\n",
       "3  10079  2.91  3.64  172.92   4\n",
       "4   9240  2.73  3.21  178.46   5"
      ]
     },
     "execution_count": 3,
     "metadata": {},
     "output_type": "execute_result"
    }
   ],
   "source": [
    "roses = pd.read_csv(\"roses.csv\")\n",
    "roses.head()"
   ]
  },
  {
   "cell_type": "code",
   "execution_count": 4,
   "metadata": {},
   "outputs": [
    {
     "name": "stderr",
     "output_type": "stream",
     "text": [
      "/Users/gerardo/anaconda/lib/python3.5/site-packages/scipy/stats/stats.py:1334: UserWarning: kurtosistest only valid for n>=20 ... continuing anyway, n=16\n",
      "  \"anyway, n=%i\" % int(n))\n"
     ]
    },
    {
     "data": {
      "text/html": [
       "<table class=\"simpletable\">\n",
       "<tr>\n",
       "        <td>Model:</td>               <td>OLS</td>         <td>Adj. R-squared:</td>      <td>0.775</td>  \n",
       "</tr>\n",
       "<tr>\n",
       "  <td>Dependent Variable:</td>         <td>Y</td>               <td>AIC:</td>          <td>269.4803</td> \n",
       "</tr>\n",
       "<tr>\n",
       "         <td>Date:</td>        <td>2017-04-13 16:43</td>        <td>BIC:</td>          <td>273.3432</td> \n",
       "</tr>\n",
       "<tr>\n",
       "   <td>No. Observations:</td>         <td>16</td>          <td>Log-Likelihood:</td>     <td>-129.74</td> \n",
       "</tr>\n",
       "<tr>\n",
       "       <td>Df Model:</td>              <td>4</td>           <td>F-statistic:</td>        <td>13.89</td>  \n",
       "</tr>\n",
       "<tr>\n",
       "     <td>Df Residuals:</td>           <td>11</td>        <td>Prob (F-statistic):</td>  <td>0.000281</td> \n",
       "</tr>\n",
       "<tr>\n",
       "      <td>R-squared:</td>            <td>0.835</td>            <td>Scale:</td>        <td>9.4066e+05</td>\n",
       "</tr>\n",
       "</table>\n",
       "<table class=\"simpletable\">\n",
       "<tr>\n",
       "      <td></td>         <th>Coef.</th>   <th>Std.Err.</th>     <th>t</th>     <th>P>|t|</th>   <th>[0.025</th>     <th>0.975]</th>  \n",
       "</tr>\n",
       "<tr>\n",
       "  <th>Intercept</th> <td>10816.0433</td> <td>5988.3484</td> <td>1.8062</td>  <td>0.0983</td> <td>-2364.2228</td> <td>23996.3093</td>\n",
       "</tr>\n",
       "<tr>\n",
       "  <th>X2</th>        <td>-2227.7044</td> <td>920.4657</td>  <td>-2.4202</td> <td>0.0340</td> <td>-4253.6357</td>  <td>-201.7730</td>\n",
       "</tr>\n",
       "<tr>\n",
       "  <th>X3</th>         <td>1251.1412</td> <td>1157.0206</td> <td>1.0813</td>  <td>0.3027</td> <td>-1295.4441</td>  <td>3797.7265</td>\n",
       "</tr>\n",
       "<tr>\n",
       "  <th>X4</th>          <td>6.2830</td>    <td>30.6217</td>  <td>0.2052</td>  <td>0.8412</td>  <td>-61.1148</td>    <td>73.6808</td> \n",
       "</tr>\n",
       "<tr>\n",
       "  <th>X5</th>         <td>-197.3999</td> <td>101.5612</td>  <td>-1.9437</td> <td>0.0780</td>  <td>-420.9347</td>   <td>26.1348</td> \n",
       "</tr>\n",
       "</table>\n",
       "<table class=\"simpletable\">\n",
       "<tr>\n",
       "     <td>Omnibus:</td>    <td>1.968</td>  <td>Durbin-Watson:</td>   <td>2.334</td>\n",
       "</tr>\n",
       "<tr>\n",
       "  <td>Prob(Omnibus):</td> <td>0.374</td> <td>Jarque-Bera (JB):</td> <td>1.094</td>\n",
       "</tr>\n",
       "<tr>\n",
       "       <td>Skew:</td>     <td>0.639</td>     <td>Prob(JB):</td>     <td>0.579</td>\n",
       "</tr>\n",
       "<tr>\n",
       "     <td>Kurtosis:</td>   <td>2.904</td>  <td>Condition No.:</td>   <td>4482</td> \n",
       "</tr>\n",
       "</table>"
      ],
      "text/plain": [
       "<class 'statsmodels.iolib.summary2.Summary'>\n",
       "\"\"\"\n",
       "                  Results: Ordinary least squares\n",
       "===================================================================\n",
       "Model:              OLS              Adj. R-squared:     0.775     \n",
       "Dependent Variable: Y                AIC:                269.4803  \n",
       "Date:               2017-04-13 16:43 BIC:                273.3432  \n",
       "No. Observations:   16               Log-Likelihood:     -129.74   \n",
       "Df Model:           4                F-statistic:        13.89     \n",
       "Df Residuals:       11               Prob (F-statistic): 0.000281  \n",
       "R-squared:          0.835            Scale:              9.4066e+05\n",
       "-------------------------------------------------------------------\n",
       "            Coef.     Std.Err.    t    P>|t|    [0.025     0.975]  \n",
       "-------------------------------------------------------------------\n",
       "Intercept 10816.0433 5988.3484  1.8062 0.0983 -2364.2228 23996.3093\n",
       "X2        -2227.7044  920.4657 -2.4202 0.0340 -4253.6357  -201.7730\n",
       "X3         1251.1412 1157.0206  1.0813 0.3027 -1295.4441  3797.7265\n",
       "X4            6.2830   30.6217  0.2052 0.8412   -61.1148    73.6808\n",
       "X5         -197.3999  101.5612 -1.9437 0.0780  -420.9347    26.1348\n",
       "-------------------------------------------------------------------\n",
       "Omnibus:                1.968        Durbin-Watson:           2.334\n",
       "Prob(Omnibus):          0.374        Jarque-Bera (JB):        1.094\n",
       "Skew:                   0.639        Prob(JB):                0.579\n",
       "Kurtosis:               2.904        Condition No.:           4482 \n",
       "===================================================================\n",
       "* The condition number is large (4e+03). This might indicate\n",
       "strong multicollinearity or other numerical problems.\n",
       "\"\"\""
      ]
     },
     "execution_count": 4,
     "metadata": {},
     "output_type": "execute_result"
    }
   ],
   "source": [
    "roses_lmod = smf.ols(\"Y ~ X2 + X3 + X4 + X5\", data=roses).fit()\n",
    "roses_lmod.summary2()"
   ]
  },
  {
   "cell_type": "markdown",
   "metadata": {},
   "source": [
    "Considering $\\alpha = 0.05$. We see that this model is better than having an *intercept-only model*, since the F-statistic is significant at this $\\alpha$-level.\n",
    "\n",
    "On the other hand, the model fails to assert the significance of the intercept and the variables $X_4$ and $X_5$."
   ]
  },
  {
   "cell_type": "code",
   "execution_count": 16,
   "metadata": {},
   "outputs": [
    {
     "data": {
      "image/png": "[encoded data removed]",
      "text/plain": [
       "<matplotlib.figure.Figure at 0x11ee13d68>"
      ]
     },
     "metadata": {},
     "output_type": "display_data"
    }
   ],
   "source": [
    "graph_residuals(roses_lmod)"
   ]
  },
  {
   "cell_type": "markdown",
   "metadata": {},
   "source": [
    "#### b) Fitting the log-model"
   ]
  },
  {
   "cell_type": "code",
   "execution_count": 6,
   "metadata": {},
   "outputs": [
    {
     "name": "stderr",
     "output_type": "stream",
     "text": [
      "/Users/gerardo/anaconda/lib/python3.5/site-packages/scipy/stats/stats.py:1334: UserWarning: kurtosistest only valid for n>=20 ... continuing anyway, n=16\n",
      "  \"anyway, n=%i\" % int(n))\n"
     ]
    },
    {
     "data": {
      "text/html": [
       "<table class=\"simpletable\">\n",
       "<tr>\n",
       "        <td>Model:</td>               <td>OLS</td>         <td>Adj. R-squared:</td>     <td>0.726</td> \n",
       "</tr>\n",
       "<tr>\n",
       "  <td>Dependent Variable:</td>     <td>np.log(Y)</td>           <td>AIC:</td>          <td>-9.0821</td>\n",
       "</tr>\n",
       "<tr>\n",
       "         <td>Date:</td>        <td>2017-04-13 16:43</td>        <td>BIC:</td>          <td>-5.2191</td>\n",
       "</tr>\n",
       "<tr>\n",
       "   <td>No. Observations:</td>         <td>16</td>          <td>Log-Likelihood:</td>    <td>9.5410</td> \n",
       "</tr>\n",
       "<tr>\n",
       "       <td>Df Model:</td>              <td>4</td>           <td>F-statistic:</td>       <td>10.92</td> \n",
       "</tr>\n",
       "<tr>\n",
       "     <td>Df Residuals:</td>           <td>11</td>        <td>Prob (F-statistic):</td> <td>0.000798</td>\n",
       "</tr>\n",
       "<tr>\n",
       "      <td>R-squared:</td>            <td>0.799</td>            <td>Scale:</td>        <td>0.025840</td>\n",
       "</tr>\n",
       "</table>\n",
       "<table class=\"simpletable\">\n",
       "<tr>\n",
       "       <td></td>       <th>Coef.</th>  <th>Std.Err.</th>    <th>t</th>     <th>P>|t|</th> <th>[0.025</th>  <th>0.975]</th> \n",
       "</tr>\n",
       "<tr>\n",
       "  <th>Intercept</th>  <td>3.5722</td>   <td>4.6952</td>  <td>0.7608</td>  <td>0.4628</td> <td>-6.7618</td> <td>13.9061</td>\n",
       "</tr>\n",
       "<tr>\n",
       "  <th>np.log(X2)</th> <td>-1.1707</td>  <td>0.4883</td>  <td>-2.3974</td> <td>0.0354</td> <td>-2.2455</td> <td>-0.0959</td>\n",
       "</tr>\n",
       "<tr>\n",
       "  <th>np.log(X3)</th> <td>0.7379</td>   <td>0.6529</td>  <td>1.1303</td>  <td>0.2824</td> <td>-0.6990</td> <td>2.1749</td> \n",
       "</tr>\n",
       "<tr>\n",
       "  <th>np.log(X4)</th> <td>1.1532</td>   <td>0.9020</td>  <td>1.2785</td>  <td>0.2274</td> <td>-0.8321</td> <td>3.1385</td> \n",
       "</tr>\n",
       "<tr>\n",
       "  <th>X5</th>         <td>-0.0301</td>  <td>0.0164</td>  <td>-1.8339</td> <td>0.0938</td> <td>-0.0662</td> <td>0.0060</td> \n",
       "</tr>\n",
       "</table>\n",
       "<table class=\"simpletable\">\n",
       "<tr>\n",
       "     <td>Omnibus:</td>    <td>1.619</td>  <td>Durbin-Watson:</td>   <td>2.049</td>\n",
       "</tr>\n",
       "<tr>\n",
       "  <td>Prob(Omnibus):</td> <td>0.445</td> <td>Jarque-Bera (JB):</td> <td>0.324</td>\n",
       "</tr>\n",
       "<tr>\n",
       "       <td>Skew:</td>     <td>0.248</td>     <td>Prob(JB):</td>     <td>0.851</td>\n",
       "</tr>\n",
       "<tr>\n",
       "     <td>Kurtosis:</td>   <td>3.490</td>  <td>Condition No.:</td>   <td>1297</td> \n",
       "</tr>\n",
       "</table>"
      ],
      "text/plain": [
       "<class 'statsmodels.iolib.summary2.Summary'>\n",
       "\"\"\"\n",
       "                 Results: Ordinary least squares\n",
       "=================================================================\n",
       "Model:              OLS              Adj. R-squared:     0.726   \n",
       "Dependent Variable: np.log(Y)        AIC:                -9.0821 \n",
       "Date:               2017-04-13 16:43 BIC:                -5.2191 \n",
       "No. Observations:   16               Log-Likelihood:     9.5410  \n",
       "Df Model:           4                F-statistic:        10.92   \n",
       "Df Residuals:       11               Prob (F-statistic): 0.000798\n",
       "R-squared:          0.799            Scale:              0.025840\n",
       "------------------------------------------------------------------\n",
       "               Coef.   Std.Err.     t     P>|t|    [0.025   0.975]\n",
       "------------------------------------------------------------------\n",
       "Intercept      3.5722    4.6952   0.7608  0.4628  -6.7618  13.9061\n",
       "np.log(X2)    -1.1707    0.4883  -2.3974  0.0354  -2.2455  -0.0959\n",
       "np.log(X3)     0.7379    0.6529   1.1303  0.2824  -0.6990   2.1749\n",
       "np.log(X4)     1.1532    0.9020   1.2785  0.2274  -0.8321   3.1385\n",
       "X5            -0.0301    0.0164  -1.8339  0.0938  -0.0662   0.0060\n",
       "-----------------------------------------------------------------\n",
       "Omnibus:              1.619        Durbin-Watson:           2.049\n",
       "Prob(Omnibus):        0.445        Jarque-Bera (JB):        0.324\n",
       "Skew:                 0.248        Prob(JB):                0.851\n",
       "Kurtosis:             3.490        Condition No.:           1297 \n",
       "=================================================================\n",
       "* The condition number is large (1e+03). This might indicate\n",
       "strong multicollinearity or other numerical problems.\n",
       "\"\"\""
      ]
     },
     "execution_count": 6,
     "metadata": {},
     "output_type": "execute_result"
    }
   ],
   "source": [
    "roses_logmod = smf.ols(\"\"\"np.log(Y) ~\n",
    "                       np.log(X2) + np.log(X3) +\n",
    "                       np.log(X4) + X5\"\"\",\n",
    "                       data=roses).fit()\n",
    "roses_logmod.summary2()"
   ]
  },
  {
   "cell_type": "markdown",
   "metadata": {},
   "source": [
    "The *log-lin* model appears to be significant, as it has a large F-statistic. On the other hand, looking at every coefficient in the model, we see that there appears to be 3 non-significant variables at $\\alpha = 0.05$.\n",
    "\n",
    "Also, this model appears to have a lower $R^2$ than the linear model."
   ]
  },
  {
   "cell_type": "code",
   "execution_count": 17,
   "metadata": {},
   "outputs": [
    {
     "data": {
      "image/png": "[encoded data removed]",
      "text/plain": [
       "<matplotlib.figure.Figure at 0x11ac551d0>"
      ]
     },
     "metadata": {},
     "output_type": "display_data"
    }
   ],
   "source": [
    "graph_residuals(roses_logmod)"
   ]
  },
  {
   "cell_type": "markdown",
   "metadata": {},
   "source": [
    "#### c) Interpreting the Parameters"
   ]
  },
  {
   "cell_type": "code",
   "execution_count": 8,
   "metadata": {},
   "outputs": [
    {
     "data": {
      "text/plain": [
       "Intercept     3.572156\n",
       "np.log(X2)   -1.170728\n",
       "np.log(X3)    0.737938\n",
       "np.log(X4)    1.153213\n",
       "X5           -0.030111\n",
       "dtype: float64"
      ]
     },
     "execution_count": 8,
     "metadata": {},
     "output_type": "execute_result"
    }
   ],
   "source": [
    "roses_logmod.params"
   ]
  },
  {
   "cell_type": "markdown",
   "metadata": {},
   "source": [
    "The values for $\\beta_2$ and $\\beta_3$ do concur with the *a priori* expectations. This is due the fact that, for a small positive change in the price of the roses and the income of families, we would expect that the quantity of roses sold decreases in the former case and increases in the latter.\n",
    "\n",
    "Furthermore, the value of $\\beta_4$ does not match the *a priori* expectations. A small average increase in the whilesale price of roses would not imply, under the *a priori* expectation, an increase in the quantity of roses sold."
   ]
  },
  {
   "cell_type": "markdown",
   "metadata": {},
   "source": [
    "#### d) Linear model computations\n",
    "We could compute $\\beta_2$ by changing X2 one percent and see how $Y$ reacts. The same for rationale could be applied to $\\beta_3$"
   ]
  },
  {
   "cell_type": "markdown",
   "metadata": {},
   "source": [
    "#### e) Choosing a model"
   ]
  },
  {
   "cell_type": "markdown",
   "metadata": {},
   "source": [
    "I would choose neither. Given the existence of non-significant variables, and a possible superfluous variable $X_5$. The best alternative is to decide which variables do give useful information"
   ]
  },
  {
   "cell_type": "markdown",
   "metadata": {},
   "source": [
    "****\n",
    "## Exercise 7.17\n",
    "\n",
    "Wildcats are wells drilled to ﬁnd and produce oil and/or gas in an improved area or to ﬁnd a new reservoir in a ﬁeld previously found to be productive of oil or gas or to extend the limit of a known oil or gas reservoir.\n",
    "\n",
    "- $Y$: The number of wildcats drilled\n",
    "- $X_2$: Price at the wellhead in the previous period\n",
    "- $X_3$: domestic output\n",
    "- $X_4$: GNP constant dollars\n",
    "- $X_5$: Trend variable\n",
    "\n",
    "See if the following model fitst the data:\n",
    "\n",
    "$$\n",
    "    Y_t = \\beta_1 + \\beta_2X_{2_t} + \\beta_3\\ln X_{3t} + \\beta_4X_{4t} + \\beta_5X_{5t} + \\varepsilon_t\n",
    "$$\n",
    "\n",
    "* **a.** Can you offer an a priori rationale to this model?\n",
    "\n",
    "* **b.** Assuming the model is acceptable, estimate the parameters of the model and their standard errors, and obtain $R^2$ and $\\bar R^2$.\n",
    "\n",
    "* **c.** Comment on your results in view of your prior expectations.\n",
    "\n",
    "* **d.** What other speciﬁcation would you suggest to explain wildcat activity?  Why?"
   ]
  },
  {
   "cell_type": "code",
   "execution_count": 9,
   "metadata": {},
   "outputs": [
    {
     "data": {
      "text/html": [
       "<div>\n",
       "<table border=\"1\" class=\"dataframe\">\n",
       "  <thead>\n",
       "    <tr style=\"text-align: right;\">\n",
       "      <th></th>\n",
       "      <th>Y</th>\n",
       "      <th>X2</th>\n",
       "      <th>X3</th>\n",
       "      <th>X4</th>\n",
       "      <th>X5</th>\n",
       "    </tr>\n",
       "  </thead>\n",
       "  <tbody>\n",
       "    <tr>\n",
       "      <th>0</th>\n",
       "      <td>8.01</td>\n",
       "      <td>4.89</td>\n",
       "      <td>5.52</td>\n",
       "      <td>487.67</td>\n",
       "      <td>0</td>\n",
       "    </tr>\n",
       "    <tr>\n",
       "      <th>1</th>\n",
       "      <td>9.06</td>\n",
       "      <td>4.83</td>\n",
       "      <td>5.05</td>\n",
       "      <td>490.59</td>\n",
       "      <td>1</td>\n",
       "    </tr>\n",
       "    <tr>\n",
       "      <th>2</th>\n",
       "      <td>10.31</td>\n",
       "      <td>4.68</td>\n",
       "      <td>5.41</td>\n",
       "      <td>533.55</td>\n",
       "      <td>2</td>\n",
       "    </tr>\n",
       "    <tr>\n",
       "      <th>3</th>\n",
       "      <td>11.76</td>\n",
       "      <td>4.42</td>\n",
       "      <td>6.16</td>\n",
       "      <td>576.57</td>\n",
       "      <td>3</td>\n",
       "    </tr>\n",
       "    <tr>\n",
       "      <th>4</th>\n",
       "      <td>12.43</td>\n",
       "      <td>4.36</td>\n",
       "      <td>6.26</td>\n",
       "      <td>598.62</td>\n",
       "      <td>4</td>\n",
       "    </tr>\n",
       "  </tbody>\n",
       "</table>\n",
       "</div>"
      ],
      "text/plain": [
       "       Y    X2    X3      X4  X5\n",
       "0   8.01  4.89  5.52  487.67   0\n",
       "1   9.06  4.83  5.05  490.59   1\n",
       "2  10.31  4.68  5.41  533.55   2\n",
       "3  11.76  4.42  6.16  576.57   3\n",
       "4  12.43  4.36  6.26  598.62   4"
      ]
     },
     "execution_count": 9,
     "metadata": {},
     "output_type": "execute_result"
    }
   ],
   "source": [
    "wildcat = pd.read_csv(\"wildcat.csv\")\n",
    "wildcat.head()"
   ]
  },
  {
   "cell_type": "markdown",
   "metadata": {},
   "source": [
    "#### a) Rationale"
   ]
  },
  {
   "cell_type": "markdown",
   "metadata": {},
   "source": [
    "The rationale of this model is to explain the number of wildcats drilled based on the price of previous wellheads, the percentual change of the domestic output, the GNP and some trend variable to allocate time."
   ]
  },
  {
   "cell_type": "markdown",
   "metadata": {},
   "source": [
    "#### b) Obtaining $R^2$ and $\\bar R^2$"
   ]
  },
  {
   "cell_type": "code",
   "execution_count": 40,
   "metadata": {},
   "outputs": [
    {
     "data": {
      "image/png": "[encoded data removed]",
      "text/plain": [
       "<matplotlib.figure.Figure at 0x11d5ca320>"
      ]
     },
     "metadata": {},
     "output_type": "display_data"
    }
   ],
   "source": [
    "wcat_model  = smf.ols(\"Y ~ X2 + np.log(X3) + X4 + X5\",\n",
    "                      data=wildcat).fit()\n",
    "\n",
    "plt.plot(wcat_model.fittedvalues, label=r\"$\\bar Y$\")\n",
    "plt.plot(wildcat.Y, label=\"$Y$\")\n",
    "plt.legend()\n",
    "plt.show()"
   ]
  },
  {
   "cell_type": "code",
   "execution_count": 19,
   "metadata": {},
   "outputs": [
    {
     "name": "stdout",
     "output_type": "stream",
     "text": [
      "R^2: 0.6559\n",
      "Adj. R^2: 0.603\n"
     ]
    }
   ],
   "source": [
    "print(\"R^2: {}\".format(round(wcat_model.rsquared,4)))\n",
    "print(\"Adj. R^2: {}\".format(round(wcat_model.rsquared_adj, 4)))"
   ]
  },
  {
   "cell_type": "markdown",
   "metadata": {},
   "source": [
    "#### c) Summary"
   ]
  },
  {
   "cell_type": "markdown",
   "metadata": {},
   "source": [
    "The model seems to explain over half of the variation in the observed data. Further analysis would help us determine whether there are variables missing or variables currently in the model that we do not need."
   ]
  },
  {
   "cell_type": "markdown",
   "metadata": {},
   "source": [
    "#### d) Model Adjustment"
   ]
  },
  {
   "cell_type": "markdown",
   "metadata": {},
   "source": [
    "I would consider the demand of gas and oil as an extra variable to determine the number of wilcats drilled."
   ]
  },
  {
   "cell_type": "markdown",
   "metadata": {},
   "source": [
    "****\n",
    "## Exercise 7.24\n",
    "\n",
    "Table 7.12 gives data for real consumption expenditure, real income, real wealth, and real interest rates for the U.S. for the years 1947–2000.\n",
    "\n",
    "- a. Given the data in the table, estimate the linear consumption function using income, wealth, and interest rate. What is the ﬁtted equation?\n",
    "\n",
    "- b. What do the estimated coefﬁcients indicate about the variables’ relationships to consumption expenditure?"
   ]
  },
  {
   "cell_type": "markdown",
   "metadata": {},
   "source": [
    "#### a) Estimating the model"
   ]
  },
  {
   "cell_type": "code",
   "execution_count": 30,
   "metadata": {},
   "outputs": [
    {
     "data": {
      "text/html": [
       "<div>\n",
       "<table border=\"1\" class=\"dataframe\">\n",
       "  <thead>\n",
       "    <tr style=\"text-align: right;\">\n",
       "      <th></th>\n",
       "      <th>ear</th>\n",
       "      <th>C</th>\n",
       "      <th>Yd</th>\n",
       "      <th>wealth</th>\n",
       "      <th>interest</th>\n",
       "    </tr>\n",
       "  </thead>\n",
       "  <tbody>\n",
       "    <tr>\n",
       "      <th>0</th>\n",
       "      <td>1947</td>\n",
       "      <td>976.4</td>\n",
       "      <td>1035.2</td>\n",
       "      <td>5166.8</td>\n",
       "      <td>-10.351</td>\n",
       "    </tr>\n",
       "    <tr>\n",
       "      <th>1</th>\n",
       "      <td>1948</td>\n",
       "      <td>998.1</td>\n",
       "      <td>1090.0</td>\n",
       "      <td>5280.8</td>\n",
       "      <td>-4.720</td>\n",
       "    </tr>\n",
       "    <tr>\n",
       "      <th>2</th>\n",
       "      <td>1949</td>\n",
       "      <td>1025.3</td>\n",
       "      <td>1095.6</td>\n",
       "      <td>5607.4</td>\n",
       "      <td>1.044</td>\n",
       "    </tr>\n",
       "    <tr>\n",
       "      <th>3</th>\n",
       "      <td>1950</td>\n",
       "      <td>1090.9</td>\n",
       "      <td>1192.7</td>\n",
       "      <td>5759.5</td>\n",
       "      <td>0.407</td>\n",
       "    </tr>\n",
       "    <tr>\n",
       "      <th>4</th>\n",
       "      <td>1951</td>\n",
       "      <td>1107.1</td>\n",
       "      <td>1227.0</td>\n",
       "      <td>6086.1</td>\n",
       "      <td>-5.283</td>\n",
       "    </tr>\n",
       "  </tbody>\n",
       "</table>\n",
       "</div>"
      ],
      "text/plain": [
       "    ear       C      Yd  wealth  interest\n",
       "0  1947   976.4  1035.2  5166.8   -10.351\n",
       "1  1948   998.1  1090.0  5280.8    -4.720\n",
       "2  1949  1025.3  1095.6  5607.4     1.044\n",
       "3  1950  1090.9  1192.7  5759.5     0.407\n",
       "4  1951  1107.1  1227.0  6086.1    -5.283"
      ]
     },
     "execution_count": 30,
     "metadata": {},
     "output_type": "execute_result"
    }
   ],
   "source": [
    "econ = pd.read_table(\"./table_712.txt\", sep=\"\\t\", usecols=range(5))\n",
    "econ.head()"
   ]
  },
  {
   "cell_type": "code",
   "execution_count": 58,
   "metadata": {},
   "outputs": [
    {
     "data": {
      "text/html": [
       "<table class=\"simpletable\">\n",
       "<tr>\n",
       "      <td></td>         <th>coef</th>     <th>std err</th>      <th>t</th>      <th>P>|t|</th>  <th>[0.025</th>    <th>0.975]</th>  \n",
       "</tr>\n",
       "<tr>\n",
       "  <th>Intercept</th> <td>  -20.6333</td> <td>   12.827</td> <td>   -1.609</td> <td> 0.114</td> <td>  -46.397</td> <td>    5.130</td>\n",
       "</tr>\n",
       "<tr>\n",
       "  <th>Yd</th>        <td>    0.7340</td> <td>    0.014</td> <td>   53.376</td> <td> 0.000</td> <td>    0.706</td> <td>    0.762</td>\n",
       "</tr>\n",
       "<tr>\n",
       "  <th>wealth</th>    <td>    0.0360</td> <td>    0.002</td> <td>   14.488</td> <td> 0.000</td> <td>    0.031</td> <td>    0.041</td>\n",
       "</tr>\n",
       "<tr>\n",
       "  <th>interest</th>  <td>   -5.5211</td> <td>    2.307</td> <td>   -2.394</td> <td> 0.020</td> <td>  -10.154</td> <td>   -0.888</td>\n",
       "</tr>\n",
       "</table>"
      ],
      "text/plain": [
       "<class 'statsmodels.iolib.table.SimpleTable'>"
      ]
     },
     "execution_count": 58,
     "metadata": {},
     "output_type": "execute_result"
    }
   ],
   "source": [
    "econ_model = smf.ols(\"C ~ Yd + wealth + interest\",\n",
    "                    data = econ).fit()\n",
    "\n",
    "econ_model.summary().tables[1]"
   ]
  },
  {
   "cell_type": "markdown",
   "metadata": {},
   "source": [
    "#### b) Explaining the coeficients"
   ]
  },
  {
   "cell_type": "markdown",
   "metadata": {},
   "source": [
    "The coefficients in the model express the following:\n",
    "- **Yd**: The for each 1 billion extra dollars available as disposable income, the total consumption grows about 0.70 billions\n",
    "- **wealth**: As total wealth increases, it does not  account for a great impact in consumption\n",
    "- **Interest**: Each percent rise in interest rates affects the total consumption vastly."
   ]
  },
  {
   "cell_type": "markdown",
   "metadata": {},
   "source": [
    "****\n",
    "## Exercise 7.25\n",
    "\n",
    "*Estimating Qualcomm stock prices*. As an example of the polynomial regression, consider data on the weekly stock prices of Qualcomm, Inc., a digital wireless telecommunications designer and manufacturer over the time period of 1995 to 2000. The full data can be found on the textbook’s website in Table 7.13. During the late 1990, technological stocks were particularly proﬁtable, but what type of regression model will best ﬁt these data? Figure 7.4 shows a basic plot of the data for those years. \n",
    "\n",
    "This plot does seem to resemble an elongated S curve; there seems to be a slight increase in the average stock price, but then the rate increases dramatically toward the far right side of the graph. As the demand for more specialized phones dramatically increased and the technology boom got under way, the stock price followed suit and increased at a much faster rate.\n",
    "\n",
    "- a. Estimate a linear model to predict the closing stock price based on time. Does this model seem to ﬁt the data well?\n",
    "\n",
    "- b. Now estimate a squared model by using both time and time-squared. Is this a better ﬁt than in (a)?\n",
    "\n",
    "- c. Finally, ﬁt the following cubic or third-degree polynomial:\n",
    "\n",
    "$$\n",
    "    Y_i = \\beta_0 + \\beta_1X_i + \\beta_2X_i^2 + \\beta_3X_i^3 + \\varepsilon_i\n",
    "$$\n",
    "\n",
    "where $Y$ is the stock price and $X$ represents time. Which model seems to be the best estimator for the stock prices?"
   ]
  },
  {
   "cell_type": "code",
   "execution_count": 177,
   "metadata": {},
   "outputs": [
    {
     "data": {
      "text/html": [
       "<div>\n",
       "<table border=\"1\" class=\"dataframe\">\n",
       "  <thead>\n",
       "    <tr style=\"text-align: right;\">\n",
       "      <th></th>\n",
       "      <th>time</th>\n",
       "      <th>Close</th>\n",
       "      <th>date</th>\n",
       "    </tr>\n",
       "  </thead>\n",
       "  <tbody>\n",
       "    <tr>\n",
       "      <th>0</th>\n",
       "      <td>1</td>\n",
       "      <td>23.47</td>\n",
       "      <td>1995-01-03</td>\n",
       "    </tr>\n",
       "    <tr>\n",
       "      <th>1</th>\n",
       "      <td>2</td>\n",
       "      <td>20.54</td>\n",
       "      <td>1995-01-09</td>\n",
       "    </tr>\n",
       "    <tr>\n",
       "      <th>2</th>\n",
       "      <td>3</td>\n",
       "      <td>22.74</td>\n",
       "      <td>1995-01-16</td>\n",
       "    </tr>\n",
       "    <tr>\n",
       "      <th>3</th>\n",
       "      <td>4</td>\n",
       "      <td>27.88</td>\n",
       "      <td>1995-01-23</td>\n",
       "    </tr>\n",
       "    <tr>\n",
       "      <th>4</th>\n",
       "      <td>5</td>\n",
       "      <td>27.39</td>\n",
       "      <td>1995-01-30</td>\n",
       "    </tr>\n",
       "  </tbody>\n",
       "</table>\n",
       "</div>"
      ],
      "text/plain": [
       "   time  Close       date\n",
       "0     1  23.47 1995-01-03\n",
       "1     2  20.54 1995-01-09\n",
       "2     3  22.74 1995-01-16\n",
       "3     4  27.88 1995-01-23\n",
       "4     5  27.39 1995-01-30"
      ]
     },
     "execution_count": 177,
     "metadata": {},
     "output_type": "execute_result"
    }
   ],
   "source": [
    "qualcomm = pd.read_table(\"qualcomm.txt\", sep=\"\\t\")\n",
    "qualcomm[\"date\"] = [datetime.strptime(date, \"%m/%d/%Y\") for date in qualcomm.ate]\n",
    "del qualcomm[\"ate\"]\n",
    "\n",
    "qualcomm.head()"
   ]
  },
  {
   "cell_type": "code",
   "execution_count": 180,
   "metadata": {},
   "outputs": [
    {
     "data": {
      "image/png": "[encoded data removed]",
      "text/plain": [
       "<matplotlib.figure.Figure at 0x11d7da860>"
      ]
     },
     "metadata": {},
     "output_type": "display_data"
    }
   ],
   "source": [
    "plt.figure(figsize=(7,3), dpi=100)\n",
    "plt.plot(qualcomm.date, qualcomm.Close)\n",
    "plt.xlabel(\"Time\")\n",
    "plt.title(\"Qualcomm's Price\")\n",
    "plt.show()"
   ]
  },
  {
   "cell_type": "code",
   "execution_count": 192,
   "metadata": {},
   "outputs": [],
   "source": [
    "qcom_linear_model = smf.ols(\"Close ~ time\", data=qualcomm).fit()\n",
    "qcom_2nd_model = smf.ols(\"Close ~ time + I(time**2)\", data=qualcomm).fit()\n",
    "qcom_3rd_model = smf.ols(\"Close ~ time + I(time**2) + I(time**3)\", data=qualcomm).fit()\n",
    "\n",
    "qcom_models = [qcom_linear_model,\n",
    "          qcom_2nd_model,\n",
    "          qcom_3rd_model]"
   ]
  },
  {
   "cell_type": "code",
   "execution_count": 181,
   "metadata": {},
   "outputs": [
    {
     "data": {
      "image/png": "[encoded data removed]",
      "text/plain": [
       "<matplotlib.figure.Figure at 0x1192e25c0>"
      ]
     },
     "metadata": {},
     "output_type": "display_data"
    }
   ],
   "source": [
    "qualcomm[[\"date\", \"Close\"]].plot()\n",
    "qcom_linear_model.fittedvalues.plot()\n",
    "qcom_2nd_model.fittedvalues.plot()\n",
    "qcom_3rd_model.fittedvalues.plot()\n",
    "plt.show()"
   ]
  },
  {
   "cell_type": "code",
   "execution_count": 143,
   "metadata": {},
   "outputs": [
    {
     "name": "stdout",
     "output_type": "stream",
     "text": [
      "linear model\n"
     ]
    },
    {
     "data": {
      "text/html": [
       "<table class=\"simpletable\">\n",
       "<tr>\n",
       "      <td></td>         <th>coef</th>     <th>std err</th>      <th>t</th>      <th>P>|t|</th>  <th>[0.025</th>    <th>0.975]</th>  \n",
       "</tr>\n",
       "<tr>\n",
       "  <th>Intercept</th> <td>   -4.6941</td> <td>    6.881</td> <td>   -0.682</td> <td> 0.496</td> <td>  -18.244</td> <td>    8.856</td>\n",
       "</tr>\n",
       "<tr>\n",
       "  <th>time</th>      <td>    0.5805</td> <td>    0.046</td> <td>   12.701</td> <td> 0.000</td> <td>    0.491</td> <td>    0.671</td>\n",
       "</tr>\n",
       "</table>"
      ],
      "text/plain": [
       "<class 'statsmodels.iolib.table.SimpleTable'>"
      ]
     },
     "execution_count": 143,
     "metadata": {},
     "output_type": "execute_result"
    }
   ],
   "source": [
    "print(\"linear model\")\n",
    "qcom_linear_model.summary().tables[1]"
   ]
  },
  {
   "cell_type": "code",
   "execution_count": 145,
   "metadata": {},
   "outputs": [
    {
     "name": "stdout",
     "output_type": "stream",
     "text": [
      "2nd Degree Polynomial\n"
     ]
    },
    {
     "data": {
      "text/html": [
       "<table class=\"simpletable\">\n",
       "<tr>\n",
       "        <td></td>          <th>coef</th>     <th>std err</th>      <th>t</th>      <th>P>|t|</th>  <th>[0.025</th>    <th>0.975]</th>  \n",
       "</tr>\n",
       "<tr>\n",
       "  <th>Intercept</th>    <td>   72.6825</td> <td>    8.147</td> <td>    8.921</td> <td> 0.000</td> <td>   56.639</td> <td>   88.726</td>\n",
       "</tr>\n",
       "<tr>\n",
       "  <th>time</th>         <td>   -1.1915</td> <td>    0.144</td> <td>   -8.266</td> <td> 0.000</td> <td>   -1.475</td> <td>   -0.908</td>\n",
       "</tr>\n",
       "<tr>\n",
       "  <th>I(time ** 2)</th> <td>    0.0068</td> <td>    0.001</td> <td>   12.694</td> <td> 0.000</td> <td>    0.006</td> <td>    0.008</td>\n",
       "</tr>\n",
       "</table>"
      ],
      "text/plain": [
       "<class 'statsmodels.iolib.table.SimpleTable'>"
      ]
     },
     "execution_count": 145,
     "metadata": {},
     "output_type": "execute_result"
    }
   ],
   "source": [
    "print(\"2nd Degree Polynomial\")\n",
    "qcom_2nd_model.summary().tables[1]"
   ]
  },
  {
   "cell_type": "code",
   "execution_count": 146,
   "metadata": {},
   "outputs": [
    {
     "name": "stdout",
     "output_type": "stream",
     "text": [
      "3rd Degree Polynomial\n"
     ]
    },
    {
     "data": {
      "text/html": [
       "<table class=\"simpletable\">\n",
       "<tr>\n",
       "        <td></td>          <th>coef</th>     <th>std err</th>      <th>t</th>      <th>P>|t|</th>  <th>[0.025</th>    <th>0.975]</th>  \n",
       "</tr>\n",
       "<tr>\n",
       "  <th>Intercept</th>    <td>  -10.8543</td> <td>    7.670</td> <td>   -1.415</td> <td> 0.158</td> <td>  -25.959</td> <td>    4.250</td>\n",
       "</tr>\n",
       "<tr>\n",
       "  <th>time</th>         <td>    2.6128</td> <td>    0.254</td> <td>   10.286</td> <td> 0.000</td> <td>    2.113</td> <td>    3.113</td>\n",
       "</tr>\n",
       "<tr>\n",
       "  <th>I(time ** 2)</th> <td>   -0.0296</td> <td>    0.002</td> <td>  -13.094</td> <td> 0.000</td> <td>   -0.034</td> <td>   -0.025</td>\n",
       "</tr>\n",
       "<tr>\n",
       "  <th>I(time ** 3)</th> <td>  9.29e-05</td> <td> 5.69e-06</td> <td>   16.326</td> <td> 0.000</td> <td> 8.17e-05</td> <td>    0.000</td>\n",
       "</tr>\n",
       "</table>"
      ],
      "text/plain": [
       "<class 'statsmodels.iolib.table.SimpleTable'>"
      ]
     },
     "execution_count": 146,
     "metadata": {},
     "output_type": "execute_result"
    }
   ],
   "source": [
    "print(\"3rd Degree Polynomial\")\n",
    "qcom_3rd_model.summary().tables[1]"
   ]
  },
  {
   "cell_type": "markdown",
   "metadata": {},
   "source": [
    "#### 4) Choosing the best model"
   ]
  },
  {
   "cell_type": "code",
   "execution_count": 253,
   "metadata": {},
   "outputs": [
    {
     "name": "stdout",
     "output_type": "stream",
     "text": [
      "                            Close ~ time | R2_adj = 0.38230849211923457\n",
      "               Close ~ time + I(time**2) | R2_adj = 0.6188645887565991\n",
      "  Close ~ time + I(time**2) + I(time**3) | R2_adj = 0.8125417956906624\n"
     ]
    }
   ],
   "source": [
    "for model in qcom_models:\n",
    "    print(\"{: >40} | R2_adj = {}\".format(model.model.formula, model.rsquared_adj))"
   ]
  },
  {
   "cell_type": "markdown",
   "metadata": {},
   "source": [
    "Given the three models. The model that explains the most variation is the cubic model. "
   ]
  }
 ],
 "metadata": {
  "kernelspec": {
   "display_name": "Python [default]",
   "language": "python",
   "name": "python3"
  },
  "language_info": {
   "codemirror_mode": {
    "name": "ipython",
    "version": 3
   },
   "file_extension": ".py",
   "mimetype": "text/x-python",
   "name": "python",
   "nbconvert_exporter": "python",
   "pygments_lexer": "ipython3",
   "version": "3.5.3"
  }
 },
 "nbformat": 4,
 "nbformat_minor": 2
}
