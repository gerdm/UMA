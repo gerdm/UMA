{
 "cells": [
  {
   "cell_type": "markdown",
   "metadata": {},
   "source": [
    "# Econometrics Analysis"
   ]
  },
  {
   "cell_type": "code",
   "execution_count": 1,
   "metadata": {
    "collapsed": true
   },
   "outputs": [],
   "source": [
    "import numpy as np\n",
    "import pandas as pd\n",
    "from matplotlib import pyplot as plt"
   ]
  },
  {
   "cell_type": "code",
   "execution_count": 4,
   "metadata": {
    "collapsed": false
   },
   "outputs": [],
   "source": [
    "beta2 = lambda X, Y: np.sum((X - np.mean(X)) * (Y - np.mean(Y))) \\\n",
    "                     / np.sum((X - np.mean(X))**2)\n",
    "beta1 = lambda X, Y: np.mean(Y) - beta2(X, Y) * np.mean(X)"
   ]
  },
  {
   "cell_type": "code",
   "execution_count": 2,
   "metadata": {
    "collapsed": true
   },
   "outputs": [],
   "source": [
    "t24 = {\"X\": np.arange(80, 260+20, 20),\n",
    "       \"Y\": [70, 65, 90, 95, 110, 115, 120, 140, 155, 150]} \n",
    "\n",
    "t25 = {\"X\": np.arange(80, 260+20, 20),\n",
    "       \"Y\": [55, 88, 90, 80, 118, 120, 145, 135, 145, 175]}\n",
    "\n",
    "t24 = pd.DataFrame(t24)\n",
    "t25 = pd.DataFrame(t25)"
   ]
  },
  {
   "cell_type": "code",
   "execution_count": 3,
   "metadata": {
    "collapsed": false
   },
   "outputs": [
    {
     "data": {
      "image/png": "[encoded data removed]",
      "text/plain": [
       "<matplotlib.figure.Figure at 0x10f5009e8>"
      ]
     },
     "metadata": {},
     "output_type": "display_data"
    }
   ],
   "source": [
    "fig = plt.figure(figsize=(18,5))\n",
    "ax1 = fig.add_subplot(121)\n",
    "plt.scatter(t24.X, t24.Y)\n",
    "plt.title(\"Table 2.4\")\n",
    "\n",
    "ax2 = fig.add_subplot(122)\n",
    "plt.scatter(t25.X, t25.Y)\n",
    "plt.title(\"Table 2.5\")\n",
    "plt.show()"
   ]
  },
  {
   "cell_type": "markdown",
   "metadata": {},
   "source": [
    "# Regressing Tables"
   ]
  },
  {
   "cell_type": "markdown",
   "metadata": {},
   "source": [
    "Given $X, Y \\in \\mathbb{R}^n $ , we regress $X$ on $Y$ using the formula\n",
    "$$\n",
    "    \\beta_1 = \\bar Y - \\hat\\beta_2 \\bar X\\\\\n",
    "    \\beta_2 = \\frac{\\sum_i x_i y_i}{\\sum_i x_i^2}\n",
    "$$\n",
    "\n",
    "where\n",
    "- $x_i := X_i - \\bar X$\n",
    "- $y_i := Y_i - \\bar Y$"
   ]
  },
  {
   "cell_type": "markdown",
   "metadata": {},
   "source": [
    "## $\\mathbb{V}ariances$\n",
    "For $\\beta_1$, $\\beta_2$, $\\epsilon$, their variances are given as:\n",
    "\n",
    "$$\\mathbb{V}(\\epsilon) = \\mathbb{E}[\\epsilon^2]$$\n",
    "$$\\mathbb{V}(\\beta_1) = \\frac{\\sum_i X_i^2}{\\sum_i x_i^2}$$\n",
    "$$\\mathbb{V}(\\beta_2) = \\frac{\\sigma^2}{\\sum_i X_i ^ 2}$$\n",
    "\n",
    "where\n",
    "$$\n",
    "    \\sigma^2 = \\frac{1}{n-2}\\sum_i \\epsilon_i^2\n",
    "$$"
   ]
  },
  {
   "cell_type": "markdown",
   "metadata": {},
   "source": [
    "## Table 2.5"
   ]
  },
  {
   "cell_type": "code",
   "execution_count": 5,
   "metadata": {
    "collapsed": false
   },
   "outputs": [],
   "source": [
    "t25[\"fit\"] = beta1(**t25) + beta2(**t25) * t24.X"
   ]
  },
  {
   "cell_type": "code",
   "execution_count": 6,
   "metadata": {
    "collapsed": false,
    "scrolled": true
   },
   "outputs": [
    {
     "data": {
      "text/html": [
       "<div>\n",
       "<table border=\"1\" class=\"dataframe\">\n",
       "  <thead>\n",
       "    <tr style=\"text-align: right;\">\n",
       "      <th></th>\n",
       "      <th>X</th>\n",
       "      <th>Y</th>\n",
       "      <th>fit</th>\n",
       "    </tr>\n",
       "  </thead>\n",
       "  <tbody>\n",
       "    <tr>\n",
       "      <th>0</th>\n",
       "      <td>80</td>\n",
       "      <td>55</td>\n",
       "      <td>63.254545</td>\n",
       "    </tr>\n",
       "    <tr>\n",
       "      <th>1</th>\n",
       "      <td>100</td>\n",
       "      <td>88</td>\n",
       "      <td>74.775758</td>\n",
       "    </tr>\n",
       "    <tr>\n",
       "      <th>2</th>\n",
       "      <td>120</td>\n",
       "      <td>90</td>\n",
       "      <td>86.296970</td>\n",
       "    </tr>\n",
       "    <tr>\n",
       "      <th>3</th>\n",
       "      <td>140</td>\n",
       "      <td>80</td>\n",
       "      <td>97.818182</td>\n",
       "    </tr>\n",
       "    <tr>\n",
       "      <th>4</th>\n",
       "      <td>160</td>\n",
       "      <td>118</td>\n",
       "      <td>109.339394</td>\n",
       "    </tr>\n",
       "    <tr>\n",
       "      <th>5</th>\n",
       "      <td>180</td>\n",
       "      <td>120</td>\n",
       "      <td>120.860606</td>\n",
       "    </tr>\n",
       "    <tr>\n",
       "      <th>6</th>\n",
       "      <td>200</td>\n",
       "      <td>145</td>\n",
       "      <td>132.381818</td>\n",
       "    </tr>\n",
       "    <tr>\n",
       "      <th>7</th>\n",
       "      <td>220</td>\n",
       "      <td>135</td>\n",
       "      <td>143.903030</td>\n",
       "    </tr>\n",
       "    <tr>\n",
       "      <th>8</th>\n",
       "      <td>240</td>\n",
       "      <td>145</td>\n",
       "      <td>155.424242</td>\n",
       "    </tr>\n",
       "    <tr>\n",
       "      <th>9</th>\n",
       "      <td>260</td>\n",
       "      <td>175</td>\n",
       "      <td>166.945455</td>\n",
       "    </tr>\n",
       "  </tbody>\n",
       "</table>\n",
       "</div>"
      ],
      "text/plain": [
       "     X    Y         fit\n",
       "0   80   55   63.254545\n",
       "1  100   88   74.775758\n",
       "2  120   90   86.296970\n",
       "3  140   80   97.818182\n",
       "4  160  118  109.339394\n",
       "5  180  120  120.860606\n",
       "6  200  145  132.381818\n",
       "7  220  135  143.903030\n",
       "8  240  145  155.424242\n",
       "9  260  175  166.945455"
      ]
     },
     "execution_count": 6,
     "metadata": {},
     "output_type": "execute_result"
    }
   ],
   "source": [
    "t25"
   ]
  },
  {
   "cell_type": "code",
   "execution_count": 7,
   "metadata": {
    "collapsed": false
   },
   "outputs": [
    {
     "data": {
      "image/png": "[encoded data removed]",
      "text/plain": [
       "<matplotlib.figure.Figure at 0x112b5c7f0>"
      ]
     },
     "metadata": {},
     "output_type": "display_data"
    }
   ],
   "source": [
    "plt.figure(dpi=100)\n",
    "plt.scatter(t25.X, t25.Y)\n",
    "plt.title(\"Table 2.5\")\n",
    "beta1_25 = beta1(t25.X, t25.Y)\n",
    "beta2_25 = beta2(t25.X, t25.Y)\n",
    "plt.plot(t25.X, t25.fit, color=\"orange\")\n",
    "plt.text(90, 150, r\"$\\beta_1 = {}$\".format(round(beta1_25, 2)))\n",
    "plt.text(90, 145, r\"$\\beta_2 = {}$\".format(round(beta2_25, 4)))\n",
    "plt.show()"
   ]
  },
  {
   "cell_type": "markdown",
   "metadata": {},
   "source": [
    "# Errors"
   ]
  },
  {
   "cell_type": "code",
   "execution_count": 8,
   "metadata": {
    "collapsed": false
   },
   "outputs": [],
   "source": [
    "t25[\"err\"] = t25.fit - t25.Y"
   ]
  },
  {
   "cell_type": "code",
   "execution_count": 9,
   "metadata": {
    "collapsed": false
   },
   "outputs": [
    {
     "data": {
      "image/png": "[encoded data removed]",
      "text/plain": [
       "<matplotlib.figure.Figure at 0x112e3a860>"
      ]
     },
     "metadata": {},
     "output_type": "display_data"
    }
   ],
   "source": [
    "plt.figure(dpi=100)\n",
    "plt.scatter(t25.X, t25.err, color=\"teal\")\n",
    "plt.hlines(0, min(t25.X)-5, max(t25.X)+5, alpha=0.6, color=\"red\")\n",
    "for e,x in zip(t25.err, t25.X):\n",
    "    plt.plot((x, x), (0, e), color=\"teal\", linestyle=\"dotted\")\n",
    "plt.xlim(min(t25.X)-5, max(t25.X)+5)\n",
    "plt.title(\"Errors in Fit for Table 2.5\")\n",
    "plt.ylabel(r\"$\\epsilon_i$\")\n",
    "plt.show()"
   ]
  },
  {
   "cell_type": "code",
   "execution_count": 13,
   "metadata": {
    "collapsed": false
   },
   "outputs": [
    {
     "name": "stdout",
     "output_type": "stream",
     "text": [
      "***Table 2.4***\n",
      "E[errs]=7.105427357601002e-16\n",
      "sigma(errs)=11.521652869640054\n"
     ]
    }
   ],
   "source": [
    "# Summary of errors\n",
    "print(\"***Table 2.4***\")\n",
    "print(\"E[errs]={}\".format(np.mean(t25.err)))\n",
    "print(\"sigma(errs)={}\".format(np.std(t25.err, ddof=2)))"
   ]
  },
  {
   "cell_type": "code",
   "execution_count": 24,
   "metadata": {
    "collapsed": false
   },
   "outputs": [
    {
     "data": {
      "text/plain": [
       "106.1987878787879"
      ]
     },
     "execution_count": 24,
     "metadata": {},
     "output_type": "execute_result"
    }
   ],
   "source": [
    "np.mean(t24.err**2)"
   ]
  },
  {
   "cell_type": "code",
   "execution_count": 31,
   "metadata": {
    "collapsed": false
   },
   "outputs": [
    {
     "data": {
      "text/plain": [
       "9.7575757575757578"
      ]
     },
     "execution_count": 31,
     "metadata": {},
     "output_type": "execute_result"
    }
   ],
   "source": [
    "sum(t24.X**2) / sum((t24.X - np.mean(t24.X))**2)"
   ]
  },
  {
   "cell_type": "code",
   "execution_count": 23,
   "metadata": {
    "collapsed": false
   },
   "outputs": [
    {
     "data": {
      "text/plain": [
       "106.1987878787879"
      ]
     },
     "execution_count": 23,
     "metadata": {},
     "output_type": "execute_result"
    }
   ],
   "source": [
    "np.var**(t24.err)"
   ]
  },
  {
   "cell_type": "code",
   "execution_count": null,
   "metadata": {
    "collapsed": true
   },
   "outputs": [],
   "source": [
    "t25[\"fit\"] = beta1(**t25) + beta2(**t25) * t25.X"
   ]
  }
 ],
 "metadata": {
  "kernelspec": {
   "display_name": "Python [default]",
   "language": "python",
   "name": "python3"
  },
  "language_info": {
   "codemirror_mode": {
    "name": "ipython",
    "version": 3
   },
   "file_extension": ".py",
   "mimetype": "text/x-python",
   "name": "python",
   "nbconvert_exporter": "python",
   "pygments_lexer": "ipython3",
   "version": "3.5.2"
  }
 },
 "nbformat": 4,
 "nbformat_minor": 2
}
