{
 "cells": [
  {
   "cell_type": "markdown",
   "metadata": {},
   "source": [
    "# Econometrics Analysis\n",
    "#### Gerardo Durán Martín\n",
    "$$\n",
    "    Y = \\beta_1 + \\beta_2 X\n",
    "$$"
   ]
  },
  {
   "cell_type": "code",
   "execution_count": 46,
   "metadata": {
    "collapsed": true
   },
   "outputs": [],
   "source": [
    "import numpy as np\n",
    "import pandas as pd\n",
    "from matplotlib import pyplot as plt\n",
    "from scipy.stats import t, chi2"
   ]
  },
  {
   "cell_type": "code",
   "execution_count": 2,
   "metadata": {
    "collapsed": false
   },
   "outputs": [],
   "source": [
    "beta2 = lambda X, Y: np.sum((X - np.mean(X)) * (Y - np.mean(Y))) \\\n",
    "                     / np.sum((X - np.mean(X))**2)\n",
    "beta1 = lambda X, Y: np.mean(Y) - beta2(X, Y) * np.mean(X)"
   ]
  },
  {
   "cell_type": "code",
   "execution_count": 3,
   "metadata": {
    "collapsed": true
   },
   "outputs": [],
   "source": [
    "t24 = {\"X\": np.arange(80, 260+20, 20),\n",
    "       \"Y\": [70, 65, 90, 95, 110, 115, 120, 140, 155, 150]} \n",
    "\n",
    "t25 = {\"X\": np.arange(80, 260+20, 20),\n",
    "       \"Y\": [55, 88, 90, 80, 118, 120, 145, 135, 145, 175]}\n",
    "\n",
    "t24 = pd.DataFrame(t24)\n",
    "t25 = pd.DataFrame(t25)"
   ]
  },
  {
   "cell_type": "code",
   "execution_count": 4,
   "metadata": {
    "collapsed": false
   },
   "outputs": [
    {
     "data": {
      "image/png": "[encoded data removed]",
      "text/plain": [
       "<matplotlib.figure.Figure at 0x10f482ac8>"
      ]
     },
     "metadata": {},
     "output_type": "display_data"
    }
   ],
   "source": [
    "fig = plt.figure(figsize=(18,5))\n",
    "ax1 = fig.add_subplot(121)\n",
    "plt.scatter(t24.X, t24.Y)\n",
    "plt.title(\"Table 2.4\")\n",
    "\n",
    "ax2 = fig.add_subplot(122)\n",
    "plt.scatter(t25.X, t25.Y)\n",
    "plt.title(\"Table 2.5\")\n",
    "plt.show()"
   ]
  },
  {
   "cell_type": "markdown",
   "metadata": {},
   "source": [
    "# Regressing Tables"
   ]
  },
  {
   "cell_type": "markdown",
   "metadata": {},
   "source": [
    "Given $X, Y \\in \\mathbb{R}^n $ , we regress $X$ on $Y$ using the formula\n",
    "$$\n",
    "    \\beta_1 = \\bar Y - \\hat\\beta_2 \\bar X\\\\\n",
    "    \\beta_2 = \\frac{\\sum_i x_i y_i}{\\sum_i x_i^2}\n",
    "$$\n",
    "\n",
    "where\n",
    "- $x_i := X_i - \\bar X$\n",
    "- $y_i := Y_i - \\bar Y$"
   ]
  },
  {
   "cell_type": "markdown",
   "metadata": {},
   "source": [
    "## $\\mathbb{V}ariances$\n",
    "For $\\beta_1$, $\\beta_2$, $\\epsilon$, their variances are given as:\n",
    "\n",
    "$$\\mathbb{V}(\\epsilon) = \\mathbb{E}[\\epsilon^2]$$\n",
    "$$\\mathbb{V}(\\beta_1) = \\frac{\\sum_i X_i^2}{\\sum_i x_i^2}$$\n",
    "$$\\mathbb{V}(\\beta_2) = \\frac{\\sigma^2}{\\sum_i x_i ^ 2}$$\n",
    "\n",
    "where\n",
    "$$\n",
    "    \\sigma^2 = \\frac{1}{n-2}\\sum_i \\epsilon_i^2\n",
    "$$"
   ]
  },
  {
   "cell_type": "markdown",
   "metadata": {},
   "source": [
    "## Table 2.5"
   ]
  },
  {
   "cell_type": "code",
   "execution_count": 5,
   "metadata": {
    "collapsed": false
   },
   "outputs": [
    {
     "data": {
      "text/html": [
       "<div>\n",
       "<table border=\"1\" class=\"dataframe\">\n",
       "  <thead>\n",
       "    <tr style=\"text-align: right;\">\n",
       "      <th></th>\n",
       "      <th>X</th>\n",
       "      <th>Y</th>\n",
       "      <th>fit</th>\n",
       "    </tr>\n",
       "  </thead>\n",
       "  <tbody>\n",
       "    <tr>\n",
       "      <th>0</th>\n",
       "      <td>80</td>\n",
       "      <td>55</td>\n",
       "      <td>63.254545</td>\n",
       "    </tr>\n",
       "    <tr>\n",
       "      <th>1</th>\n",
       "      <td>100</td>\n",
       "      <td>88</td>\n",
       "      <td>74.775758</td>\n",
       "    </tr>\n",
       "    <tr>\n",
       "      <th>2</th>\n",
       "      <td>120</td>\n",
       "      <td>90</td>\n",
       "      <td>86.296970</td>\n",
       "    </tr>\n",
       "    <tr>\n",
       "      <th>3</th>\n",
       "      <td>140</td>\n",
       "      <td>80</td>\n",
       "      <td>97.818182</td>\n",
       "    </tr>\n",
       "    <tr>\n",
       "      <th>4</th>\n",
       "      <td>160</td>\n",
       "      <td>118</td>\n",
       "      <td>109.339394</td>\n",
       "    </tr>\n",
       "    <tr>\n",
       "      <th>5</th>\n",
       "      <td>180</td>\n",
       "      <td>120</td>\n",
       "      <td>120.860606</td>\n",
       "    </tr>\n",
       "    <tr>\n",
       "      <th>6</th>\n",
       "      <td>200</td>\n",
       "      <td>145</td>\n",
       "      <td>132.381818</td>\n",
       "    </tr>\n",
       "    <tr>\n",
       "      <th>7</th>\n",
       "      <td>220</td>\n",
       "      <td>135</td>\n",
       "      <td>143.903030</td>\n",
       "    </tr>\n",
       "    <tr>\n",
       "      <th>8</th>\n",
       "      <td>240</td>\n",
       "      <td>145</td>\n",
       "      <td>155.424242</td>\n",
       "    </tr>\n",
       "    <tr>\n",
       "      <th>9</th>\n",
       "      <td>260</td>\n",
       "      <td>175</td>\n",
       "      <td>166.945455</td>\n",
       "    </tr>\n",
       "  </tbody>\n",
       "</table>\n",
       "</div>"
      ],
      "text/plain": [
       "     X    Y         fit\n",
       "0   80   55   63.254545\n",
       "1  100   88   74.775758\n",
       "2  120   90   86.296970\n",
       "3  140   80   97.818182\n",
       "4  160  118  109.339394\n",
       "5  180  120  120.860606\n",
       "6  200  145  132.381818\n",
       "7  220  135  143.903030\n",
       "8  240  145  155.424242\n",
       "9  260  175  166.945455"
      ]
     },
     "execution_count": 5,
     "metadata": {},
     "output_type": "execute_result"
    }
   ],
   "source": [
    "t25[\"fit\"] = beta1(**t25) + beta2(**t25) * t24.X\n",
    "t25"
   ]
  },
  {
   "cell_type": "code",
   "execution_count": 28,
   "metadata": {
    "collapsed": false
   },
   "outputs": [],
   "source": [
    "sigma2 = sum((t25.Y - t25.Y.mean())**2) / (len(t25) - 2)\n",
    "var_b1 = sum(t25.X**2) / sum((t25.X - t25.X.mean())**2)\n",
    "var_b2 = sigma2 / sum((t25.X - t25.X.mean())**2)"
   ]
  },
  {
   "cell_type": "code",
   "execution_count": 6,
   "metadata": {
    "collapsed": false
   },
   "outputs": [
    {
     "data": {
      "image/png": "[encoded data removed]",
      "text/plain": [
       "<matplotlib.figure.Figure at 0x112adc908>"
      ]
     },
     "metadata": {},
     "output_type": "display_data"
    }
   ],
   "source": [
    "plt.figure(dpi=100)\n",
    "plt.scatter(t25.X, t25.Y)\n",
    "plt.title(\"Table 2.5\")\n",
    "beta1_25 = beta1(t25.X, t25.Y)\n",
    "beta2_25 = beta2(t25.X, t25.Y)\n",
    "plt.plot(t25.X, t25.fit, color=\"orange\")\n",
    "\n",
    "plt.scatter(np.mean(t25.X), np.mean(t25.Y), color=\"red\")\n",
    "plt.text(90, 150, r\"$\\beta_1 = {}$\".format(round(beta1_25, 2)))\n",
    "plt.text(90, 145, r\"$\\beta_2 = {}$\".format(round(beta2_25, 4)))\n",
    "plt.show()"
   ]
  },
  {
   "cell_type": "markdown",
   "metadata": {},
   "source": [
    " $$\\hat{\\bar{Y}} = \\bar{Y}$$"
   ]
  },
  {
   "cell_type": "code",
   "execution_count": 7,
   "metadata": {
    "collapsed": false
   },
   "outputs": [
    {
     "name": "stdout",
     "output_type": "stream",
     "text": [
      "Bar Hat Y 115.1\n",
      "Bar Y 115.1\n"
     ]
    }
   ],
   "source": [
    "print(\"Bar Hat Y\", np.mean(t25.fit))\n",
    "print(\"Bar Y\", np.mean(t25.Y))"
   ]
  },
  {
   "cell_type": "markdown",
   "metadata": {},
   "source": [
    "$$\n",
    "    \\bar \\epsilon \\approx 0\n",
    "$$"
   ]
  },
  {
   "cell_type": "code",
   "execution_count": 8,
   "metadata": {
    "collapsed": false
   },
   "outputs": [
    {
     "data": {
      "text/plain": [
       "-7.1054273576010019e-15"
      ]
     },
     "execution_count": 8,
     "metadata": {},
     "output_type": "execute_result"
    }
   ],
   "source": [
    "sum(t25.Y - t25.fit)"
   ]
  },
  {
   "cell_type": "markdown",
   "metadata": {},
   "source": [
    "$k_i$ is defined as:\n",
    "\n",
    "$$\n",
    "    k_i := \\frac{x_i}{\\sum_j x_j^2}\n",
    "$$"
   ]
  },
  {
   "cell_type": "code",
   "execution_count": 9,
   "metadata": {
    "collapsed": false
   },
   "outputs": [],
   "source": [
    "x = (t25.X - np.mean(t25.X))\n",
    "y = (t25.Y - np.mean(t25.Y))\n",
    "k = x / sum(x**2)"
   ]
  },
  {
   "cell_type": "markdown",
   "metadata": {},
   "source": [
    "# Errors"
   ]
  },
  {
   "cell_type": "code",
   "execution_count": 10,
   "metadata": {
    "collapsed": false
   },
   "outputs": [],
   "source": [
    "t25[\"err\"] = t25.fit - t25.Y"
   ]
  },
  {
   "cell_type": "code",
   "execution_count": 11,
   "metadata": {
    "collapsed": false
   },
   "outputs": [
    {
     "data": {
      "image/png": "[encoded data removed]",
      "text/plain": [
       "<matplotlib.figure.Figure at 0x112e4a7b8>"
      ]
     },
     "metadata": {},
     "output_type": "display_data"
    }
   ],
   "source": [
    "plt.figure(dpi=100)\n",
    "plt.scatter(t25.X, t25.err, color=\"teal\")\n",
    "plt.hlines(0, min(t25.X)-5, max(t25.X)+5, alpha=0.6, color=\"red\")\n",
    "for e,x in zip(t25.err, t25.X):\n",
    "    plt.plot((x, x), (0, e), color=\"teal\", linestyle=\"dotted\")\n",
    "plt.xlim(min(t25.X)-5, max(t25.X)+5)\n",
    "plt.title(\"Errors in Fit for Table 2.5\")\n",
    "plt.ylabel(r\"$\\epsilon_i$\")\n",
    "plt.show()"
   ]
  },
  {
   "cell_type": "code",
   "execution_count": 12,
   "metadata": {
    "collapsed": false
   },
   "outputs": [
    {
     "name": "stdout",
     "output_type": "stream",
     "text": [
      "***Table 2.5***\n",
      "E[errs]=7.105427357601002e-16\n",
      "sigma(errs)=11.521652869640054\n"
     ]
    }
   ],
   "source": [
    "# Summary of errors\n",
    "print(\"***Table 2.5***\")\n",
    "print(\"E[errs]={}\".format(np.mean(t25.err)))\n",
    "print(\"sigma(errs)={}\".format(np.std(t25.err, ddof=2)))"
   ]
  },
  {
   "cell_type": "markdown",
   "metadata": {},
   "source": [
    "$$R^2$$"
   ]
  },
  {
   "cell_type": "code",
   "execution_count": 20,
   "metadata": {
    "collapsed": false
   },
   "outputs": [
    {
     "data": {
      "text/plain": [
       "0.9115960443533303"
      ]
     },
     "execution_count": 20,
     "metadata": {},
     "output_type": "execute_result"
    }
   ],
   "source": [
    "np.sum((t25.fit - t25.Y.mean())**2) / np.sum((t25.Y - t25.Y.mean())**2)"
   ]
  },
  {
   "cell_type": "markdown",
   "metadata": {},
   "source": [
    "### $\\beta_1, \\beta_2$ $t$-test"
   ]
  },
  {
   "cell_type": "code",
   "execution_count": 65,
   "metadata": {
    "collapsed": false
   },
   "outputs": [],
   "source": [
    "alpha = 0.05\n",
    "## Beta 1\n",
    "t1 = beta1_25 / np.sqrt(var_b1)\n",
    "t2 = beta2_25 / np.sqrt(var_b2)"
   ]
  },
  {
   "cell_type": "code",
   "execution_count": 73,
   "metadata": {
    "collapsed": false
   },
   "outputs": [
    {
     "name": "stdout",
     "output_type": "stream",
     "text": [
      "Rechazamos H0, B1 != 0\n",
      "Rechazamos H0, B2 != 0\n"
     ]
    }
   ],
   "source": [
    "if t1 > -t.isf(1-alpha/2, len(t25) - 2):\n",
    "    print(\"Rechazamos H0, B1 != 0\")\n",
    "    \n",
    "if t2 > -t.isf(1-alpha/2, len(t25) - 2):\n",
    "    print(\"Rechazamos H0, B2 != 0\")"
   ]
  },
  {
   "cell_type": "markdown",
   "metadata": {},
   "source": [
    "### J.B."
   ]
  },
  {
   "cell_type": "code",
   "execution_count": 58,
   "metadata": {
    "collapsed": false
   },
   "outputs": [
    {
     "name": "stdout",
     "output_type": "stream",
     "text": [
      "No Rechazamos H0, los errores se distribuyen normales\n"
     ]
    }
   ],
   "source": [
    "err = t25.Y - t25.fit\n",
    "n = len(t25)\n",
    "Sk = (sum(err**3) / n) / (sum(err**2) / n) ** (3/2)\n",
    "Kt = (sum(err**4) / n) / (sum(err**2) / n) ** 2\n",
    "\n",
    "jb = (Sk**2 / 6 + (Kt - 3)**2 / 24) * n\n",
    "\n",
    "if jb < chi2.isf(1 - alpha, 2):\n",
    "    print(\"No Rechazamos H0, los errores se distribuyen normales\")"
   ]
  }
 ],
 "metadata": {
  "kernelspec": {
   "display_name": "Python [default]",
   "language": "python",
   "name": "python3"
  },
  "language_info": {
   "codemirror_mode": {
    "name": "ipython",
    "version": 3
   },
   "file_extension": ".py",
   "mimetype": "text/x-python",
   "name": "python",
   "nbconvert_exporter": "python",
   "pygments_lexer": "ipython3",
   "version": "3.5.2"
  }
 },
 "nbformat": 4,
 "nbformat_minor": 2
}
