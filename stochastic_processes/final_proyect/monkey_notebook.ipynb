{
 "cells": [
  {
   "cell_type": "markdown",
   "metadata": {},
   "source": [
    "# The infinite-typist monkey"
   ]
  },
  {
   "cell_type": "markdown",
   "metadata": {},
   "source": [
    "1. Suppose there exists an inifinite monkey that randomly types on a keyboard. It generates a lineal stream of characters.\n",
    "\n",
    "2. Each character has the same probability of being typed and they are all independent with respect to one another.\n",
    "\n",
    "3. Let $k$ be the number of keys on the keyboard, and let $N$ be the total number of characters of a desired sentence.\n",
    "\n",
    "4. Let $X_n$ be the total number of correctly typed characters at moment $n$.\n",
    "\n",
    "5. Since the value $X_{n+1}$ depends on $X_n$, this is certainly a Markov Chain.\n",
    "\n",
    "$$\n",
    "\\begin{align}\n",
    "    \\mathbb{P}(X_{n+1} = x+1 \\ | \\ X_n=x) = \\frac{1}{m}\\\\\n",
    "    \\\\\n",
    "    \\mathbb{P}(X_{n+1} = 0 \\ | \\ X_n=x) = \\frac{m - 1}{m}\n",
    "\\end{align}\n",
    "$$"
   ]
  }
 ],
 "metadata": {
  "anaconda-cloud": {},
  "kernelspec": {
   "display_name": "Python [default]",
   "language": "python",
   "name": "python3"
  },
  "language_info": {
   "codemirror_mode": {
    "name": "ipython",
    "version": 3
   },
   "file_extension": ".py",
   "mimetype": "text/x-python",
   "name": "python",
   "nbconvert_exporter": "python",
   "pygments_lexer": "ipython3",
   "version": "3.4.5"
  }
 },
 "nbformat": 4,
 "nbformat_minor": 1
}
