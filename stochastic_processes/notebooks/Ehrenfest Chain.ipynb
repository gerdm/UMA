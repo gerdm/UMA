{
 "cells": [
  {
   "cell_type": "markdown",
   "metadata": {},
   "source": [
    "##### Gerardo Durán Martín"
   ]
  },
  {
   "cell_type": "code",
   "execution_count": 4,
   "metadata": {
    "collapsed": true
   },
   "outputs": [],
   "source": [
    "from sympy import *\n",
    "import numpy as np\n",
    "from numpy.random import choice\n",
    "from scipy.misc import comb\n",
    "init_printing(use_unicode=True)\n",
    "\n",
    "# Ehrenfest Markov Chain\n",
    "def ehrenfest(N):\n",
    "    chain = Matrix(np.zeros((N+1,N+1)))\n",
    "    chain[0,1] = 1\n",
    "    chain[-1,-2] = 1\n",
    "    for row in range(1,N):\n",
    "        chain[row, row - 1] = Rational(row, N)\n",
    "        chain[row, row + 1] = Rational((N - row), N)\n",
    "    return chain    "
   ]
  },
  {
   "cell_type": "code",
   "execution_count": 25,
   "metadata": {
    "collapsed": false
   },
   "outputs": [],
   "source": [
    "chain_size = 4\n",
    "\n",
    "# Ehrenfest's stationary distribution\n",
    "pi = Matrix([comb(chain_size,n)*Rational(1,2)**chain_size\n",
    "             for n in range(0,chain_size+1)]).T\n",
    "\n",
    "# Ehrenfest Chain\n",
    "P = ehrenfest(chain_size)"
   ]
  },
  {
   "cell_type": "code",
   "execution_count": 18,
   "metadata": {
    "collapsed": false
   },
   "outputs": [
    {
     "data": {
      "image/png": "[encoded data removed]",
      "text/latex": [
       "$$\\left[\\begin{matrix}0.0625 & 0.25 & 0.375 & 0.25 & 0.0625\\end{matrix}\\right]$$"
      ],
      "text/plain": [
       "[0.0625  0.25  0.375  0.25  0.0625]"
      ]
     },
     "execution_count": 18,
     "metadata": {},
     "output_type": "execute_result"
    }
   ],
   "source": [
    "pi"
   ]
  },
  {
   "cell_type": "code",
   "execution_count": 12,
   "metadata": {
    "collapsed": false
   },
   "outputs": [
    {
     "data": {
      "image/png": "[encoded data removed]",
      "text/latex": [
       "$$\\left[\\begin{matrix}0.0 & 1 & 0.0 & 0.0 & 0.0\\\\\\frac{1}{4} & 0.0 & \\frac{3}{4} & 0.0 & 0.0\\\\0.0 & \\frac{1}{2} & 0.0 & \\frac{1}{2} & 0.0\\\\0.0 & 0.0 & \\frac{3}{4} & 0.0 & \\frac{1}{4}\\\\0.0 & 0.0 & 0.0 & 1 & 0.0\\end{matrix}\\right]$$"
      ],
      "text/plain": [
       "⎡0.0   1   0.0  0.0  0.0⎤\n",
       "⎢                       ⎥\n",
       "⎢1/4  0.0  3/4  0.0  0.0⎥\n",
       "⎢                       ⎥\n",
       "⎢0.0  1/2  0.0  1/2  0.0⎥\n",
       "⎢                       ⎥\n",
       "⎢0.0  0.0  3/4  0.0  1/4⎥\n",
       "⎢                       ⎥\n",
       "⎣0.0  0.0  0.0   1   0.0⎦"
      ]
     },
     "execution_count": 12,
     "metadata": {},
     "output_type": "execute_result"
    }
   ],
   "source": [
    "P"
   ]
  },
  {
   "cell_type": "markdown",
   "metadata": {},
   "source": [
    "## Powers of $P$"
   ]
  },
  {
   "cell_type": "code",
   "execution_count": 6,
   "metadata": {
    "collapsed": false
   },
   "outputs": [
    {
     "data": {
      "image/png": "[encoded data removed]",
      "text/latex": [
       "$$\\left[\\begin{matrix}\\frac{1}{4} & 0 & \\frac{3}{4} & 0 & 0\\\\0 & \\frac{5}{8} & 0 & \\frac{3}{8} & 0\\\\\\frac{1}{8} & 0 & \\frac{3}{4} & 0 & \\frac{1}{8}\\\\0 & \\frac{3}{8} & 0 & \\frac{5}{8} & 0\\\\0 & 0 & \\frac{3}{4} & 0 & \\frac{1}{4}\\end{matrix}\\right]$$"
      ],
      "text/plain": [
       "⎡1/4   0   3/4   0    0 ⎤\n",
       "⎢                       ⎥\n",
       "⎢ 0   5/8   0   3/8   0 ⎥\n",
       "⎢                       ⎥\n",
       "⎢1/8   0   3/4   0   1/8⎥\n",
       "⎢                       ⎥\n",
       "⎢ 0   3/8   0   5/8   0 ⎥\n",
       "⎢                       ⎥\n",
       "⎣ 0    0   3/4   0   1/4⎦"
      ]
     },
     "execution_count": 6,
     "metadata": {},
     "output_type": "execute_result"
    }
   ],
   "source": [
    "P**2"
   ]
  },
  {
   "cell_type": "code",
   "execution_count": 7,
   "metadata": {
    "collapsed": false
   },
   "outputs": [
    {
     "data": {
      "image/png": "[encoded data removed]",
      "text/latex": [
       "$$\\left[\\begin{matrix}0 & \\frac{5}{8} & 0 & \\frac{3}{8} & 0\\\\\\frac{5}{32} & 0 & \\frac{3}{4} & 0 & \\frac{3}{32}\\\\0 & \\frac{1}{2} & 0 & \\frac{1}{2} & 0\\\\\\frac{3}{32} & 0 & \\frac{3}{4} & 0 & \\frac{5}{32}\\\\0 & \\frac{3}{8} & 0 & \\frac{5}{8} & 0\\end{matrix}\\right]$$"
      ],
      "text/plain": [
       "⎡ 0    5/8   0   3/8   0  ⎤\n",
       "⎢                         ⎥\n",
       "⎢5/32   0   3/4   0   3/32⎥\n",
       "⎢                         ⎥\n",
       "⎢ 0    1/2   0   1/2   0  ⎥\n",
       "⎢                         ⎥\n",
       "⎢3/32   0   3/4   0   5/32⎥\n",
       "⎢                         ⎥\n",
       "⎣ 0    3/8   0   5/8   0  ⎦"
      ]
     },
     "execution_count": 7,
     "metadata": {},
     "output_type": "execute_result"
    }
   ],
   "source": [
    "P**3"
   ]
  },
  {
   "cell_type": "code",
   "execution_count": 9,
   "metadata": {
    "collapsed": false
   },
   "outputs": [
    {
     "data": {
      "image/png": "[encoded data removed]",
      "text/latex": [
       "$$\\left[\\begin{matrix}\\frac{5}{32} & 0 & \\frac{3}{4} & 0 & \\frac{3}{32}\\\\0 & \\frac{17}{32} & 0 & \\frac{15}{32} & 0\\\\\\frac{1}{8} & 0 & \\frac{3}{4} & 0 & \\frac{1}{8}\\\\0 & \\frac{15}{32} & 0 & \\frac{17}{32} & 0\\\\\\frac{3}{32} & 0 & \\frac{3}{4} & 0 & \\frac{5}{32}\\end{matrix}\\right]$$"
      ],
      "text/plain": [
       "⎡5/32  0   3/4  0   3/32⎤\n",
       "⎢                       ⎥\n",
       "⎢      17       15      ⎥\n",
       "⎢ 0    ──   0   ──   0  ⎥\n",
       "⎢      32       32      ⎥\n",
       "⎢                       ⎥\n",
       "⎢1/8   0   3/4  0   1/8 ⎥\n",
       "⎢                       ⎥\n",
       "⎢      15       17      ⎥\n",
       "⎢ 0    ──   0   ──   0  ⎥\n",
       "⎢      32       32      ⎥\n",
       "⎢                       ⎥\n",
       "⎣3/32  0   3/4  0   5/32⎦"
      ]
     },
     "execution_count": 9,
     "metadata": {},
     "output_type": "execute_result"
    }
   ],
   "source": [
    "P**4"
   ]
  },
  {
   "cell_type": "code",
   "execution_count": 28,
   "metadata": {
    "collapsed": false
   },
   "outputs": [
    {
     "data": {
      "image/png": "[encoded data removed]",
      "text/latex": [
       "$$\\left[\\begin{matrix}0.125 & 0 & 0.75 & 0 & 0.125\\\\0 & 0.5 & 0 & 0.5 & 0\\\\0.125 & 0 & 0.75 & 0 & 0.125\\\\0 & 0.5 & 0 & 0.5 & 0\\\\0.125 & 0 & 0.75 & 0 & 0.125\\end{matrix}\\right]$$"
      ],
      "text/plain": [
       "⎡0.125   0   0.75   0   0.125⎤\n",
       "⎢                            ⎥\n",
       "⎢  0    0.5   0    0.5    0  ⎥\n",
       "⎢                            ⎥\n",
       "⎢0.125   0   0.75   0   0.125⎥\n",
       "⎢                            ⎥\n",
       "⎢  0    0.5   0    0.5    0  ⎥\n",
       "⎢                            ⎥\n",
       "⎣0.125   0   0.75   0   0.125⎦"
      ]
     },
     "execution_count": 28,
     "metadata": {},
     "output_type": "execute_result"
    }
   ],
   "source": [
    "N(P ** 100)"
   ]
  },
  {
   "cell_type": "code",
   "execution_count": 30,
   "metadata": {
    "collapsed": false
   },
   "outputs": [
    {
     "data": {
      "image/png": "[encoded data removed]",
      "text/latex": [
       "$$\\left[\\begin{matrix}0 & 0.5 & 0 & 0.5 & 0\\\\0.125 & 0 & 0.75 & 0 & 0.125\\\\0 & 0.5 & 0 & 0.5 & 0\\\\0.125 & 0 & 0.75 & 0 & 0.125\\\\0 & 0.5 & 0 & 0.5 & 0\\end{matrix}\\right]$$"
      ],
      "text/plain": [
       "⎡  0    0.5   0    0.5    0  ⎤\n",
       "⎢                            ⎥\n",
       "⎢0.125   0   0.75   0   0.125⎥\n",
       "⎢                            ⎥\n",
       "⎢  0    0.5   0    0.5    0  ⎥\n",
       "⎢                            ⎥\n",
       "⎢0.125   0   0.75   0   0.125⎥\n",
       "⎢                            ⎥\n",
       "⎣  0    0.5   0    0.5    0  ⎦"
      ]
     },
     "execution_count": 30,
     "metadata": {},
     "output_type": "execute_result"
    }
   ],
   "source": [
    "N(P ** 101)"
   ]
  },
  {
   "cell_type": "code",
   "execution_count": 31,
   "metadata": {
    "collapsed": false
   },
   "outputs": [
    {
     "data": {
      "image/png": "[encoded data removed]",
      "text/latex": [
       "$$\\left[\\begin{matrix}0.125 & 0 & 0.75 & 0 & 0.125\\\\0 & 0.5 & 0 & 0.5 & 0\\\\0.125 & 0 & 0.75 & 0 & 0.125\\\\0 & 0.5 & 0 & 0.5 & 0\\\\0.125 & 0 & 0.75 & 0 & 0.125\\end{matrix}\\right]$$"
      ],
      "text/plain": [
       "⎡0.125   0   0.75   0   0.125⎤\n",
       "⎢                            ⎥\n",
       "⎢  0    0.5   0    0.5    0  ⎥\n",
       "⎢                            ⎥\n",
       "⎢0.125   0   0.75   0   0.125⎥\n",
       "⎢                            ⎥\n",
       "⎢  0    0.5   0    0.5    0  ⎥\n",
       "⎢                            ⎥\n",
       "⎣0.125   0   0.75   0   0.125⎦"
      ]
     },
     "execution_count": 31,
     "metadata": {},
     "output_type": "execute_result"
    }
   ],
   "source": [
    "N(P ** 200)"
   ]
  },
  {
   "cell_type": "code",
   "execution_count": 32,
   "metadata": {
    "collapsed": false
   },
   "outputs": [
    {
     "data": {
      "image/png": "[encoded data removed]",
      "text/latex": [
       "$$\\left[\\begin{matrix}0 & 0.5 & 0 & 0.5 & 0\\\\0.125 & 0 & 0.75 & 0 & 0.125\\\\0 & 0.5 & 0 & 0.5 & 0\\\\0.125 & 0 & 0.75 & 0 & 0.125\\\\0 & 0.5 & 0 & 0.5 & 0\\end{matrix}\\right]$$"
      ],
      "text/plain": [
       "⎡  0    0.5   0    0.5    0  ⎤\n",
       "⎢                            ⎥\n",
       "⎢0.125   0   0.75   0   0.125⎥\n",
       "⎢                            ⎥\n",
       "⎢  0    0.5   0    0.5    0  ⎥\n",
       "⎢                            ⎥\n",
       "⎢0.125   0   0.75   0   0.125⎥\n",
       "⎢                            ⎥\n",
       "⎣  0    0.5   0    0.5    0  ⎦"
      ]
     },
     "execution_count": 32,
     "metadata": {},
     "output_type": "execute_result"
    }
   ],
   "source": [
    "N(P ** 201)"
   ]
  },
  {
   "cell_type": "markdown",
   "metadata": {},
   "source": [
    "## Stationary Distribution Times  $P^n$"
   ]
  },
  {
   "cell_type": "markdown",
   "metadata": {},
   "source": [
    "$\\Pi = \\Pi P$"
   ]
  },
  {
   "cell_type": "code",
   "execution_count": 20,
   "metadata": {
    "collapsed": false
   },
   "outputs": [
    {
     "data": {
      "image/png": "[encoded data removed]",
      "text/latex": [
       "$$\\left[\\begin{matrix}0.0625 & 0.25 & 0.375 & 0.25 & 0.0625\\end{matrix}\\right]$$"
      ],
      "text/plain": [
       "[0.0625  0.25  0.375  0.25  0.0625]"
      ]
     },
     "execution_count": 20,
     "metadata": {},
     "output_type": "execute_result"
    }
   ],
   "source": [
    "pi * P"
   ]
  },
  {
   "cell_type": "markdown",
   "metadata": {},
   "source": [
    "$\\Pi = \\Pi P^2$"
   ]
  },
  {
   "cell_type": "code",
   "execution_count": 21,
   "metadata": {
    "collapsed": false
   },
   "outputs": [
    {
     "data": {
      "image/png": "[encoded data removed]",
      "text/latex": [
       "$$\\left[\\begin{matrix}0.0625 & 0.25 & 0.375 & 0.25 & 0.0625\\end{matrix}\\right]$$"
      ],
      "text/plain": [
       "[0.0625  0.25  0.375  0.25  0.0625]"
      ]
     },
     "execution_count": 21,
     "metadata": {},
     "output_type": "execute_result"
    }
   ],
   "source": [
    "pi * P ** 2"
   ]
  },
  {
   "cell_type": "markdown",
   "metadata": {},
   "source": [
    "$\\Pi = \\Pi P^3$"
   ]
  },
  {
   "cell_type": "code",
   "execution_count": 22,
   "metadata": {
    "collapsed": false
   },
   "outputs": [
    {
     "data": {
      "image/png": "[encoded data removed]",
      "text/latex": [
       "$$\\left[\\begin{matrix}0.0625 & 0.25 & 0.375 & 0.25 & 0.0625\\end{matrix}\\right]$$"
      ],
      "text/plain": [
       "[0.0625  0.25  0.375  0.25  0.0625]"
      ]
     },
     "execution_count": 22,
     "metadata": {},
     "output_type": "execute_result"
    }
   ],
   "source": [
    "pi * P ** 3"
   ]
  },
  {
   "cell_type": "markdown",
   "metadata": {
    "collapsed": true
   },
   "source": [
    "$\\Pi = \\Pi P^{10}$"
   ]
  },
  {
   "cell_type": "code",
   "execution_count": 23,
   "metadata": {
    "collapsed": false
   },
   "outputs": [
    {
     "data": {
      "image/png": "[encoded data removed]",
      "text/latex": [
       "$$\\left[\\begin{matrix}0.0625 & 0.25 & 0.375 & 0.25 & 0.0625\\end{matrix}\\right]$$"
      ],
      "text/plain": [
       "[0.0625  0.25  0.375  0.25  0.0625]"
      ]
     },
     "execution_count": 23,
     "metadata": {},
     "output_type": "execute_result"
    }
   ],
   "source": [
    "pi * P ** 10"
   ]
  },
  {
   "cell_type": "markdown",
   "metadata": {},
   "source": [
    "$\\Pi = \\Pi P^{11}$"
   ]
  },
  {
   "cell_type": "code",
   "execution_count": 24,
   "metadata": {
    "collapsed": false
   },
   "outputs": [
    {
     "data": {
      "image/png": "[encoded data removed]",
      "text/latex": [
       "$$\\left[\\begin{matrix}0.0625 & 0.25 & 0.375 & 0.25 & 0.0625\\end{matrix}\\right]$$"
      ],
      "text/plain": [
       "[0.0625  0.25  0.375  0.25  0.0625]"
      ]
     },
     "execution_count": 24,
     "metadata": {},
     "output_type": "execute_result"
    }
   ],
   "source": [
    "pi * P ** 11"
   ]
  }
 ],
 "metadata": {
  "anaconda-cloud": {},
  "kernelspec": {
   "display_name": "Python [default]",
   "language": "python",
   "name": "python3"
  },
  "language_info": {
   "codemirror_mode": {
    "name": "ipython",
    "version": 3
   },
   "file_extension": ".py",
   "mimetype": "text/x-python",
   "name": "python",
   "nbconvert_exporter": "python",
   "pygments_lexer": "ipython3",
   "version": "3.4.5"
  }
 },
 "nbformat": 4,
 "nbformat_minor": 1
}
