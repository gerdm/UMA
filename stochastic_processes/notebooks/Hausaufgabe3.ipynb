{
 "cells": [
  {
   "cell_type": "markdown",
   "metadata": {},
   "source": [
    "# Homework 3 Notebook"
   ]
  },
  {
   "cell_type": "code",
   "execution_count": 8,
   "metadata": {
    "collapsed": false
   },
   "outputs": [],
   "source": [
    "%precision 6\n",
    "\n",
    "import numpy as np\n",
    "from scipy import stats"
   ]
  },
  {
   "cell_type": "code",
   "execution_count": 4,
   "metadata": {
    "collapsed": true
   },
   "outputs": [],
   "source": [
    "##### Functions #####\n",
    "# Poisson process\n",
    "poispr = lambda t, n, lmbd: stats.poisson.pmf(n, mu=t*lmbd)"
   ]
  },
  {
   "cell_type": "markdown",
   "metadata": {},
   "source": [
    "### 3)\n",
    "**Let $\\{N_t\\}_{t\\geq0}$ a *Poisson process* with $\\lambda=4$**"
   ]
  },
  {
   "cell_type": "markdown",
   "metadata": {},
   "source": [
    "**3.d Compute $\\mathbb{P}(N_3 \\leq 3)$**"
   ]
  },
  {
   "cell_type": "code",
   "execution_count": 12,
   "metadata": {
    "collapsed": false
   },
   "outputs": [
    {
     "data": {
      "text/plain": [
       "0.002292"
      ]
     },
     "execution_count": 12,
     "metadata": {},
     "output_type": "execute_result"
    }
   ],
   "source": [
    "sum([poispr(3, n, 4) for n in range(0, 3 + 1)])"
   ]
  },
  {
   "cell_type": "markdown",
   "metadata": {},
   "source": [
    "**3.e Compute $\\mathbb{P}(N_1 > 3 \\ | \\ N_2 \\geq 2)$**\n",
    "$$\n",
    "    \\begin{split}\n",
    "    \\mathbb{P}(N_1 > 3 \\ | \\ N_2 \\geq 2) &= \\mathbb{P}(N_1 \\geq 4 \\ | \\ N_2 \\geq 2) \\\\\n",
    "                                         & = \\frac{\\mathbb{P}(N_1 \\geq 4, N_2 \\geq 2)}{\\mathbb{P}(N_2 \\geq 2)} \\\\\n",
    "                                         &= \\frac{1}{\\mathbb{P}(N_2 \\geq 2)}\\sum_{n=4}^{\\infty}\\sum_{k=2}^{\\infty}\\mathbb{P}(N_2 = k, N_1=n) \\\\\n",
    "                                         &= \\frac{1}{\\mathbb{P}(N_2 \\geq 2)}\\sum_{n=4}^{\\infty}\\mathbb{P}(N_1=n)\\sum_{k=2}^{\\infty}\\mathbb{P}(N_1 = k-n) \\\\\n",
    "                                         &= \\frac{1 - \\mathbb{P}(N_1 \\leq 3)}{1 - \\mathbb{P}(N_1 \\leq 1)}\n",
    "    \\end{split}\n",
    "$$"
   ]
  },
  {
   "cell_type": "code",
   "execution_count": 20,
   "metadata": {
    "collapsed": false
   },
   "outputs": [
    {
     "data": {
      "text/plain": [
       "0.568246"
      ]
     },
     "execution_count": 20,
     "metadata": {},
     "output_type": "execute_result"
    }
   ],
   "source": [
    "# Theoretical Approximation\n",
    "e3_ans_num = 1 - sum([poispr(1, n, 4) for n in range(0, 3+1)])\n",
    "e3_ans_den = 1 - sum([poispr(2, n, 4) for n in range(0, 1+1)])\n",
    "\n",
    "e3_ans_num / e3_ans_den"
   ]
  },
  {
   "cell_type": "code",
   "execution_count": 19,
   "metadata": {
    "collapsed": false
   },
   "outputs": [
    {
     "data": {
      "text/plain": [
       "0.568246"
      ]
     },
     "execution_count": 19,
     "metadata": {},
     "output_type": "execute_result"
    }
   ],
   "source": [
    "# A second way to compute it (numerical Approximation)\n",
    "\n",
    "num_prob = 0\n",
    "for n in range(4, 101):\n",
    "    PN1_1 = poispr(1, n, 4)\n",
    "    for k in range(2, 101):\n",
    "        PN1_2 = poispr(1, k-n, 4)\n",
    "        num_prob += PN1_1 * PN1_2\n",
    "        \n",
    "num_prob /= (1 - sum([poispr(2, n, 4) for n in range(0, 2)])); num_prob"
   ]
  },
  {
   "cell_type": "markdown",
   "metadata": {},
   "source": [
    "------------\n",
    "**3.f Compute $\\mathbb{P}(N_3 \\geq 4 | N_2 > 1)$**\n",
    "\n",
    "$$\n",
    "    \\begin{split}\n",
    "    \\mathbb{P}(N_3 \\geq 4 | N_2 > 1) &= \\mathbb{P}(N_3 \\geq 4 \\ | \\ N_2 \\geq 2) \\\\\n",
    "                                     &= \\frac{1}{1 - \\mathbb{P}(N_1 \\leq 1)}\\sum_{k=2}^{\\infty}\\left[\\mathbb{P}(N_2 = k)\\sum_{n=4}^{\\infty}\\mathbb{P}(N_1 = n-k)\\right] \\\\\n",
    "                                     &= \\frac{1}{1 - \\mathbb{P}(N_1 \\leq 1)}\\left[\\mathbb{P}(N_2 = 2)[1 - \\mathbb{P}(N_1=0) - \\mathbb{P}(N_1=1)] + \\\\ \\mathbb{P}(N_2 = 3)[1 - \\mathbb{P}(N_1=0)] + \\left(1 - \\sum_{k=0}^{3}\\mathbb{P}(N_2 = k)\\right) \\right]\n",
    "    \\end{split}\n",
    "$$\n",
    "\n",
    "Denote\n",
    "$$A:= \\mathbb{P}(N_2 = 2)[1 - \\mathbb{P}(N_1=0) - \\mathbb{P}(N_1=1)]$$\n",
    "\n",
    "$$B:= \\mathbb{P}(N_2 = 3)[1 - \\mathbb{P}(N_1=0)]$$\n",
    "\n",
    "$$C:= \\left(1 - \\sum_{k=0}^{3}\\mathbb{P}(N_2 = k)\\right)$$"
   ]
  },
  {
   "cell_type": "code",
   "execution_count": 24,
   "metadata": {
    "collapsed": false
   },
   "outputs": [
    {
     "data": {
      "text/plain": [
       "0.998488"
      ]
     },
     "execution_count": 24,
     "metadata": {},
     "output_type": "execute_result"
    }
   ],
   "source": [
    "lmda = 4\n",
    "\n",
    "f3_ans_den = 1 - sum([poispr(2, n, lmda) for n in range(0, 1 + 1)])\n",
    "\n",
    "A = poispr(2, 2, lmda)*(1 - poispr(1, 0, lmda) - poispr(1, 1, lmda))\n",
    "B = poispr(2, 3, lmda) * (1 - poispr(1, 0, lmda))\n",
    "C = 1 - sum([poispr(2, n, lmda) for n in range(0, 3 + 1)])\n",
    "\n",
    "f3_ans = (A + B + C) / f3_ans_den; f3_ans"
   ]
  },
  {
   "cell_type": "code",
   "execution_count": 28,
   "metadata": {
    "collapsed": false
   },
   "outputs": [
    {
     "data": {
      "text/plain": [
       "0.998488"
      ]
     },
     "execution_count": 28,
     "metadata": {},
     "output_type": "execute_result"
    }
   ],
   "source": [
    "f3_ans_num = 0\n",
    "for k in range(2, 101):\n",
    "    PN2 = poispr(2, k, lmda)\n",
    "    for n in range(4, 101):\n",
    "        PN1 = poispr(1, n-k, lmda)\n",
    "        f3_ans_num += PN2 * PN1\n",
    "\n",
    "f3_ans_num / f3_ans_den"
   ]
  }
 ],
 "metadata": {
  "anaconda-cloud": {},
  "kernelspec": {
   "display_name": "Python [default]",
   "language": "python",
   "name": "python3"
  },
  "language_info": {
   "codemirror_mode": {
    "name": "ipython",
    "version": 3
   },
   "file_extension": ".py",
   "mimetype": "text/x-python",
   "name": "python",
   "nbconvert_exporter": "python",
   "pygments_lexer": "ipython3",
   "version": "3.4.5"
  }
 },
 "nbformat": 4,
 "nbformat_minor": 1
}
