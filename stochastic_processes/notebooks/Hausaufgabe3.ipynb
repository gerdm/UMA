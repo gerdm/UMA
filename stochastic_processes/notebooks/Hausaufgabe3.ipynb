{
 "cells": [
  {
   "cell_type": "markdown",
   "metadata": {},
   "source": [
    "# Homework 3 Notebook"
   ]
  },
  {
   "cell_type": "code",
   "execution_count": 361,
   "metadata": {
    "collapsed": false
   },
   "outputs": [],
   "source": [
    "%precision 6\n",
    "from matplotlib import pyplot as plt\n",
    "import seaborn as sns\n",
    "import numpy as np\n",
    "from scipy import stats\n",
    "from numpy.random import exponential, poisson\n",
    "import pandas as pd"
   ]
  },
  {
   "cell_type": "code",
   "execution_count": 2,
   "metadata": {
    "collapsed": true
   },
   "outputs": [],
   "source": [
    "##### Functions #####\n",
    "# Poisson process\n",
    "poispr = lambda t, n, lmbd: stats.poisson.pmf(n, mu=t*lmbd)"
   ]
  },
  {
   "cell_type": "markdown",
   "metadata": {},
   "source": [
    "## Simulating a poisson process"
   ]
  },
  {
   "cell_type": "code",
   "execution_count": 438,
   "metadata": {
    "collapsed": false
   },
   "outputs": [
    {
     "data": {
      "image/png": "[encoded data removed]",
      "text/plain": [
       "<matplotlib.figure.Figure at 0x11b963c18>"
      ]
     },
     "metadata": {},
     "output_type": "display_data"
    }
   ],
   "source": [
    "t = 10\n",
    "lmbda = 1.5\n",
    "Xt = poisson(lmbda*t)\n",
    "u = uniform(high=t, size=Xt); u.sort()\n",
    "plt.step(u, range(0, Xt), where=\"post\", linewidth=\"1\")\n",
    "plt.xlabel(r\"$t$\")\n",
    "plt.ylabel(r\"$N_t$\")\n",
    "plt.show()"
   ]
  },
  {
   "cell_type": "markdown",
   "metadata": {},
   "source": [
    "### 3)\n",
    "**Let $\\{N_t\\}_{t\\geq0}$ a *Poisson process* with $\\lambda=4$**"
   ]
  },
  {
   "cell_type": "markdown",
   "metadata": {},
   "source": [
    "**3.d Compute $\\mathbb{P}(N_3 \\leq 3)$**"
   ]
  },
  {
   "cell_type": "code",
   "execution_count": 3,
   "metadata": {
    "collapsed": false
   },
   "outputs": [
    {
     "data": {
      "text/plain": [
       "0.002292"
      ]
     },
     "execution_count": 3,
     "metadata": {},
     "output_type": "execute_result"
    }
   ],
   "source": [
    "sum([poispr(3, n, 4) for n in range(0, 3 + 1)])"
   ]
  },
  {
   "cell_type": "markdown",
   "metadata": {},
   "source": [
    "**3.e Compute $\\mathbb{P}(N_1 > 3 \\ | \\ N_2 \\geq 2)$**\n",
    "$$\n",
    "    \\begin{split}\n",
    "    \\mathbb{P}(N_1 > 3 \\ | \\ N_2 \\geq 2) &= \\mathbb{P}(N_1 \\geq 4 \\ | \\ N_2 \\geq 2) \\\\\n",
    "                                         & = \\frac{\\mathbb{P}(N_1 \\geq 4, N_2 \\geq 2)}{\\mathbb{P}(N_2 \\geq 2)} \\\\\n",
    "                                         &= \\frac{1}{\\mathbb{P}(N_2 \\geq 2)}\\sum_{n=4}^{\\infty}\\sum_{k=2}^{\\infty}\\mathbb{P}(N_2 = k, N_1=n) \\\\\n",
    "                                         &= \\frac{1}{\\mathbb{P}(N_2 \\geq 2)}\\sum_{n=4}^{\\infty}\\mathbb{P}(N_1=n)\\sum_{k=2}^{\\infty}\\mathbb{P}(N_1 = k-n) \\\\\n",
    "                                         &= \\frac{1 - \\mathbb{P}(N_1 \\leq 3)}{1 - \\mathbb{P}(N_1 \\leq 1)}\n",
    "    \\end{split}\n",
    "$$"
   ]
  },
  {
   "cell_type": "code",
   "execution_count": 20,
   "metadata": {
    "collapsed": false
   },
   "outputs": [
    {
     "data": {
      "text/plain": [
       "0.568246"
      ]
     },
     "execution_count": 20,
     "metadata": {},
     "output_type": "execute_result"
    }
   ],
   "source": [
    "# Theoretical Approximation\n",
    "e3_ans_num = 1 - sum([poispr(1, n, 4) for n in range(0, 3+1)])\n",
    "e3_ans_den = 1 - sum([poispr(2, n, 4) for n in range(0, 1+1)])\n",
    "\n",
    "e3_ans_num / e3_ans_den"
   ]
  },
  {
   "cell_type": "code",
   "execution_count": 19,
   "metadata": {
    "collapsed": false
   },
   "outputs": [
    {
     "data": {
      "text/plain": [
       "0.568246"
      ]
     },
     "execution_count": 19,
     "metadata": {},
     "output_type": "execute_result"
    }
   ],
   "source": [
    "# A second way to compute it (numerical Approximation)\n",
    "\n",
    "num_prob = 0\n",
    "for n in range(4, 101):\n",
    "    PN1_1 = poispr(1, n, 4)\n",
    "    for k in range(2, 101):\n",
    "        PN1_2 = poispr(1, k-n, 4)\n",
    "        num_prob += PN1_1 * PN1_2\n",
    "        \n",
    "num_prob /= (1 - sum([poispr(2, n, 4) for n in range(0, 2)])); num_prob"
   ]
  },
  {
   "cell_type": "markdown",
   "metadata": {},
   "source": [
    "------------\n",
    "**3.f Compute $\\mathbb{P}(N_3 \\geq 4 | N_2 > 1)$**\n",
    "\n",
    "$$\n",
    "    \\begin{split}\n",
    "    \\mathbb{P}(N_3 \\geq 4 | N_2 > 1) &= \\mathbb{P}(N_3 \\geq 4 \\ | \\ N_2 \\geq 2) \\\\\n",
    "                                     &= \\frac{1}{1 - \\mathbb{P}(N_1 \\leq 1)}\\sum_{k=2}^{\\infty}\\left[\\mathbb{P}(N_2 = k)\\sum_{n=4}^{\\infty}\\mathbb{P}(N_1 = n-k)\\right] \\\\\n",
    "                                     &= \\frac{1}{1 - \\mathbb{P}(N_1 \\leq 1)}\\left[\\mathbb{P}(N_2 = 2)[1 - \\mathbb{P}(N_1=0) - \\mathbb{P}(N_1=1)] + \\\\ \\mathbb{P}(N_2 = 3)[1 - \\mathbb{P}(N_1=0)] + \\left(1 - \\sum_{k=0}^{3}\\mathbb{P}(N_2 = k)\\right) \\right]\n",
    "    \\end{split}\n",
    "$$\n",
    "\n",
    "Denote\n",
    "$$A:= \\mathbb{P}(N_2 = 2)[1 - \\mathbb{P}(N_1=0) - \\mathbb{P}(N_1=1)]$$\n",
    "\n",
    "$$B:= \\mathbb{P}(N_2 = 3)[1 - \\mathbb{P}(N_1=0)]$$\n",
    "\n",
    "$$C:= \\left(1 - \\sum_{k=0}^{3}\\mathbb{P}(N_2 = k)\\right)$$"
   ]
  },
  {
   "cell_type": "code",
   "execution_count": 24,
   "metadata": {
    "collapsed": false
   },
   "outputs": [
    {
     "data": {
      "text/plain": [
       "0.998488"
      ]
     },
     "execution_count": 24,
     "metadata": {},
     "output_type": "execute_result"
    }
   ],
   "source": [
    "lmda = 4\n",
    "\n",
    "f3_ans_den = 1 - sum([poispr(2, n, lmda) for n in range(0, 1 + 1)])\n",
    "\n",
    "A = poispr(2, 2, lmda)*(1 - poispr(1, 0, lmda) - poispr(1, 1, lmda))\n",
    "B = poispr(2, 3, lmda) * (1 - poispr(1, 0, lmda))\n",
    "C = 1 - sum([poispr(2, n, lmda) for n in range(0, 3 + 1)])\n",
    "\n",
    "f3_ans = (A + B + C) / f3_ans_den; f3_ans"
   ]
  },
  {
   "cell_type": "code",
   "execution_count": 28,
   "metadata": {
    "collapsed": false
   },
   "outputs": [
    {
     "data": {
      "text/plain": [
       "0.998488"
      ]
     },
     "execution_count": 28,
     "metadata": {},
     "output_type": "execute_result"
    }
   ],
   "source": [
    "f3_ans_num = 0\n",
    "for k in range(2, 101):\n",
    "    PN2 = poispr(2, k, lmda)\n",
    "    for n in range(4, 101):\n",
    "        PN1 = poispr(1, n-k, lmda)\n",
    "        f3_ans_num += PN2 * PN1\n",
    "\n",
    "f3_ans_num / f3_ans_den"
   ]
  },
  {
   "cell_type": "markdown",
   "metadata": {},
   "source": [
    "### 4)\n",
    "**Let $\\{N_t\\}_{t\\geq0}$ a poisson process with $\\lambda = 1.5$**"
   ]
  },
  {
   "cell_type": "markdown",
   "metadata": {},
   "source": [
    "**4.b) compute**\n",
    "$$\n",
    "    \\mathbb{E}[W_7|W_5=4]\n",
    "$$"
   ]
  },
  {
   "cell_type": "code",
   "execution_count": 568,
   "metadata": {
    "collapsed": false
   },
   "outputs": [
    {
     "name": "stdout",
     "output_type": "stream",
     "text": [
      "E[W7|W5=4] ≈ 5.320859 (Gamma approx)\n"
     ]
    }
   ],
   "source": [
    "# Numerical Approximation Approach\n",
    "lmbda = 1.5\n",
    "nsamples = 100000 \n",
    "epsilon = 0.0005\n",
    "\n",
    "samples = []\n",
    "\n",
    "for samp in range(70):\n",
    "    W5 = []\n",
    "    W7 = []\n",
    "    for s in range(nsamples):\n",
    "        #W_sample = np.round(exponential(scale=1/lmbda, size=7), decimals=0)\n",
    "        W_sample = exponential(scale=1/lmbda, size=7)\n",
    "        W_sample = W_sample.cumsum()\n",
    "        W5.append(W_sample[4])\n",
    "\n",
    "        if 4 - epsilon < W_sample[4] < 4 + epsilon:\n",
    "            W7.append(W_sample[6])\n",
    "            \n",
    "    samples.append(np.mean(W7))\n",
    "\n",
    "W7 = np.array(W7)\n",
    "W5 = np.array(W5)\n",
    "print(\"E[W7|W5=4] ≈ {:.6f} (Gamma approx)\".format(np.mean(samples)))"
   ]
  },
  {
   "cell_type": "code",
   "execution_count": 569,
   "metadata": {
    "collapsed": false
   },
   "outputs": [
    {
     "name": "stdout",
     "output_type": "stream",
     "text": [
      "E[W7|W5=4] ≈ 5.333296 (Poisson approx)\n"
     ]
    }
   ],
   "source": [
    "t = 30\n",
    "lmbda = 1.5\n",
    "epsilon = 0.0005\n",
    "\n",
    "samples = []\n",
    "for samp in range(70):\n",
    "    W7 = []\n",
    "    for i in range(100000):\n",
    "        Xt = poisson(lmbda*t)\n",
    "        u = uniform(high=t, size=Xt); u.sort()\n",
    "        \n",
    "        if 4 - epsilon < u[4] < 4 + epsilon:\n",
    "            W7.append(u[6])\n",
    "    samples.append(np.mean(W7))\n",
    "print(\"E[W7|W5=4] ≈ {:.6f} (Poisson approx)\".format(np.mean(samples)))"
   ]
  },
  {
   "cell_type": "code",
   "execution_count": 308,
   "metadata": {
    "collapsed": false
   },
   "outputs": [
    {
     "data": {
      "image/png": "[encoded data removed]",
      "text/plain": [
       "<matplotlib.figure.Figure at 0x11bb109b0>"
      ]
     },
     "metadata": {},
     "output_type": "display_data"
    }
   ],
   "source": [
    "W7_freq = pd.value_counts(W7, normalize=True).sort_index()\n",
    "plt.bar(W7_freq.index, W7_freq.values, alpha=0.5, width=0.5, align=\"center\")\n",
    "plt.title(r\"$\\mathbb{P}(W_7 = t | W_5 = 4)$\")\n",
    "plt.xlim(min(W7_freq.index)-1, max(W7_freq.index)+1)\n",
    "plt.xticks(range(int(min(W7_freq.index)),int(max(W7_freq.index)),1))\n",
    "plt.xlabel(r\"$W_7 = t$\")\n",
    "plt.show()"
   ]
  },
  {
   "cell_type": "code",
   "execution_count": 307,
   "metadata": {
    "collapsed": false
   },
   "outputs": [
    {
     "data": {
      "image/png": "[encoded data removed]",
      "text/plain": [
       "<matplotlib.figure.Figure at 0x119a18c18>"
      ]
     },
     "metadata": {},
     "output_type": "display_data"
    }
   ],
   "source": [
    "W5_freq = pd.value_counts(W5, normalize=True).sort_index()\n",
    "plt.bar(W5_freq.index, W5_freq.values, alpha=0.5, width=0.5, align=\"center\")\n",
    "plt.title(r\"Discretized $\\Gamma(n=5,\\lambda=1.5)$\")\n",
    "plt.xlim(min(W5_freq.index)-1, max(W5_freq.index)+1)\n",
    "plt.xticks(range(0,int(max(W5_freq.index)),1))\n",
    "plt.xlabel(r\"$W_5 = t$\")\n",
    "plt.show()"
   ]
  },
  {
   "cell_type": "code",
   "execution_count": 187,
   "metadata": {
    "collapsed": false
   },
   "outputs": [],
   "source": [
    "from scipy.misc import factorial\n",
    "from numpy import exp\n",
    "\n",
    "def gamma_pdf(n, lmbda, t):\n",
    "    if n > 0 and lmbda > 0 and t >= 0:\n",
    "        return lmbda ** n * t ** (n-1) * exp(-lmbda * t) / factorial(n-1)\n",
    "    else: \n",
    "        return 0"
   ]
  },
  {
   "cell_type": "code",
   "execution_count": 460,
   "metadata": {
    "collapsed": false
   },
   "outputs": [
    {
     "data": {
      "text/plain": [
       "4.637085"
      ]
     },
     "execution_count": 460,
     "metadata": {},
     "output_type": "execute_result"
    }
   ],
   "source": [
    "[t*poi]"
   ]
  }
 ],
 "metadata": {
  "anaconda-cloud": {},
  "kernelspec": {
   "display_name": "Python [default]",
   "language": "python",
   "name": "python3"
  },
  "language_info": {
   "codemirror_mode": {
    "name": "ipython",
    "version": 3
   },
   "file_extension": ".py",
   "mimetype": "text/x-python",
   "name": "python",
   "nbconvert_exporter": "python",
   "pygments_lexer": "ipython3",
   "version": "3.4.5"
  }
 },
 "nbformat": 4,
 "nbformat_minor": 1
}
