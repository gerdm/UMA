{
 "cells": [
  {
   "cell_type": "markdown",
   "metadata": {},
   "source": [
    "# Simplex Playground"
   ]
  },
  {
   "cell_type": "code",
   "execution_count": 1,
   "metadata": {
    "collapsed": true
   },
   "outputs": [],
   "source": [
    "import numpy as np"
   ]
  },
  {
   "cell_type": "markdown",
   "metadata": {},
   "source": [
    "$$\n",
    "    \\max x_0 + 3x_1 \\\\\n",
    "$$ \n",
    "\n",
    "s.t.\n",
    "$$\n",
    "    x_0 + x_1 \\leq 6 \\\\\n",
    "    -x_0 + 2x_1 \\leq 8\\\\\n",
    "    x_i \\geq 0\n",
    "$$\n",
    "\n",
    "-----------\n",
    "Implies\n",
    "$$\n",
    "    \\max Z - x_0 - 3x_1 + 0x_2 + 0x_3 = 0\\\\\n",
    "$$ \n",
    "\n",
    "s.t.\n",
    "$$\n",
    "    x_0 + x_1 + x_2 = 6 \\\\\n",
    "    -x_0 + 2x_1 + x_3 = 8\\\\\n",
    "    x_i \\geq 0\n",
    "$$\n"
   ]
  },
  {
   "cell_type": "code",
   "execution_count": 61,
   "metadata": {
    "collapsed": false
   },
   "outputs": [],
   "source": [
    "Z = np.array([-1, -3, 0, 0])\n",
    "cons = np.array([\n",
    "    [ 1, 1, 1, 0],\n",
    "    [-1, 2, 0, 1]\n",
    "])\n",
    "rhs = np.array([6, 8])"
   ]
  },
  {
   "cell_type": "code",
   "execution_count": 48,
   "metadata": {
    "collapsed": false
   },
   "outputs": [],
   "source": [
    "def max_where(X):\n",
    "    \"\"\"Return the index of the first found maximum\n",
    "    variable of a given array\"\"\"\n",
    "    maxv = -np.inf\n",
    "    ix_max = -1\n",
    "    for ix, v in enumerate(X):\n",
    "        if v > maxv:\n",
    "            maxv = v\n",
    "            ix_max = ix\n",
    "    return ix_max\n",
    "\n",
    "def min_where(X):\n",
    "    \"\"\"Return the index of the first found minimum\n",
    "    variable of a given array\"\"\"\n",
    "    minv = np.inf\n",
    "    ix_max = -1\n",
    "    for ix, v in enumerate(X):\n",
    "        if v < minv:\n",
    "            maxv = v\n",
    "            ix_max = ix\n",
    "    return ix_max"
   ]
  },
  {
   "cell_type": "code",
   "execution_count": 62,
   "metadata": {
    "collapsed": false
   },
   "outputs": [
    {
     "name": "stdout",
     "output_type": "stream",
     "text": [
      "X1 goes out\n",
      "Max shift col [1 2]\n"
     ]
    }
   ],
   "source": [
    "z_max = max_where(-Z)\n",
    "\n",
    "print(\"X{} goes out\".format(z_max))\n",
    "out_var = cons[:, z_max]\n",
    "print(\"Max shift col\", out_var)"
   ]
  },
  {
   "cell_type": "code",
   "execution_count": 63,
   "metadata": {
    "collapsed": false
   },
   "outputs": [
    {
     "data": {
      "text/plain": [
       "1"
      ]
     },
     "execution_count": 63,
     "metadata": {},
     "output_type": "execute_result"
    }
   ],
   "source": [
    "min_where(rhs / out_var)"
   ]
  }
 ],
 "metadata": {
  "kernelspec": {
   "display_name": "Python [default]",
   "language": "python",
   "name": "python3"
  },
  "language_info": {
   "codemirror_mode": {
    "name": "ipython",
    "version": 3
   },
   "file_extension": ".py",
   "mimetype": "text/x-python",
   "name": "python",
   "nbconvert_exporter": "python",
   "pygments_lexer": "ipython3",
   "version": "3.5.2"
  }
 },
 "nbformat": 4,
 "nbformat_minor": 2
}
