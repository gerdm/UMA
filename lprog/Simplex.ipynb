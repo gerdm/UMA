{
 "cells": [
  {
   "cell_type": "code",
   "execution_count": 1,
   "metadata": {
    "collapsed": true
   },
   "outputs": [],
   "source": [
    "import numpy as np\n",
    "from numpy.linalg import inv, multi_dot\n",
    "from sympy import *\n",
    "init_printing(use_unicode=True)"
   ]
  },
  {
   "cell_type": "code",
   "execution_count": 29,
   "metadata": {},
   "outputs": [
    {
     "data": {
      "text/plain": [
       "array([[ -1.,  -2.,   1.,   0.,   0.,   0.,   0.],\n",
       "       [  2.,   1.,   1.,   1.,   0.,   0.,  14.],\n",
       "       [  4.,   2.,   3.,   0.,   1.,   0.,  28.],\n",
       "       [  2.,   5.,   5.,   0.,   0.,   1.,  30.]])"
      ]
     },
     "execution_count": 29,
     "metadata": {},
     "output_type": "execute_result"
    }
   ],
   "source": [
    "A = np.array([\n",
    "    [2, 1, 1, 1, 0, 0],\n",
    "    [4, 2, 3, 0, 1, 0],\n",
    "    [2, 5, 5, 0, 0, 1]\n",
    "], dtype=np.float64)\n",
    "z = [[-1, -2, 1, 0, 0, 0]]\n",
    "b = [0, 14, 28, 30]\n",
    "\n",
    "A = np.r_[z, A]\n",
    "A = np.c_[A, b]\n",
    "A"
   ]
  },
  {
   "cell_type": "markdown",
   "metadata": {},
   "source": [
    "**$x_2$ increases the most. $x_6$ is the blockage** "
   ]
  },
  {
   "cell_type": "code",
   "execution_count": 30,
   "metadata": {},
   "outputs": [
    {
     "data": {
      "text/plain": [
       "array([[ -1. ,  -2. ,   1. ,   0. ,   0. ,   0. ,   0. ],\n",
       "       [  2. ,   1. ,   1. ,   1. ,   0. ,   0. ,  14. ],\n",
       "       [  4. ,   2. ,   3. ,   0. ,   1. ,   0. ,  28. ],\n",
       "       [  0.4,   1. ,   1. ,   0. ,   0. ,   0.2,   6. ]])"
      ]
     },
     "execution_count": 30,
     "metadata": {},
     "output_type": "execute_result"
    }
   ],
   "source": [
    "A[3,:] = A[3,:] / 5.0\n",
    "A"
   ]
  },
  {
   "cell_type": "code",
   "execution_count": 31,
   "metadata": {},
   "outputs": [
    {
     "data": {
      "text/plain": [
       "array([[ -0.2,   0. ,   3. ,   0. ,   0. ,   0.4,  12. ],\n",
       "       [  1.6,   0. ,   0. ,   1. ,   0. ,  -0.2,   8. ],\n",
       "       [  3.2,   0. ,   1. ,   0. ,   1. ,  -0.4,  16. ],\n",
       "       [  0.4,   1. ,   1. ,   0. ,   0. ,   0.2,   6. ]])"
      ]
     },
     "execution_count": 31,
     "metadata": {},
     "output_type": "execute_result"
    }
   ],
   "source": [
    "A[0,:] = A[0,:] + A[3,:] * 2\n",
    "A[1,:] = A[1,:] + A[3,:] * -1  \n",
    "A[2,:] = A[2,:] + A[3,:] * -2\n",
    "\n",
    "A"
   ]
  },
  {
   "cell_type": "markdown",
   "metadata": {},
   "source": [
    "**$x_1$ increases the most. $x_4$ is the blockage**"
   ]
  },
  {
   "cell_type": "code",
   "execution_count": 35,
   "metadata": {},
   "outputs": [
    {
     "data": {
      "text/plain": [
       "array([  5.,   5.,  15.])"
      ]
     },
     "execution_count": 35,
     "metadata": {},
     "output_type": "execute_result"
    }
   ],
   "source": [
    "A[1:,-1] / A[1:,0] "
   ]
  },
  {
   "cell_type": "code",
   "execution_count": 38,
   "metadata": {},
   "outputs": [
    {
     "data": {
      "text/plain": [
       "array([[ -0.2  ,   0.   ,   3.   ,   0.   ,   0.   ,   0.4  ,  12.   ],\n",
       "       [  1.   ,   0.   ,   0.   ,   0.625,   0.   ,  -0.125,   5.   ],\n",
       "       [  3.2  ,   0.   ,   1.   ,   0.   ,   1.   ,  -0.4  ,  16.   ],\n",
       "       [  0.4  ,   1.   ,   1.   ,   0.   ,   0.   ,   0.2  ,   6.   ]])"
      ]
     },
     "execution_count": 38,
     "metadata": {},
     "output_type": "execute_result"
    }
   ],
   "source": [
    "A[1,:] = A[1,:] * 1/A[1,0]\n",
    "A"
   ]
  },
  {
   "cell_type": "code",
   "execution_count": 59,
   "metadata": {},
   "outputs": [
    {
     "data": {
      "text/plain": [
       "array([[  0.   ,   0.   ,   3.   ,   0.125,   0.   ,   0.375,  13.   ],\n",
       "       [  1.   ,   0.   ,   0.   ,   0.625,   0.   ,  -0.125,   5.   ],\n",
       "       [  0.   ,   0.   ,   1.   ,  -2.   ,   1.   ,   0.   ,   0.   ],\n",
       "       [  0.   ,   1.   ,   1.   ,  -0.25 ,   0.   ,   0.25 ,   4.   ]])"
      ]
     },
     "execution_count": 59,
     "metadata": {},
     "output_type": "execute_result"
    }
   ],
   "source": [
    "A[0,:] = A[0,:] + A[1,:] * - A[0,0]\n",
    "A[2,:] = A[2,:] + A[1,:] * - A[2,0]\n",
    "A[3,:] = A[3,:] + A[1,:] * - A[3,0]\n",
    "A"
   ]
  },
  {
   "cell_type": "markdown",
   "metadata": {},
   "source": [
    "# Dictionary "
   ]
  },
  {
   "cell_type": "code",
   "execution_count": 24,
   "metadata": {
    "collapsed": true
   },
   "outputs": [],
   "source": [
    "x1, x2, x3, x4, x5, x6 = symbols(\"x1 x2 x3 x4 x5 x6\")"
   ]
  },
  {
   "cell_type": "code",
   "execution_count": 4,
   "metadata": {
    "collapsed": true
   },
   "outputs": [],
   "source": [
    "def print_problem(Z, constraints):\n",
    "    print(\"Z = \", Z)\n",
    "    for c in constraints:\n",
    "        print(c, \"= 0\")"
   ]
  },
  {
   "cell_type": "code",
   "execution_count": 25,
   "metadata": {},
   "outputs": [
    {
     "name": "stdout",
     "output_type": "stream",
     "text": [
      "Z =  x1 + 2*x2 - x3\n",
      "2*x1 + x2 + x3 + x4 - 14 = 0\n",
      "4*x1 + 2*x2 + 3*x3 + x5 - 28 = 0\n",
      "2*x1 + 5*x2 + 5*x3 + x6 - 30 = 0\n"
     ]
    }
   ],
   "source": [
    "# Initial\n",
    "Z = x1 + 2*x2 - x3\n",
    "\n",
    "c1 = 2*x1 +   x2 +   x3 + x4         - 14\n",
    "c2 = 4*x1 + 2*x2 + 3*x3 +     x5     - 28\n",
    "c3 = 2*x1 + 5*x2 + 5*x3 +         x6 - 30\n",
    "\n",
    "print_problem(Z, [c1, c2, c3])"
   ]
  },
  {
   "cell_type": "code",
   "execution_count": 26,
   "metadata": {},
   "outputs": [
    {
     "name": "stdout",
     "output_type": "stream",
     "text": [
      "[14]\n",
      "[14]\n",
      "[6] x6 goes out\n"
     ]
    }
   ],
   "source": [
    "# Finding where the blockage happens\n",
    "print(solve(c1.subs({x1:0, x3:0, x4:0}), x2)) # In terms of x4\n",
    "print(solve(c2.subs({x1:0, x3:0, x5:0}), x2)) # In terms of x5\n",
    "print(solve(c3.subs({x1:0, x3:0, x6:0}), x2), \"x6 goes out\") # In terms of x6"
   ]
  },
  {
   "cell_type": "code",
   "execution_count": 27,
   "metadata": {},
   "outputs": [
    {
     "name": "stdout",
     "output_type": "stream",
     "text": [
      "Z =  x1/5 - 3*x3 - 2*x6/5 + 12\n",
      "8*x1/5 + x4 - x6/5 - 8 = 0\n",
      "16*x1/5 + x3 + x5 - 2*x6/5 - 16 = 0\n",
      "-2*x1/5 - x3 - x6/5 + 6 = 0\n"
     ]
    }
   ],
   "source": [
    "#### Update the table ####\n",
    "# third constraint in terms of x2\n",
    "c3 = solve(c3, x2)[0]\n",
    "c1 = c1.subs(x2, c3)\n",
    "c2 = c2.subs(x2, c3)\n",
    "\n",
    "Z = Z.subs(x2, c3)\n",
    "\n",
    "print_problem(Z, [c1, c2, c3])"
   ]
  },
  {
   "cell_type": "code",
   "execution_count": 28,
   "metadata": {},
   "outputs": [
    {
     "name": "stdout",
     "output_type": "stream",
     "text": [
      "[5]\n",
      "[5]\n",
      "[15]\n"
     ]
    }
   ],
   "source": [
    "# Find new blockage (x1 increases the most)\n",
    "print(solve(c1.subs({x3:0, x6:0, x4:0}), x1))\n",
    "print(solve(c2.subs({x3:0, x6:0, x5:0}), x1))\n",
    "print(solve(c3.subs({x3:0, x6:0, x2:0}), x1))\n",
    "\n",
    "# Choose x4 to go out. It could've been either x4 or x5"
   ]
  },
  {
   "cell_type": "code",
   "execution_count": 31,
   "metadata": {},
   "outputs": [
    {
     "name": "stdout",
     "output_type": "stream",
     "text": [
      "Z =  -3*x3 - x4/8 - 3*x6/8 + 13\n",
      "-5*x4/8 + x6/8 + 5 = 0\n",
      "x3 - 2*x4 + x5 = 0\n",
      "-x3 + x4/4 - x6/4 + 4 = 0\n"
     ]
    }
   ],
   "source": [
    "c1 = solve(c1, x1)[0]\n",
    "c2 = c2.subs(x1, c1)\n",
    "c3 = c3.subs(x1, c1)\n",
    "\n",
    "Z = Z.subs(x1, c1)\n",
    "\n",
    "print_problem(Z, [c1, c2, c3])"
   ]
  },
  {
   "cell_type": "markdown",
   "metadata": {},
   "source": [
    "Since $\\frac{\\partial Z}{\\partial x_i} \\leq 0 \\ \\forall \\ i$, we know we have reached the Max."
   ]
  },
  {
   "cell_type": "markdown",
   "metadata": {},
   "source": [
    "# Iterative Form"
   ]
  },
  {
   "cell_type": "code",
   "execution_count": 2,
   "metadata": {},
   "outputs": [],
   "source": [
    "S = np.array([\n",
    "    [-1, 2, 1, 0, 0, 0,  0],\n",
    "    [ 2, 1, 1, 1, 0, 0, 14],\n",
    "    [ 4, 2, 3, 0, 1, 0, 28],\n",
    "    [ 2, 5, 5, 0, 0, 1, 30]\n",
    "], dtype = np.float64)\n"
   ]
  },
  {
   "cell_type": "code",
   "execution_count": 3,
   "metadata": {},
   "outputs": [],
   "source": [
    "in_v = 0\n",
    "out_v = 1\n",
    "\n",
    "S[out_v] = S[out_v] / S[out_v, in_v]\n",
    "for ix, row in enumerate(S):\n",
    "    if ix != out_v:\n",
    "        S[ix] = row -  S[ix, in_v] * S[out_v]"
   ]
  },
  {
   "cell_type": "code",
   "execution_count": 4,
   "metadata": {},
   "outputs": [
    {
     "data": {
      "text/plain": [
       "array([[  0. ,   2.5,   1.5,   0.5,   0. ,   0. ,   7. ],\n",
       "       [  1. ,   0.5,   0.5,   0.5,   0. ,   0. ,   7. ],\n",
       "       [  0. ,   0. ,   1. ,  -2. ,   1. ,   0. ,   0. ],\n",
       "       [  0. ,   4. ,   4. ,  -1. ,   0. ,   1. ,  16. ]])"
      ]
     },
     "execution_count": 4,
     "metadata": {},
     "output_type": "execute_result"
    }
   ],
   "source": [
    "S"
   ]
  },
  {
   "cell_type": "markdown",
   "metadata": {},
   "source": [
    "# Matrix Form"
   ]
  },
  {
   "cell_type": "code",
   "execution_count": 47,
   "metadata": {
    "collapsed": true
   },
   "outputs": [],
   "source": [
    "def compute_parameters(A, C, b, svars):\n",
    "    N = A[:, svars[\"nb\"]]\n",
    "    B = A[:, svars[\"b\"]]\n",
    "    C_b = C[:,svars[\"b\"]]\n",
    "    \n",
    "    current_Zeq = multi_dot([C_b, inv(B), A]) - C\n",
    "    solving_coefficients = inv(B).dot(b).T\n",
    "    current_optimum = multi_dot([C_b, inv(B), b])\n",
    "    \n",
    "    return current_Zeq, solving_coefficients, current_optimum, inv(B).dot(A)"
   ]
  },
  {
   "cell_type": "markdown",
   "metadata": {},
   "source": [
    "### Ex.1"
   ]
  },
  {
   "cell_type": "code",
   "execution_count": 48,
   "metadata": {},
   "outputs": [],
   "source": [
    "A = np.array([\n",
    "    [2, 1, 1, 1, 0, 0],\n",
    "    [4, 2, 3, 0, 1, 0],\n",
    "    [2, 5, 5, 0, 0, 1]\n",
    "], dtype=np.float32)\n",
    "\n",
    "C = np.array([[1, 2, -1, 0, 0, 0]])\n",
    "\n",
    "b = np.array([[14, 28, 30]]).T"
   ]
  },
  {
   "cell_type": "code",
   "execution_count": 49,
   "metadata": {},
   "outputs": [
    {
     "name": "stdout",
     "output_type": "stream",
     "text": [
      "[-0.2  0.   3.   0.   0.   0.4] \n",
      "\n",
      "[  8.  16.   6.] \n",
      "\n",
      "[ 12.] \n",
      "\n"
     ]
    }
   ],
   "source": [
    "svars = {\"b\":  [3, 4, 1],\n",
    "         \"nb\": [0, 5, 2]}\n",
    "\n",
    "for v in iterate_simplex(A, C, b, svars):\n",
    "    print(np.round((v.flatten()), 4), \"\\n\")"
   ]
  },
  {
   "cell_type": "code",
   "execution_count": 32,
   "metadata": {},
   "outputs": [
    {
     "name": "stdout",
     "output_type": "stream",
     "text": [
      "[ 0.     0.     3.     0.125  0.     0.375] \n",
      "\n",
      "[ 5.  0.  4.] \n",
      "\n",
      "[ 13.] \n",
      "\n"
     ]
    }
   ],
   "source": [
    "svars = {\"b\":  [0, 4, 1],\n",
    "         \"nb\": [3, 5, 2]}\n",
    "\n",
    "for v in iterate_simplex(A, C, b, svars):\n",
    "    print(np.round((v.flatten()), 4), \"\\n\")"
   ]
  },
  {
   "cell_type": "markdown",
   "metadata": {},
   "source": [
    "### Ex.2"
   ]
  },
  {
   "cell_type": "code",
   "execution_count": 61,
   "metadata": {
    "collapsed": true
   },
   "outputs": [],
   "source": [
    "A1 = np.array([\n",
    "    [3, 7, 3, 1, 0],\n",
    "    [2, 2, 6, 0, 1]\n",
    "])\n",
    "\n",
    "C1 = np.array([[60, 84, 72, 0, 0]])\n",
    "\n",
    "b1 = np.array([[10, 4]]).T"
   ]
  },
  {
   "cell_type": "code",
   "execution_count": 62,
   "metadata": {},
   "outputs": [
    {
     "name": "stdout",
     "output_type": "stream",
     "text": [
      "[[-60. -84. -72.   0.   0.]] \n",
      "\n",
      "\n",
      "[[ 10.   4.]] \n",
      "\n",
      "\n",
      "[[ 0.]] \n",
      "\n",
      "\n",
      "[[ 3.  7.  3.  1.  0.]\n",
      " [ 2.  2.  6.  0.  1.]] \n",
      "\n",
      "\n"
     ]
    }
   ],
   "source": [
    "svars1 = {\"b\":  [3, 4],\n",
    "          \"nb\": [0, 1, 2]}\n",
    "\n",
    "\n",
    "for v in compute_parameters(A1, C1, b1, svars1):\n",
    "    print(np.round(v, 4), \"\\n\\n\")"
   ]
  },
  {
   "cell_type": "code",
   "execution_count": 63,
   "metadata": {},
   "outputs": [
    {
     "name": "stdout",
     "output_type": "stream",
     "text": [
      "[[-24.   0. -36.  12.   0.]] \n",
      "\n",
      "\n",
      "[[ 1.4286  1.1429]] \n",
      "\n",
      "\n",
      "[[ 120.]] \n",
      "\n",
      "\n",
      "[[ 0.4286  1.      0.4286  0.1429  0.    ]\n",
      " [ 1.1429  0.      5.1429 -0.2857  1.    ]] \n",
      "\n",
      "\n"
     ]
    }
   ],
   "source": [
    "svars1 = {\"b\":  [1, 4],\n",
    "          \"nb\": [0, 3, 2]}\n",
    "\n",
    "\n",
    "for v in compute_parameters(A1, C1, b1, svars1):\n",
    "    print(np.round(v, 4), \"\\n\\n\") "
   ]
  },
  {
   "cell_type": "code",
   "execution_count": 64,
   "metadata": {},
   "outputs": [
    {
     "name": "stdout",
     "output_type": "stream",
     "text": [
      "[[-16.   0.   0.  10.   7.]] \n",
      "\n",
      "\n",
      "[[ 1.3333  0.2222]] \n",
      "\n",
      "\n",
      "[[ 128.]] \n",
      "\n",
      "\n",
      "[[ 0.3333  1.      0.      0.1667 -0.0833]\n",
      " [ 0.2222  0.      1.     -0.0556  0.1944]] \n",
      "\n",
      "\n"
     ]
    }
   ],
   "source": [
    "svars1 = {\"b\":  [1, 2],\n",
    "          \"nb\": [0, 3, 4]}\n",
    "\n",
    "\n",
    "for v in compute_parameters(A1, C1, b1, svars1):\n",
    "    print(np.round(v, 4), \"\\n\\n\")"
   ]
  },
  {
   "cell_type": "code",
   "execution_count": 65,
   "metadata": {},
   "outputs": [
    {
     "name": "stdout",
     "output_type": "stream",
     "text": [
      "[[  0.   0.  72.   6.  21.]] \n",
      "\n",
      "\n",
      "[[ 1.  1.]] \n",
      "\n",
      "\n",
      "[[ 144.]] \n",
      "\n",
      "\n",
      "[[ 0.     1.    -1.5    0.25  -0.375]\n",
      " [ 1.     0.     4.5   -0.25   0.875]] \n",
      "\n",
      "\n"
     ]
    }
   ],
   "source": [
    "svars1 = {\"b\":  [1, 0],\n",
    "          \"nb\": [2, 3, 4]}\n",
    "\n",
    "\n",
    "for v in compute_parameters(A1, C1, b1, svars1):\n",
    "    print(np.round(v, 4), \"\\n\\n\")"
   ]
  }
 ],
 "metadata": {
  "kernelspec": {
   "display_name": "Python [default]",
   "language": "python",
   "name": "python3"
  },
  "language_info": {
   "codemirror_mode": {
    "name": "ipython",
    "version": 3
   },
   "file_extension": ".py",
   "mimetype": "text/x-python",
   "name": "python",
   "nbconvert_exporter": "python",
   "pygments_lexer": "ipython3",
   "version": "3.5.3"
  }
 },
 "nbformat": 4,
 "nbformat_minor": 2
}
