{
 "cells": [
  {
   "cell_type": "code",
   "execution_count": 1,
   "metadata": {
    "collapsed": true
   },
   "outputs": [],
   "source": [
    "import numpy as np\n",
    "from sympy import *\n",
    "init_printing(use_unicode=True)"
   ]
  },
  {
   "cell_type": "code",
   "execution_count": 29,
   "metadata": {
    "collapsed": false
   },
   "outputs": [
    {
     "data": {
      "text/plain": [
       "array([[ -1.,  -2.,   1.,   0.,   0.,   0.,   0.],\n",
       "       [  2.,   1.,   1.,   1.,   0.,   0.,  14.],\n",
       "       [  4.,   2.,   3.,   0.,   1.,   0.,  28.],\n",
       "       [  2.,   5.,   5.,   0.,   0.,   1.,  30.]])"
      ]
     },
     "execution_count": 29,
     "metadata": {},
     "output_type": "execute_result"
    }
   ],
   "source": [
    "A = np.array([\n",
    "    [2, 1, 1, 1, 0, 0],\n",
    "    [4, 2, 3, 0, 1, 0],\n",
    "    [2, 5, 5, 0, 0, 1]\n",
    "], dtype=np.float64)\n",
    "z = [[-1, -2, 1, 0, 0, 0]]\n",
    "b = [0, 14, 28, 30]\n",
    "\n",
    "A = np.r_[z, A]\n",
    "A = np.c_[A, b]\n",
    "A"
   ]
  },
  {
   "cell_type": "markdown",
   "metadata": {},
   "source": [
    "**$x_2$ increases the most. $x_6$ is the blockage** "
   ]
  },
  {
   "cell_type": "code",
   "execution_count": 30,
   "metadata": {
    "collapsed": false
   },
   "outputs": [
    {
     "data": {
      "text/plain": [
       "array([[ -1. ,  -2. ,   1. ,   0. ,   0. ,   0. ,   0. ],\n",
       "       [  2. ,   1. ,   1. ,   1. ,   0. ,   0. ,  14. ],\n",
       "       [  4. ,   2. ,   3. ,   0. ,   1. ,   0. ,  28. ],\n",
       "       [  0.4,   1. ,   1. ,   0. ,   0. ,   0.2,   6. ]])"
      ]
     },
     "execution_count": 30,
     "metadata": {},
     "output_type": "execute_result"
    }
   ],
   "source": [
    "A[3,:] = A[3,:] / 5.0\n",
    "A"
   ]
  },
  {
   "cell_type": "code",
   "execution_count": 31,
   "metadata": {
    "collapsed": false
   },
   "outputs": [
    {
     "data": {
      "text/plain": [
       "array([[ -0.2,   0. ,   3. ,   0. ,   0. ,   0.4,  12. ],\n",
       "       [  1.6,   0. ,   0. ,   1. ,   0. ,  -0.2,   8. ],\n",
       "       [  3.2,   0. ,   1. ,   0. ,   1. ,  -0.4,  16. ],\n",
       "       [  0.4,   1. ,   1. ,   0. ,   0. ,   0.2,   6. ]])"
      ]
     },
     "execution_count": 31,
     "metadata": {},
     "output_type": "execute_result"
    }
   ],
   "source": [
    "A[0,:] = A[0,:] + A[3,:] * 2\n",
    "A[1,:] = A[1,:] + A[3,:] * -1  \n",
    "A[2,:] = A[2,:] + A[3,:] * -2\n",
    "\n",
    "A"
   ]
  },
  {
   "cell_type": "markdown",
   "metadata": {},
   "source": [
    "**$x_1$ increases the most. $x_4$ is the blockage**"
   ]
  },
  {
   "cell_type": "code",
   "execution_count": 35,
   "metadata": {
    "collapsed": false
   },
   "outputs": [
    {
     "data": {
      "text/plain": [
       "array([  5.,   5.,  15.])"
      ]
     },
     "execution_count": 35,
     "metadata": {},
     "output_type": "execute_result"
    }
   ],
   "source": [
    "A[1:,-1] / A[1:,0] "
   ]
  },
  {
   "cell_type": "code",
   "execution_count": 38,
   "metadata": {
    "collapsed": false
   },
   "outputs": [
    {
     "data": {
      "text/plain": [
       "array([[ -0.2  ,   0.   ,   3.   ,   0.   ,   0.   ,   0.4  ,  12.   ],\n",
       "       [  1.   ,   0.   ,   0.   ,   0.625,   0.   ,  -0.125,   5.   ],\n",
       "       [  3.2  ,   0.   ,   1.   ,   0.   ,   1.   ,  -0.4  ,  16.   ],\n",
       "       [  0.4  ,   1.   ,   1.   ,   0.   ,   0.   ,   0.2  ,   6.   ]])"
      ]
     },
     "execution_count": 38,
     "metadata": {},
     "output_type": "execute_result"
    }
   ],
   "source": [
    "A[1,:] = A[1,:] * 1/A[1,0]\n",
    "A"
   ]
  },
  {
   "cell_type": "code",
   "execution_count": 59,
   "metadata": {
    "collapsed": false
   },
   "outputs": [
    {
     "data": {
      "text/plain": [
       "array([[  0.   ,   0.   ,   3.   ,   0.125,   0.   ,   0.375,  13.   ],\n",
       "       [  1.   ,   0.   ,   0.   ,   0.625,   0.   ,  -0.125,   5.   ],\n",
       "       [  0.   ,   0.   ,   1.   ,  -2.   ,   1.   ,   0.   ,   0.   ],\n",
       "       [  0.   ,   1.   ,   1.   ,  -0.25 ,   0.   ,   0.25 ,   4.   ]])"
      ]
     },
     "execution_count": 59,
     "metadata": {},
     "output_type": "execute_result"
    }
   ],
   "source": [
    "A[0,:] = A[0,:] + A[1,:] * - A[0,0]\n",
    "A[2,:] = A[2,:] + A[1,:] * - A[2,0]\n",
    "A[3,:] = A[3,:] + A[1,:] * - A[3,0]\n",
    "A"
   ]
  },
  {
   "cell_type": "markdown",
   "metadata": {},
   "source": [
    "# Dictionary "
   ]
  },
  {
   "cell_type": "code",
   "execution_count": 24,
   "metadata": {
    "collapsed": true
   },
   "outputs": [],
   "source": [
    "x1, x2, x3, x4, x5, x6 = symbols(\"x1 x2 x3 x4 x5 x6\")"
   ]
  },
  {
   "cell_type": "code",
   "execution_count": 4,
   "metadata": {
    "collapsed": true
   },
   "outputs": [],
   "source": [
    "def print_problem(Z, constraints):\n",
    "    print(\"Z = \", Z)\n",
    "    for c in constraints:\n",
    "        print(c, \"= 0\")"
   ]
  },
  {
   "cell_type": "code",
   "execution_count": 25,
   "metadata": {
    "collapsed": false
   },
   "outputs": [
    {
     "name": "stdout",
     "output_type": "stream",
     "text": [
      "Z =  x1 + 2*x2 - x3\n",
      "2*x1 + x2 + x3 + x4 - 14 = 0\n",
      "4*x1 + 2*x2 + 3*x3 + x5 - 28 = 0\n",
      "2*x1 + 5*x2 + 5*x3 + x6 - 30 = 0\n"
     ]
    }
   ],
   "source": [
    "# Initial\n",
    "Z = x1 + 2*x2 - x3\n",
    "\n",
    "c1 = 2*x1 +   x2 +   x3 + x4         - 14\n",
    "c2 = 4*x1 + 2*x2 + 3*x3 +     x5     - 28\n",
    "c3 = 2*x1 + 5*x2 + 5*x3 +         x6 - 30\n",
    "\n",
    "print_problem(Z, [c1, c2, c3])"
   ]
  },
  {
   "cell_type": "code",
   "execution_count": 26,
   "metadata": {
    "collapsed": false
   },
   "outputs": [
    {
     "name": "stdout",
     "output_type": "stream",
     "text": [
      "[14]\n",
      "[14]\n",
      "[6] x6 goes out\n"
     ]
    }
   ],
   "source": [
    "# Finding where the blockage happens\n",
    "print(solve(c1.subs({x1:0, x3:0, x4:0}), x2)) # In terms of x4\n",
    "print(solve(c2.subs({x1:0, x3:0, x5:0}), x2)) # In terms of x5\n",
    "print(solve(c3.subs({x1:0, x3:0, x6:0}), x2), \"x6 goes out\") # In terms of x6"
   ]
  },
  {
   "cell_type": "code",
   "execution_count": 27,
   "metadata": {
    "collapsed": false
   },
   "outputs": [
    {
     "name": "stdout",
     "output_type": "stream",
     "text": [
      "Z =  x1/5 - 3*x3 - 2*x6/5 + 12\n",
      "8*x1/5 + x4 - x6/5 - 8 = 0\n",
      "16*x1/5 + x3 + x5 - 2*x6/5 - 16 = 0\n",
      "-2*x1/5 - x3 - x6/5 + 6 = 0\n"
     ]
    }
   ],
   "source": [
    "#### Update the table ####\n",
    "# third constraint in terms of x2\n",
    "c3 = solve(c3, x2)[0]\n",
    "c1 = c1.subs(x2, c3)\n",
    "c2 = c2.subs(x2, c3)\n",
    "\n",
    "Z = Z.subs(x2, c3)\n",
    "\n",
    "print_problem(Z, [c1, c2, c3])"
   ]
  },
  {
   "cell_type": "code",
   "execution_count": 28,
   "metadata": {
    "collapsed": false
   },
   "outputs": [
    {
     "name": "stdout",
     "output_type": "stream",
     "text": [
      "[5]\n",
      "[5]\n",
      "[15]\n"
     ]
    }
   ],
   "source": [
    "# Find new blockage (x1 increases the most)\n",
    "print(solve(c1.subs({x3:0, x6:0, x4:0}), x1))\n",
    "print(solve(c2.subs({x3:0, x6:0, x5:0}), x1))\n",
    "print(solve(c3.subs({x3:0, x6:0, x2:0}), x1))\n",
    "\n",
    "# Choose x4 to go out. It could've been either x4 or x5"
   ]
  },
  {
   "cell_type": "code",
   "execution_count": 31,
   "metadata": {
    "collapsed": false
   },
   "outputs": [
    {
     "name": "stdout",
     "output_type": "stream",
     "text": [
      "Z =  -3*x3 - x4/8 - 3*x6/8 + 13\n",
      "-5*x4/8 + x6/8 + 5 = 0\n",
      "x3 - 2*x4 + x5 = 0\n",
      "-x3 + x4/4 - x6/4 + 4 = 0\n"
     ]
    }
   ],
   "source": [
    "c1 = solve(c1, x1)[0]\n",
    "c2 = c2.subs(x1, c1)\n",
    "c3 = c3.subs(x1, c1)\n",
    "\n",
    "Z = Z.subs(x1, c1)\n",
    "\n",
    "print_problem(Z, [c1, c2, c3])"
   ]
  },
  {
   "cell_type": "markdown",
   "metadata": {},
   "source": [
    "Since $\\frac{\\partial Z}{\\partial x_i} \\leq 0 \\ \\forall \\ i$, we know we have reached the Max."
   ]
  },
  {
   "cell_type": "markdown",
   "metadata": {},
   "source": [
    "# Matrix Form"
   ]
  },
  {
   "cell_type": "code",
   "execution_count": 334,
   "metadata": {
    "collapsed": false
   },
   "outputs": [],
   "source": [
    "A = Matrix([\n",
    "    [ 1, 1, -2, 1, 0],\n",
    "    [-3, 1,  2, 0, 1]\n",
    "])\n",
    "\n",
    "C = Matrix([0, -2, -1, 0, 0])\n",
    "\n",
    "b = Matrix([7, 3])\n",
    "\n",
    "var = {\"b\": [3, 4], # basic\n",
    "       \"nb\": [0, 1, 2]} # non-basic\n",
    "\n",
    "B = A[:,var[\"b\"]]\n",
    "N = A[:, var[\"nb\"]]\n",
    "\n",
    "C_b = C[var[\"b\"],:]"
   ]
  },
  {
   "cell_type": "code",
   "execution_count": 335,
   "metadata": {
    "collapsed": false
   },
   "outputs": [
    {
     "data": {
      "text/latex": [
       "$$\\left[\\begin{matrix}1 & 1 & -2 & 1 & 0\\\\-3 & 1 & 2 & 0 & 1\\end{matrix}\\right]$$"
      ],
      "text/plain": [
       "⎡1   1  -2  1  0⎤\n",
       "⎢               ⎥\n",
       "⎣-3  1  2   0  1⎦"
      ]
     },
     "execution_count": 335,
     "metadata": {},
     "output_type": "execute_result"
    }
   ],
   "source": [
    "A"
   ]
  },
  {
   "cell_type": "code",
   "execution_count": 336,
   "metadata": {
    "collapsed": false
   },
   "outputs": [
    {
     "data": {
      "text/latex": [
       "$$\\left[\\begin{matrix}1 & 0\\\\0 & 1\\end{matrix}\\right]$$"
      ],
      "text/plain": [
       "⎡1  0⎤\n",
       "⎢    ⎥\n",
       "⎣0  1⎦"
      ]
     },
     "execution_count": 336,
     "metadata": {},
     "output_type": "execute_result"
    }
   ],
   "source": [
    "B"
   ]
  },
  {
   "cell_type": "code",
   "execution_count": 337,
   "metadata": {
    "collapsed": false
   },
   "outputs": [
    {
     "data": {
      "text/latex": [
       "$$\\left[\\begin{matrix}1 & 1 & -2\\\\-3 & 1 & 2\\end{matrix}\\right]$$"
      ],
      "text/plain": [
       "⎡1   1  -2⎤\n",
       "⎢         ⎥\n",
       "⎣-3  1  2 ⎦"
      ]
     },
     "execution_count": 337,
     "metadata": {},
     "output_type": "execute_result"
    }
   ],
   "source": [
    "N"
   ]
  },
  {
   "cell_type": "code",
   "execution_count": 338,
   "metadata": {
    "collapsed": false
   },
   "outputs": [
    {
     "data": {
      "text/latex": [
       "$$\\left[\\begin{matrix}0\\\\0\\end{matrix}\\right]$$"
      ],
      "text/plain": [
       "⎡0⎤\n",
       "⎢ ⎥\n",
       "⎣0⎦"
      ]
     },
     "execution_count": 338,
     "metadata": {},
     "output_type": "execute_result"
    }
   ],
   "source": [
    "C_b"
   ]
  },
  {
   "cell_type": "code",
   "execution_count": 339,
   "metadata": {
    "collapsed": false
   },
   "outputs": [
    {
     "data": {
      "text/latex": [
       "$$\\left[\\begin{matrix}0\\\\2\\\\1\\end{matrix}\\right]$$"
      ],
      "text/plain": [
       "⎡0⎤\n",
       "⎢ ⎥\n",
       "⎢2⎥\n",
       "⎢ ⎥\n",
       "⎣1⎦"
      ]
     },
     "execution_count": 339,
     "metadata": {},
     "output_type": "execute_result"
    }
   ],
   "source": [
    "## X1 gets in the base. From column 1 in A, \n",
    "# we choose which variable goes out\n",
    "-C[var[\"nb\"], :]"
   ]
  },
  {
   "cell_type": "code",
   "execution_count": 340,
   "metadata": {
    "collapsed": false
   },
   "outputs": [],
   "source": [
    "# Make a vector where only the entering\n",
    "# variable takes a value of 1\n",
    "Xp = Matrix([0 for x in range(3)])\n",
    "Xp[1] = 1"
   ]
  },
  {
   "cell_type": "code",
   "execution_count": 341,
   "metadata": {
    "collapsed": false
   },
   "outputs": [
    {
     "data": {
      "text/latex": [
       "$$\\left[\\begin{matrix}0\\\\1\\\\0\\end{matrix}\\right]$$"
      ],
      "text/plain": [
       "⎡0⎤\n",
       "⎢ ⎥\n",
       "⎢1⎥\n",
       "⎢ ⎥\n",
       "⎣0⎦"
      ]
     },
     "execution_count": 341,
     "metadata": {},
     "output_type": "execute_result"
    }
   ],
   "source": [
    "Xp"
   ]
  },
  {
   "cell_type": "code",
   "execution_count": 342,
   "metadata": {
    "collapsed": false
   },
   "outputs": [],
   "source": [
    "# Values to choose which variable to take out\n",
    "# (if the problem is bounded)\n",
    "Yp = B.inv() * N * Xp"
   ]
  },
  {
   "cell_type": "code",
   "execution_count": 343,
   "metadata": {
    "collapsed": false
   },
   "outputs": [
    {
     "data": {
      "text/latex": [
       "$$\\left[\\begin{matrix}1\\\\1\\end{matrix}\\right]$$"
      ],
      "text/plain": [
       "⎡1⎤\n",
       "⎢ ⎥\n",
       "⎣1⎦"
      ]
     },
     "execution_count": 343,
     "metadata": {},
     "output_type": "execute_result"
    }
   ],
   "source": [
    "Yp"
   ]
  },
  {
   "cell_type": "code",
   "execution_count": 344,
   "metadata": {
    "collapsed": false
   },
   "outputs": [
    {
     "name": "stdout",
     "output_type": "stream",
     "text": [
      "7\n",
      "3\n"
     ]
    }
   ],
   "source": [
    "# The second variable in the base: x4, goes out\n",
    "for bi, yi in zip(b, Yp):\n",
    "    print(bi / yi)"
   ]
  },
  {
   "cell_type": "markdown",
   "metadata": {},
   "source": [
    "#### Update!"
   ]
  },
  {
   "cell_type": "code",
   "execution_count": 346,
   "metadata": {
    "collapsed": false
   },
   "outputs": [],
   "source": [
    "# Update the table (i.e. update the\n",
    "# dictionary where the basic and non-basic\n",
    "# variables are chosen)\n",
    "var = {\"b\": [3, 1], # basic\n",
    "       \"nb\": [0, 4, 2]} # non-basic\n",
    "\n",
    "B = A[:,var[\"b\"]]\n",
    "N = A[:, var[\"nb\"]]\n",
    "\n",
    "C_b = C[var[\"b\"],:]"
   ]
  },
  {
   "cell_type": "code",
   "execution_count": 347,
   "metadata": {
    "collapsed": false
   },
   "outputs": [
    {
     "data": {
      "text/latex": [
       "$$\\left ( \\left[\\begin{matrix}0\\\\-2\\end{matrix}\\right], \\quad \\left[\\begin{matrix}1 & 1\\\\0 & 1\\end{matrix}\\right], \\quad \\left[\\begin{matrix}1 & 0 & -2\\\\-3 & 1 & 2\\end{matrix}\\right]\\right )$$"
      ],
      "text/plain": [
       "⎛⎡0 ⎤, ⎡1  1⎤, ⎡1   0  -2⎤⎞\n",
       "⎜⎢  ⎥  ⎢    ⎥  ⎢         ⎥⎟\n",
       "⎝⎣-2⎦  ⎣0  1⎦  ⎣-3  1  2 ⎦⎠"
      ]
     },
     "execution_count": 347,
     "metadata": {},
     "output_type": "execute_result"
    }
   ],
   "source": [
    "C_b, B, N"
   ]
  },
  {
   "cell_type": "markdown",
   "metadata": {},
   "source": [
    "$$\n",
    "    B^{-1}A\n",
    "$$"
   ]
  },
  {
   "cell_type": "code",
   "execution_count": 348,
   "metadata": {
    "collapsed": false
   },
   "outputs": [
    {
     "data": {
      "text/latex": [
       "$$\\left[\\begin{matrix}4 & 0 & -4 & 1 & -1\\\\-3 & 1 & 2 & 0 & 1\\end{matrix}\\right]$$"
      ],
      "text/plain": [
       "⎡4   0  -4  1  -1⎤\n",
       "⎢                ⎥\n",
       "⎣-3  1  2   0  1 ⎦"
      ]
     },
     "execution_count": 348,
     "metadata": {},
     "output_type": "execute_result"
    }
   ],
   "source": [
    "B.inv() * A"
   ]
  },
  {
   "cell_type": "markdown",
   "metadata": {},
   "source": [
    "$$\n",
    "B^{-1}b\n",
    "$$"
   ]
  },
  {
   "cell_type": "code",
   "execution_count": 349,
   "metadata": {
    "collapsed": false
   },
   "outputs": [
    {
     "data": {
      "text/latex": [
       "$$\\left[\\begin{matrix}4\\\\3\\end{matrix}\\right]$$"
      ],
      "text/plain": [
       "⎡4⎤\n",
       "⎢ ⎥\n",
       "⎣3⎦"
      ]
     },
     "execution_count": 349,
     "metadata": {},
     "output_type": "execute_result"
    }
   ],
   "source": [
    "Bb = B.inv() * b\n",
    "Bb"
   ]
  },
  {
   "cell_type": "markdown",
   "metadata": {},
   "source": [
    "$$\n",
    "    \\bar Z = \\bar C B^{-1} \\bar b\n",
    "$$"
   ]
  },
  {
   "cell_type": "code",
   "execution_count": 380,
   "metadata": {
    "collapsed": false
   },
   "outputs": [
    {
     "ename": "ShapeError",
     "evalue": "Matrices size mismatch.",
     "output_type": "error",
     "traceback": [
      "\u001b[0;31m---------------------------------------------------------------------------\u001b[0m",
      "\u001b[0;31mShapeError\u001b[0m                                Traceback (most recent call last)",
      "\u001b[0;32m<ipython-input-380-3a75639ad363>\u001b[0m in \u001b[0;36m<module>\u001b[0;34m()\u001b[0m\n\u001b[0;32m----> 1\u001b[0;31m \u001b[1;33m(\u001b[0m\u001b[0mC_b\u001b[0m\u001b[1;33m.\u001b[0m\u001b[0mT\u001b[0m \u001b[1;33m*\u001b[0m \u001b[0mB\u001b[0m\u001b[1;33m.\u001b[0m\u001b[0minv\u001b[0m\u001b[1;33m(\u001b[0m\u001b[1;33m)\u001b[0m \u001b[1;33m*\u001b[0m \u001b[0mb\u001b[0m\u001b[1;33m)\u001b[0m\u001b[1;33m[\u001b[0m\u001b[1;36m0\u001b[0m\u001b[1;33m]\u001b[0m\u001b[1;33m\u001b[0m\u001b[0m\n\u001b[0m",
      "\u001b[0;32mC:\\Users\\z730376\\AppData\\Local\\Continuum\\lib\\site-packages\\sympy\\core\\decorators.py\u001b[0m in \u001b[0;36mbinary_op_wrapper\u001b[0;34m(self, other)\u001b[0m\n\u001b[1;32m    116\u001b[0m                     \u001b[1;32melse\u001b[0m\u001b[1;33m:\u001b[0m\u001b[1;33m\u001b[0m\u001b[0m\n\u001b[1;32m    117\u001b[0m                         \u001b[1;32mreturn\u001b[0m \u001b[0mf\u001b[0m\u001b[1;33m(\u001b[0m\u001b[0mself\u001b[0m\u001b[1;33m)\u001b[0m\u001b[1;33m\u001b[0m\u001b[0m\n\u001b[0;32m--> 118\u001b[0;31m             \u001b[1;32mreturn\u001b[0m \u001b[0mfunc\u001b[0m\u001b[1;33m(\u001b[0m\u001b[0mself\u001b[0m\u001b[1;33m,\u001b[0m \u001b[0mother\u001b[0m\u001b[1;33m)\u001b[0m\u001b[1;33m\u001b[0m\u001b[0m\n\u001b[0m\u001b[1;32m    119\u001b[0m         \u001b[1;32mreturn\u001b[0m \u001b[0mbinary_op_wrapper\u001b[0m\u001b[1;33m\u001b[0m\u001b[0m\n\u001b[1;32m    120\u001b[0m     \u001b[1;32mreturn\u001b[0m \u001b[0mpriority_decorator\u001b[0m\u001b[1;33m\u001b[0m\u001b[0m\n",
      "\u001b[0;32mC:\\Users\\z730376\\AppData\\Local\\Continuum\\lib\\site-packages\\sympy\\matrices\\dense.py\u001b[0m in \u001b[0;36m__mul__\u001b[0;34m(self, other)\u001b[0m\n\u001b[1;32m    553\u001b[0m     \u001b[1;33m@\u001b[0m\u001b[0mcall_highest_priority\u001b[0m\u001b[1;33m(\u001b[0m\u001b[1;34m'__rmul__'\u001b[0m\u001b[1;33m)\u001b[0m\u001b[1;33m\u001b[0m\u001b[0m\n\u001b[1;32m    554\u001b[0m     \u001b[1;32mdef\u001b[0m \u001b[0m__mul__\u001b[0m\u001b[1;33m(\u001b[0m\u001b[0mself\u001b[0m\u001b[1;33m,\u001b[0m \u001b[0mother\u001b[0m\u001b[1;33m)\u001b[0m\u001b[1;33m:\u001b[0m\u001b[1;33m\u001b[0m\u001b[0m\n\u001b[0;32m--> 555\u001b[0;31m         \u001b[1;32mreturn\u001b[0m \u001b[0msuper\u001b[0m\u001b[1;33m(\u001b[0m\u001b[0mDenseMatrix\u001b[0m\u001b[1;33m,\u001b[0m \u001b[0mself\u001b[0m\u001b[1;33m)\u001b[0m\u001b[1;33m.\u001b[0m\u001b[0m__mul__\u001b[0m\u001b[1;33m(\u001b[0m\u001b[0m_force_mutable\u001b[0m\u001b[1;33m(\u001b[0m\u001b[0mother\u001b[0m\u001b[1;33m)\u001b[0m\u001b[1;33m)\u001b[0m\u001b[1;33m\u001b[0m\u001b[0m\n\u001b[0m\u001b[1;32m    556\u001b[0m \u001b[1;33m\u001b[0m\u001b[0m\n\u001b[1;32m    557\u001b[0m     \u001b[1;33m@\u001b[0m\u001b[0mcall_highest_priority\u001b[0m\u001b[1;33m(\u001b[0m\u001b[1;34m'__rmul__'\u001b[0m\u001b[1;33m)\u001b[0m\u001b[1;33m\u001b[0m\u001b[0m\n",
      "\u001b[0;32mC:\\Users\\z730376\\AppData\\Local\\Continuum\\lib\\site-packages\\sympy\\matrices\\matrices.py\u001b[0m in \u001b[0;36m__mul__\u001b[0;34m(self, other)\u001b[0m\n\u001b[1;32m    502\u001b[0m             \u001b[0mB\u001b[0m \u001b[1;33m=\u001b[0m \u001b[0mother\u001b[0m\u001b[1;33m\u001b[0m\u001b[0m\n\u001b[1;32m    503\u001b[0m             \u001b[1;32mif\u001b[0m \u001b[0mA\u001b[0m\u001b[1;33m.\u001b[0m\u001b[0mcols\u001b[0m \u001b[1;33m!=\u001b[0m \u001b[0mB\u001b[0m\u001b[1;33m.\u001b[0m\u001b[0mrows\u001b[0m\u001b[1;33m:\u001b[0m\u001b[1;33m\u001b[0m\u001b[0m\n\u001b[0;32m--> 504\u001b[0;31m                 \u001b[1;32mraise\u001b[0m \u001b[0mShapeError\u001b[0m\u001b[1;33m(\u001b[0m\u001b[1;34m\"Matrices size mismatch.\"\u001b[0m\u001b[1;33m)\u001b[0m\u001b[1;33m\u001b[0m\u001b[0m\n\u001b[0m\u001b[1;32m    505\u001b[0m             \u001b[1;32mif\u001b[0m \u001b[0mA\u001b[0m\u001b[1;33m.\u001b[0m\u001b[0mcols\u001b[0m \u001b[1;33m==\u001b[0m \u001b[1;36m0\u001b[0m\u001b[1;33m:\u001b[0m\u001b[1;33m\u001b[0m\u001b[0m\n\u001b[1;32m    506\u001b[0m                 \u001b[1;32mreturn\u001b[0m \u001b[0mclassof\u001b[0m\u001b[1;33m(\u001b[0m\u001b[0mA\u001b[0m\u001b[1;33m,\u001b[0m \u001b[0mB\u001b[0m\u001b[1;33m)\u001b[0m\u001b[1;33m.\u001b[0m\u001b[0m_new\u001b[0m\u001b[1;33m(\u001b[0m\u001b[0mA\u001b[0m\u001b[1;33m.\u001b[0m\u001b[0mrows\u001b[0m\u001b[1;33m,\u001b[0m \u001b[0mB\u001b[0m\u001b[1;33m.\u001b[0m\u001b[0mcols\u001b[0m\u001b[1;33m,\u001b[0m \u001b[1;32mlambda\u001b[0m \u001b[0mi\u001b[0m\u001b[1;33m,\u001b[0m \u001b[0mj\u001b[0m\u001b[1;33m:\u001b[0m \u001b[1;36m0\u001b[0m\u001b[1;33m)\u001b[0m\u001b[1;33m\u001b[0m\u001b[0m\n",
      "\u001b[0;31mShapeError\u001b[0m: Matrices size mismatch."
     ]
    }
   ],
   "source": [
    "(C_b.T * B.inv() * b)[0]"
   ]
  },
  {
   "cell_type": "markdown",
   "metadata": {},
   "source": [
    "$$\n",
    "    \\bar x = \\bar C B^{-1} A - C\n",
    "$$"
   ]
  },
  {
   "cell_type": "code",
   "execution_count": 351,
   "metadata": {
    "collapsed": false
   },
   "outputs": [
    {
     "data": {
      "text/latex": [
       "$$\\left[\\begin{matrix}6 & 0 & -3 & 0 & -2\\end{matrix}\\right]$$"
      ],
      "text/plain": [
       "[6  0  -3  0  -2]"
      ]
     },
     "execution_count": 351,
     "metadata": {},
     "output_type": "execute_result"
    }
   ],
   "source": [
    "# X0 decreases the most; X0 is not B.V.\n",
    "C = C_b.T * B.inv() * A - C.T\n",
    "C"
   ]
  },
  {
   "cell_type": "code",
   "execution_count": 352,
   "metadata": {
    "collapsed": false
   },
   "outputs": [
    {
     "data": {
      "text/latex": [
       "$$\\left[\\begin{matrix}1\\\\0\\\\0\\end{matrix}\\right]$$"
      ],
      "text/plain": [
       "⎡1⎤\n",
       "⎢ ⎥\n",
       "⎢0⎥\n",
       "⎢ ⎥\n",
       "⎣0⎦"
      ]
     },
     "execution_count": 352,
     "metadata": {},
     "output_type": "execute_result"
    }
   ],
   "source": [
    "Xp = Matrix([0 for x in range(3)])\n",
    "Xp[0] = 1\n",
    "Xp"
   ]
  },
  {
   "cell_type": "code",
   "execution_count": 353,
   "metadata": {
    "collapsed": false
   },
   "outputs": [
    {
     "data": {
      "text/latex": [
       "$$\\left[\\begin{matrix}4\\\\-3\\end{matrix}\\right]$$"
      ],
      "text/plain": [
       "⎡4 ⎤\n",
       "⎢  ⎥\n",
       "⎣-3⎦"
      ]
     },
     "execution_count": 353,
     "metadata": {},
     "output_type": "execute_result"
    }
   ],
   "source": [
    "Yp = B.inv() * N * Xp\n",
    "Yp"
   ]
  },
  {
   "cell_type": "code",
   "execution_count": 354,
   "metadata": {
    "collapsed": false
   },
   "outputs": [
    {
     "name": "stdout",
     "output_type": "stream",
     "text": [
      "1\n",
      "-1\n"
     ]
    }
   ],
   "source": [
    "# X3 goes out\n",
    "for bi, yi in zip(Bb, Yp):\n",
    "    print(bi / yi)"
   ]
  },
  {
   "cell_type": "markdown",
   "metadata": {},
   "source": [
    "#### Update!"
   ]
  },
  {
   "cell_type": "code",
   "execution_count": 356,
   "metadata": {
    "collapsed": false
   },
   "outputs": [],
   "source": [
    "# Update the table (i.e. update the\n",
    "# dictionary where the basic and non-basic\n",
    "# variables are chosen)\n",
    "var = {\"b\": [0, 1], # basic\n",
    "       \"nb\": [3, 4, 2]} # non-basic\n",
    "\n",
    "B = A[:,var[\"b\"]]\n",
    "N = A[:, var[\"nb\"]]\n",
    "\n",
    "C_b = C[:,var[\"b\"]]"
   ]
  },
  {
   "cell_type": "code",
   "execution_count": 358,
   "metadata": {
    "collapsed": false
   },
   "outputs": [
    {
     "data": {
      "text/latex": [
       "$$\\left[\\begin{matrix}1 & 1 & -2 & 1 & 0\\\\-3 & 1 & 2 & 0 & 1\\end{matrix}\\right]$$"
      ],
      "text/plain": [
       "⎡1   1  -2  1  0⎤\n",
       "⎢               ⎥\n",
       "⎣-3  1  2   0  1⎦"
      ]
     },
     "execution_count": 358,
     "metadata": {},
     "output_type": "execute_result"
    }
   ],
   "source": [
    "A"
   ]
  },
  {
   "cell_type": "code",
   "execution_count": 357,
   "metadata": {
    "collapsed": false
   },
   "outputs": [
    {
     "data": {
      "text/latex": [
       "$$\\left ( \\left[\\begin{matrix}6 & 0\\end{matrix}\\right], \\quad \\left[\\begin{matrix}1 & 1\\\\-3 & 1\\end{matrix}\\right], \\quad \\left[\\begin{matrix}1 & 0 & -2\\\\0 & 1 & 2\\end{matrix}\\right]\\right )$$"
      ],
      "text/plain": [
       "⎛[6  0], ⎡1   1⎤, ⎡1  0  -2⎤⎞\n",
       "⎜        ⎢     ⎥  ⎢        ⎥⎟\n",
       "⎝        ⎣-3  1⎦  ⎣0  1  2 ⎦⎠"
      ]
     },
     "execution_count": 357,
     "metadata": {},
     "output_type": "execute_result"
    }
   ],
   "source": [
    "C_b, B, N"
   ]
  },
  {
   "cell_type": "markdown",
   "metadata": {},
   "source": [
    "$$\n",
    "    B^{-1}A\n",
    "$$"
   ]
  },
  {
   "cell_type": "code",
   "execution_count": 359,
   "metadata": {
    "collapsed": false
   },
   "outputs": [
    {
     "data": {
      "text/latex": [
       "$$\\left[\\begin{matrix}1 & 0 & -1 & \\frac{1}{4} & - \\frac{1}{4}\\\\0 & 1 & -1 & \\frac{3}{4} & \\frac{1}{4}\\end{matrix}\\right]$$"
      ],
      "text/plain": [
       "⎡1  0  -1  1/4  -1/4⎤\n",
       "⎢                   ⎥\n",
       "⎣0  1  -1  3/4  1/4 ⎦"
      ]
     },
     "execution_count": 359,
     "metadata": {},
     "output_type": "execute_result"
    }
   ],
   "source": [
    "B.inv() * A"
   ]
  },
  {
   "cell_type": "markdown",
   "metadata": {},
   "source": [
    "$$\n",
    "B^{-1}b\n",
    "$$"
   ]
  },
  {
   "cell_type": "code",
   "execution_count": 402,
   "metadata": {
    "collapsed": false
   },
   "outputs": [
    {
     "data": {
      "text/latex": [
       "$$\\left[\\begin{matrix}1\\\\6\\end{matrix}\\right]$$"
      ],
      "text/plain": [
       "⎡1⎤\n",
       "⎢ ⎥\n",
       "⎣6⎦"
      ]
     },
     "execution_count": 402,
     "metadata": {},
     "output_type": "execute_result"
    }
   ],
   "source": [
    "Bb = B.inv() * b\n",
    "Bb"
   ]
  },
  {
   "cell_type": "markdown",
   "metadata": {},
   "source": [
    "$$\n",
    "    \\bar Z = \\bar C_B B^{-1} \\bar b\n",
    "$$"
   ]
  },
  {
   "cell_type": "code",
   "execution_count": 403,
   "metadata": {
    "collapsed": false
   },
   "outputs": [
    {
     "data": {
      "image/png": "[encoded data removed]",
      "text/latex": [
       "$$- \\frac{15}{2}$$"
      ],
      "text/plain": [
       "-15/2"
      ]
     },
     "execution_count": 403,
     "metadata": {},
     "output_type": "execute_result"
    }
   ],
   "source": [
    "(C_b * B.inv() * Bb)[0]"
   ]
  },
  {
   "cell_type": "code",
   "execution_count": 405,
   "metadata": {
    "collapsed": false
   },
   "outputs": [
    {
     "data": {
      "text/latex": [
       "$$\\left[\\begin{matrix}-24\\end{matrix}\\right]$$"
      ],
      "text/plain": [
       "[-24]"
      ]
     },
     "execution_count": 405,
     "metadata": {},
     "output_type": "execute_result"
    }
   ],
   "source": [
    "Matrix([-6, -3]).T * Bb"
   ]
  },
  {
   "cell_type": "code",
   "execution_count": 392,
   "metadata": {
    "collapsed": false
   },
   "outputs": [
    {
     "data": {
      "text/latex": [
       "$$\\left[\\begin{matrix}7\\\\3\\end{matrix}\\right]$$"
      ],
      "text/plain": [
       "⎡7⎤\n",
       "⎢ ⎥\n",
       "⎣3⎦"
      ]
     },
     "execution_count": 392,
     "metadata": {},
     "output_type": "execute_result"
    }
   ],
   "source": [
    "b"
   ]
  },
  {
   "cell_type": "markdown",
   "metadata": {},
   "source": [
    "$$\n",
    "    \\bar x = \\bar C B^{-1} A - C\n",
    "$$"
   ]
  },
  {
   "cell_type": "code",
   "execution_count": 319,
   "metadata": {
    "collapsed": false
   },
   "outputs": [
    {
     "data": {
      "text/latex": [
       "$$\\left[\\begin{matrix}0 & 0 & -3 & \\frac{3}{2} & \\frac{1}{2}\\end{matrix}\\right]$$"
      ],
      "text/plain": [
       "[0  0  -3  3/2  1/2]"
      ]
     },
     "execution_count": 319,
     "metadata": {},
     "output_type": "execute_result"
    }
   ],
   "source": [
    "# X2 decreases the most; X2 is not B.V.\n",
    "C_b * B.inv() * A - C"
   ]
  },
  {
   "cell_type": "code",
   "execution_count": null,
   "metadata": {
    "collapsed": true
   },
   "outputs": [],
   "source": []
  }
 ],
 "metadata": {
  "kernelspec": {
   "display_name": "Python 3",
   "language": "python",
   "name": "python3"
  },
  "language_info": {
   "codemirror_mode": {
    "name": "ipython",
    "version": 3
   },
   "file_extension": ".py",
   "mimetype": "text/x-python",
   "name": "python",
   "nbconvert_exporter": "python",
   "pygments_lexer": "ipython3",
   "version": "3.6.0"
  }
 },
 "nbformat": 4,
 "nbformat_minor": 2
}
