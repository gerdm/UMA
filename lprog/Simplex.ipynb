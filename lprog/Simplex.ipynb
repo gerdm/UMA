{
 "cells": [
  {
   "cell_type": "code",
   "execution_count": 1,
   "metadata": {
    "collapsed": true
   },
   "outputs": [],
   "source": [
    "import numpy as np\n",
    "from sympy import *\n",
    "init_printing(use_unicode=True)"
   ]
  },
  {
   "cell_type": "code",
   "execution_count": 29,
   "metadata": {
    "collapsed": false
   },
   "outputs": [
    {
     "data": {
      "text/plain": [
       "array([[ -1.,  -2.,   1.,   0.,   0.,   0.,   0.],\n",
       "       [  2.,   1.,   1.,   1.,   0.,   0.,  14.],\n",
       "       [  4.,   2.,   3.,   0.,   1.,   0.,  28.],\n",
       "       [  2.,   5.,   5.,   0.,   0.,   1.,  30.]])"
      ]
     },
     "execution_count": 29,
     "metadata": {},
     "output_type": "execute_result"
    }
   ],
   "source": [
    "A = np.array([\n",
    "    [2, 1, 1, 1, 0, 0],\n",
    "    [4, 2, 3, 0, 1, 0],\n",
    "    [2, 5, 5, 0, 0, 1]\n",
    "], dtype=np.float64)\n",
    "z = [[-1, -2, 1, 0, 0, 0]]\n",
    "b = [0, 14, 28, 30]\n",
    "\n",
    "A = np.r_[z, A]\n",
    "A = np.c_[A, b]\n",
    "A"
   ]
  },
  {
   "cell_type": "markdown",
   "metadata": {},
   "source": [
    "**$x_2$ increases the most. $x_6$ is the blockage** "
   ]
  },
  {
   "cell_type": "code",
   "execution_count": 30,
   "metadata": {
    "collapsed": false
   },
   "outputs": [
    {
     "data": {
      "text/plain": [
       "array([[ -1. ,  -2. ,   1. ,   0. ,   0. ,   0. ,   0. ],\n",
       "       [  2. ,   1. ,   1. ,   1. ,   0. ,   0. ,  14. ],\n",
       "       [  4. ,   2. ,   3. ,   0. ,   1. ,   0. ,  28. ],\n",
       "       [  0.4,   1. ,   1. ,   0. ,   0. ,   0.2,   6. ]])"
      ]
     },
     "execution_count": 30,
     "metadata": {},
     "output_type": "execute_result"
    }
   ],
   "source": [
    "A[3,:] = A[3,:] / 5.0\n",
    "A"
   ]
  },
  {
   "cell_type": "code",
   "execution_count": 31,
   "metadata": {
    "collapsed": false
   },
   "outputs": [
    {
     "data": {
      "text/plain": [
       "array([[ -0.2,   0. ,   3. ,   0. ,   0. ,   0.4,  12. ],\n",
       "       [  1.6,   0. ,   0. ,   1. ,   0. ,  -0.2,   8. ],\n",
       "       [  3.2,   0. ,   1. ,   0. ,   1. ,  -0.4,  16. ],\n",
       "       [  0.4,   1. ,   1. ,   0. ,   0. ,   0.2,   6. ]])"
      ]
     },
     "execution_count": 31,
     "metadata": {},
     "output_type": "execute_result"
    }
   ],
   "source": [
    "A[0,:] = A[0,:] + A[3,:] * 2\n",
    "A[1,:] = A[1,:] + A[3,:] * -1  \n",
    "A[2,:] = A[2,:] + A[3,:] * -2\n",
    "\n",
    "A"
   ]
  },
  {
   "cell_type": "markdown",
   "metadata": {},
   "source": [
    "**$x_1$ increases the most. $x_4$ is the blockage**"
   ]
  },
  {
   "cell_type": "code",
   "execution_count": 35,
   "metadata": {
    "collapsed": false
   },
   "outputs": [
    {
     "data": {
      "text/plain": [
       "array([  5.,   5.,  15.])"
      ]
     },
     "execution_count": 35,
     "metadata": {},
     "output_type": "execute_result"
    }
   ],
   "source": [
    "A[1:,-1] / A[1:,0] "
   ]
  },
  {
   "cell_type": "code",
   "execution_count": 38,
   "metadata": {
    "collapsed": false
   },
   "outputs": [
    {
     "data": {
      "text/plain": [
       "array([[ -0.2  ,   0.   ,   3.   ,   0.   ,   0.   ,   0.4  ,  12.   ],\n",
       "       [  1.   ,   0.   ,   0.   ,   0.625,   0.   ,  -0.125,   5.   ],\n",
       "       [  3.2  ,   0.   ,   1.   ,   0.   ,   1.   ,  -0.4  ,  16.   ],\n",
       "       [  0.4  ,   1.   ,   1.   ,   0.   ,   0.   ,   0.2  ,   6.   ]])"
      ]
     },
     "execution_count": 38,
     "metadata": {},
     "output_type": "execute_result"
    }
   ],
   "source": [
    "A[1,:] = A[1,:] * 1/A[1,0]\n",
    "A"
   ]
  },
  {
   "cell_type": "code",
   "execution_count": 59,
   "metadata": {
    "collapsed": false
   },
   "outputs": [
    {
     "data": {
      "text/plain": [
       "array([[  0.   ,   0.   ,   3.   ,   0.125,   0.   ,   0.375,  13.   ],\n",
       "       [  1.   ,   0.   ,   0.   ,   0.625,   0.   ,  -0.125,   5.   ],\n",
       "       [  0.   ,   0.   ,   1.   ,  -2.   ,   1.   ,   0.   ,   0.   ],\n",
       "       [  0.   ,   1.   ,   1.   ,  -0.25 ,   0.   ,   0.25 ,   4.   ]])"
      ]
     },
     "execution_count": 59,
     "metadata": {},
     "output_type": "execute_result"
    }
   ],
   "source": [
    "A[0,:] = A[0,:] + A[1,:] * - A[0,0]\n",
    "A[2,:] = A[2,:] + A[1,:] * - A[2,0]\n",
    "A[3,:] = A[3,:] + A[1,:] * - A[3,0]\n",
    "A"
   ]
  },
  {
   "cell_type": "markdown",
   "metadata": {},
   "source": [
    "# Dictionary "
   ]
  },
  {
   "cell_type": "code",
   "execution_count": 24,
   "metadata": {
    "collapsed": true
   },
   "outputs": [],
   "source": [
    "x1, x2, x3, x4, x5, x6 = symbols(\"x1 x2 x3 x4 x5 x6\")"
   ]
  },
  {
   "cell_type": "code",
   "execution_count": 4,
   "metadata": {
    "collapsed": true
   },
   "outputs": [],
   "source": [
    "def print_problem(Z, constraints):\n",
    "    print(\"Z = \", Z)\n",
    "    for c in constraints:\n",
    "        print(c, \"= 0\")"
   ]
  },
  {
   "cell_type": "code",
   "execution_count": 25,
   "metadata": {
    "collapsed": false
   },
   "outputs": [
    {
     "name": "stdout",
     "output_type": "stream",
     "text": [
      "Z =  x1 + 2*x2 - x3\n",
      "2*x1 + x2 + x3 + x4 - 14 = 0\n",
      "4*x1 + 2*x2 + 3*x3 + x5 - 28 = 0\n",
      "2*x1 + 5*x2 + 5*x3 + x6 - 30 = 0\n"
     ]
    }
   ],
   "source": [
    "# Initial\n",
    "Z = x1 + 2*x2 - x3\n",
    "\n",
    "c1 = 2*x1 +   x2 +   x3 + x4         - 14\n",
    "c2 = 4*x1 + 2*x2 + 3*x3 +     x5     - 28\n",
    "c3 = 2*x1 + 5*x2 + 5*x3 +         x6 - 30\n",
    "\n",
    "print_problem(Z, [c1, c2, c3])"
   ]
  },
  {
   "cell_type": "code",
   "execution_count": 26,
   "metadata": {
    "collapsed": false
   },
   "outputs": [
    {
     "name": "stdout",
     "output_type": "stream",
     "text": [
      "[14]\n",
      "[14]\n",
      "[6] x6 goes out\n"
     ]
    }
   ],
   "source": [
    "# Finding where the blockage happens\n",
    "print(solve(c1.subs({x1:0, x3:0, x4:0}), x2)) # In terms of x4\n",
    "print(solve(c2.subs({x1:0, x3:0, x5:0}), x2)) # In terms of x5\n",
    "print(solve(c3.subs({x1:0, x3:0, x6:0}), x2), \"x6 goes out\") # In terms of x6"
   ]
  },
  {
   "cell_type": "code",
   "execution_count": 27,
   "metadata": {
    "collapsed": false
   },
   "outputs": [
    {
     "name": "stdout",
     "output_type": "stream",
     "text": [
      "Z =  x1/5 - 3*x3 - 2*x6/5 + 12\n",
      "8*x1/5 + x4 - x6/5 - 8 = 0\n",
      "16*x1/5 + x3 + x5 - 2*x6/5 - 16 = 0\n",
      "-2*x1/5 - x3 - x6/5 + 6 = 0\n"
     ]
    }
   ],
   "source": [
    "#### Update the table ####\n",
    "# third constraint in terms of x2\n",
    "c3 = solve(c3, x2)[0]\n",
    "c1 = c1.subs(x2, c3)\n",
    "c2 = c2.subs(x2, c3)\n",
    "\n",
    "Z = Z.subs(x2, c3)\n",
    "\n",
    "print_problem(Z, [c1, c2, c3])"
   ]
  },
  {
   "cell_type": "code",
   "execution_count": 28,
   "metadata": {
    "collapsed": false
   },
   "outputs": [
    {
     "name": "stdout",
     "output_type": "stream",
     "text": [
      "[5]\n",
      "[5]\n",
      "[15]\n"
     ]
    }
   ],
   "source": [
    "# Find new blockage (x1 increases the most)\n",
    "print(solve(c1.subs({x3:0, x6:0, x4:0}), x1))\n",
    "print(solve(c2.subs({x3:0, x6:0, x5:0}), x1))\n",
    "print(solve(c3.subs({x3:0, x6:0, x2:0}), x1))\n",
    "\n",
    "# Choose x4 to go out. It could've been either x4 or x5"
   ]
  },
  {
   "cell_type": "code",
   "execution_count": 31,
   "metadata": {
    "collapsed": false
   },
   "outputs": [
    {
     "name": "stdout",
     "output_type": "stream",
     "text": [
      "Z =  -3*x3 - x4/8 - 3*x6/8 + 13\n",
      "-5*x4/8 + x6/8 + 5 = 0\n",
      "x3 - 2*x4 + x5 = 0\n",
      "-x3 + x4/4 - x6/4 + 4 = 0\n"
     ]
    }
   ],
   "source": [
    "c1 = solve(c1, x1)[0]\n",
    "c2 = c2.subs(x1, c1)\n",
    "c3 = c3.subs(x1, c1)\n",
    "\n",
    "Z = Z.subs(x1, c1)\n",
    "\n",
    "print_problem(Z, [c1, c2, c3])"
   ]
  },
  {
   "cell_type": "markdown",
   "metadata": {},
   "source": [
    "Since $\\frac{\\partial Z}{\\partial x_i} \\leq 0 \\ \\forall \\ i$, we know we have reached the Max."
   ]
  },
  {
   "cell_type": "markdown",
   "metadata": {},
   "source": [
    "# Matrix Form"
   ]
  },
  {
   "cell_type": "code",
   "execution_count": 171,
   "metadata": {
    "collapsed": false
   },
   "outputs": [],
   "source": [
    "A = Matrix([\n",
    "    [ 1, 1, -2, 1, 0],\n",
    "    [-3, 1,  2, 0, 1]\n",
    "])\n",
    "\n",
    "C = Matrix([0, -2, -1, 0, 0])\n",
    "\n",
    "b = Matrix([7, 3])\n",
    "\n",
    "var = {\"b\": [3, 4], # basic\n",
    "       \"nb\": [0, 1, 2]} # non-basic"
   ]
  },
  {
   "cell_type": "code",
   "execution_count": 172,
   "metadata": {
    "collapsed": false
   },
   "outputs": [
    {
     "data": {
      "text/latex": [
       "$$\\left[\\begin{matrix}1 & 1 & -2 & 1 & 0\\\\-3 & 1 & 2 & 0 & 1\\end{matrix}\\right]$$"
      ],
      "text/plain": [
       "⎡1   1  -2  1  0⎤\n",
       "⎢               ⎥\n",
       "⎣-3  1  2   0  1⎦"
      ]
     },
     "execution_count": 172,
     "metadata": {},
     "output_type": "execute_result"
    }
   ],
   "source": [
    "A"
   ]
  },
  {
   "cell_type": "code",
   "execution_count": 173,
   "metadata": {
    "collapsed": false
   },
   "outputs": [],
   "source": [
    "B = A[:,var[\"b\"]]\n",
    "N = A[:, var[\"nb\"]]\n",
    "\n",
    "C_b = C[var[\"b\"],:]"
   ]
  },
  {
   "cell_type": "code",
   "execution_count": 174,
   "metadata": {
    "collapsed": false
   },
   "outputs": [
    {
     "data": {
      "text/latex": [
       "$$\\left[\\begin{matrix}0\\\\2\\\\1\\end{matrix}\\right]$$"
      ],
      "text/plain": [
       "⎡0⎤\n",
       "⎢ ⎥\n",
       "⎢2⎥\n",
       "⎢ ⎥\n",
       "⎣1⎦"
      ]
     },
     "execution_count": 174,
     "metadata": {},
     "output_type": "execute_result"
    }
   ],
   "source": [
    "## X1 gets in the base. From column 1 in A, \n",
    "# we choose which variable goes out\n",
    "-C[var[\"nb\"], :]"
   ]
  },
  {
   "cell_type": "code",
   "execution_count": 175,
   "metadata": {
    "collapsed": false
   },
   "outputs": [],
   "source": [
    "# Make a vector where only the entering\n",
    "# variable takes a value of 1\n",
    "Xp = Matrix([[0 for x in range(3)]])\n",
    "Xp[1] = 1"
   ]
  },
  {
   "cell_type": "code",
   "execution_count": 176,
   "metadata": {
    "collapsed": false
   },
   "outputs": [],
   "source": [
    "# Values to choose which variable to take out\n",
    "# (if the problem is bounded)\n",
    "Yp = B.inv() * N * Xp.T"
   ]
  },
  {
   "cell_type": "code",
   "execution_count": 177,
   "metadata": {
    "collapsed": false
   },
   "outputs": [
    {
     "name": "stdout",
     "output_type": "stream",
     "text": [
      "7\n",
      "3\n"
     ]
    }
   ],
   "source": [
    "# The second variable in the base: x4, goes out\n",
    "for bi, yi in zip(b, Yp):\n",
    "    print(bi / yi)"
   ]
  },
  {
   "cell_type": "markdown",
   "metadata": {},
   "source": [
    "#### Update!"
   ]
  },
  {
   "cell_type": "code",
   "execution_count": 178,
   "metadata": {
    "collapsed": true
   },
   "outputs": [],
   "source": [
    "# Update the table (i.e. update the\n",
    "# dictionary where the basic and non-basic\n",
    "# variables are chosen)\n",
    "var = {\"b\": [3, 1], # basic\n",
    "       \"nb\": [0, 4, 2]} # non-basic\n",
    "\n",
    "B = A[:,var[\"b\"]]\n",
    "N = A[:, var[\"nb\"]]\n",
    "\n",
    "C_b = C[var[\"b\"],:]"
   ]
  },
  {
   "cell_type": "markdown",
   "metadata": {},
   "source": [
    "$$\n",
    "    B^{-1}A\n",
    "$$"
   ]
  },
  {
   "cell_type": "code",
   "execution_count": 180,
   "metadata": {
    "collapsed": false
   },
   "outputs": [
    {
     "data": {
      "text/latex": [
       "$$\\left[\\begin{matrix}4 & 0 & -4 & 1 & -1\\\\-3 & 1 & 2 & 0 & 1\\end{matrix}\\right]$$"
      ],
      "text/plain": [
       "⎡4   0  -4  1  -1⎤\n",
       "⎢                ⎥\n",
       "⎣-3  1  2   0  1 ⎦"
      ]
     },
     "execution_count": 180,
     "metadata": {},
     "output_type": "execute_result"
    }
   ],
   "source": [
    "B.inv() * A"
   ]
  },
  {
   "cell_type": "markdown",
   "metadata": {},
   "source": [
    "$$\n",
    "B^{-1}b\n",
    "$$"
   ]
  },
  {
   "cell_type": "code",
   "execution_count": 181,
   "metadata": {
    "collapsed": false
   },
   "outputs": [
    {
     "data": {
      "text/latex": [
       "$$\\left[\\begin{matrix}4\\\\3\\end{matrix}\\right]$$"
      ],
      "text/plain": [
       "⎡4⎤\n",
       "⎢ ⎥\n",
       "⎣3⎦"
      ]
     },
     "execution_count": 181,
     "metadata": {},
     "output_type": "execute_result"
    }
   ],
   "source": [
    "B.inv() * b"
   ]
  },
  {
   "cell_type": "markdown",
   "metadata": {},
   "source": [
    "$$\n",
    "    \\bar Z = \\bar C B^{-1} \\bar b\n",
    "$$"
   ]
  },
  {
   "cell_type": "code",
   "execution_count": 182,
   "metadata": {
    "collapsed": false
   },
   "outputs": [
    {
     "data": {
      "image/png": "[encoded data removed]",
      "text/latex": [
       "$$-6$$"
      ],
      "text/plain": [
       "-6"
      ]
     },
     "execution_count": 182,
     "metadata": {},
     "output_type": "execute_result"
    }
   ],
   "source": [
    "(C_b.T * B.inv() * b)[0]"
   ]
  },
  {
   "cell_type": "markdown",
   "metadata": {},
   "source": [
    "$$\n",
    "    \\bar x = \\bar C B^{-1} A - C\n",
    "$$"
   ]
  },
  {
   "cell_type": "code",
   "execution_count": 186,
   "metadata": {
    "collapsed": false
   },
   "outputs": [
    {
     "data": {
      "text/latex": [
       "$$\\left[\\begin{matrix}-6 & 4 & 5 & 0 & 2\\end{matrix}\\right]$$"
      ],
      "text/plain": [
       "[-6  4  5  0  2]"
      ]
     },
     "execution_count": 186,
     "metadata": {},
     "output_type": "execute_result"
    }
   ],
   "source": [
    "C = -C_b.T * B.inv() * A - C.T\n",
    "C"
   ]
  }
 ],
 "metadata": {
  "kernelspec": {
   "display_name": "Python 3",
   "language": "python",
   "name": "python3"
  },
  "language_info": {
   "codemirror_mode": {
    "name": "ipython",
    "version": 3
   },
   "file_extension": ".py",
   "mimetype": "text/x-python",
   "name": "python",
   "nbconvert_exporter": "python",
   "pygments_lexer": "ipython3",
   "version": "3.6.0"
  }
 },
 "nbformat": 4,
 "nbformat_minor": 2
}
