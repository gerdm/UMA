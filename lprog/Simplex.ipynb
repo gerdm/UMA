{
 "cells": [
  {
   "cell_type": "markdown",
   "metadata": {},
   "source": [
    "# Simplex Playground"
   ]
  },
  {
   "cell_type": "code",
   "execution_count": 1,
   "metadata": {
    "collapsed": true
   },
   "outputs": [],
   "source": [
    "import numpy as np"
   ]
  },
  {
   "cell_type": "markdown",
   "metadata": {},
   "source": [
    "### Simplex in Matrix Form:\n",
    "\n",
    "$$\n",
    "    \\min Z = \\bar C \\cdot \\bar X \\\\\n",
    "    S.T.\\\\\n",
    "    A\\bar X = \\bar b\n",
    "$$\n",
    "\n",
    "Where $A \\in Mat(mxn, \\mathbb{R})$"
   ]
  },
  {
   "cell_type": "markdown",
   "metadata": {},
   "source": [
    "****\n",
    "**Beispiel**\n",
    "$$\n",
    "    \\min Z = -2x_1 - 4x_2\\\\\n",
    "    S.T.\\\\\n",
    "    x_1 + 2x_2 + x_3 = 5 \\\\\n",
    "    x_1 + x_2 + x_4 = 4\n",
    "$$\n",
    "\n",
    "$\\bar C = [-2, -4]$\n",
    "\n",
    "$ A = \n",
    "\\begin{bmatrix}\n",
    "1 & 2 & 1 & 0\\\\ \n",
    "1 & 1 & 0 & 1\n",
    "\\end{bmatrix}$\n",
    "\n",
    "$\n",
    "\\bar b = \n",
    "\\begin{bmatrix}\n",
    "5 \\\\\n",
    "4\n",
    "\\end{bmatrix}\n",
    "$"
   ]
  },
  {
   "cell_type": "code",
   "execution_count": null,
   "metadata": {
    "collapsed": true
   },
   "outputs": [],
   "source": [
    "A = np.array([\n",
    "    [1, 2, 1, 0],\n",
    "    [1, 1, 0, 1]\n",
    "])\n",
    "\n",
    "C = np.array([[]])"
   ]
  },
  {
   "cell_type": "code",
   "execution_count": null,
   "metadata": {
    "collapsed": true
   },
   "outputs": [],
   "source": [
    "np.where()"
   ]
  }
 ],
 "metadata": {
  "kernelspec": {
   "display_name": "Python [default]",
   "language": "python",
   "name": "python3"
  },
  "language_info": {
   "codemirror_mode": {
    "name": "ipython",
    "version": 3
   },
   "file_extension": ".py",
   "mimetype": "text/x-python",
   "name": "python",
   "nbconvert_exporter": "python",
   "pygments_lexer": "ipython3",
   "version": "3.5.2"
  }
 },
 "nbformat": 4,
 "nbformat_minor": 2
}
