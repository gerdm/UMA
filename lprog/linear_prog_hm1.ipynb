{
 "cells": [
  {
   "cell_type": "code",
   "execution_count": 1,
   "metadata": {
    "collapsed": true
   },
   "outputs": [],
   "source": [
    "import numpy as np\n",
    "from scipy.misc import comb\n",
    "from itertools import combinations\n",
    "from scipy.linalg import det"
   ]
  },
  {
   "cell_type": "code",
   "execution_count": 2,
   "metadata": {
    "collapsed": true
   },
   "outputs": [],
   "source": [
    "A = np.array([\n",
    "    [1, -1, 1],\n",
    "    [2, -1, 2],\n",
    "    [3, -2, 3],\n",
    "    [1,  0, 0],\n",
    "    [0,  1, 0],\n",
    "    [0,  0, 1]\n",
    "])\n",
    "\n",
    "b = np.array([10, 40, 50, 0, 0, 0])"
   ]
  },
  {
   "cell_type": "code",
   "execution_count": 3,
   "metadata": {
    "collapsed": false
   },
   "outputs": [
    {
     "data": {
      "text/plain": [
       "array([[ 1, -1,  1],\n",
       "       [ 2, -1,  2],\n",
       "       [ 3, -2,  3]])"
      ]
     },
     "execution_count": 3,
     "metadata": {},
     "output_type": "execute_result"
    }
   ],
   "source": [
    "A[0:3,:]"
   ]
  },
  {
   "cell_type": "code",
   "execution_count": 4,
   "metadata": {
    "collapsed": false
   },
   "outputs": [
    {
     "data": {
      "text/plain": [
       "array([10, 40, 50])"
      ]
     },
     "execution_count": 4,
     "metadata": {},
     "output_type": "execute_result"
    }
   ],
   "source": [
    "b[[0,1,2]]"
   ]
  },
  {
   "cell_type": "code",
   "execution_count": 5,
   "metadata": {
    "collapsed": true
   },
   "outputs": [],
   "source": [
    "from scipy.linalg import solve"
   ]
  },
  {
   "cell_type": "code",
   "execution_count": 6,
   "metadata": {
    "collapsed": false
   },
   "outputs": [
    {
     "data": {
      "text/plain": [
       "array([  0.,  20.,  30.])"
      ]
     },
     "execution_count": 6,
     "metadata": {},
     "output_type": "execute_result"
    }
   ],
   "source": [
    "solve(A[(0,1,3), :], b[list((0, 1, 3))])"
   ]
  },
  {
   "cell_type": "code",
   "execution_count": 7,
   "metadata": {
    "collapsed": false
   },
   "outputs": [],
   "source": [
    "A_comb = [comb for comb in combinations(range(6), 3)]"
   ]
  },
  {
   "cell_type": "markdown",
   "metadata": {},
   "source": [
    "# 3)\n",
    "Sean \n",
    "$$\n",
    "\\begin{bmatrix}\n",
    "1 & -1 &1 \\\\ \n",
    " 2&-1  &2 \\\\ \n",
    " 3&  -2&3 \n",
    "\\end{bmatrix}\n",
    "$$"
   ]
  },
  {
   "cell_type": "code",
   "execution_count": 27,
   "metadata": {
    "collapsed": false,
    "scrolled": false
   },
   "outputs": [
    {
     "name": "stdout",
     "output_type": "stream",
     "text": [
      "(0, 1, 2)\n",
      "[[ 1 -1  1]\n",
      " [ 2 -1  2]\n",
      " [ 3 -2  3]] [10 40 50]\n",
      "Det: 0.0\n",
      "\n",
      "--------------\n",
      "\n",
      "(0, 1, 3)\n",
      "[[ 1 -1  1]\n",
      " [ 2 -1  2]\n",
      " [ 1  0  0]] [10 40  0]\n",
      "Det: -1.0\n",
      "\n",
      "[x0, x1, x2] =  [  0.  20.  30.]\n",
      "***Extreme Point***\n",
      "--------------\n",
      "\n",
      "(0, 1, 4)\n",
      "[[ 1 -1  1]\n",
      " [ 2 -1  2]\n",
      " [ 0  1  0]] [10 40  0]\n",
      "Det: 0.0\n",
      "\n",
      "--------------\n",
      "\n",
      "(0, 1, 5)\n",
      "[[ 1 -1  1]\n",
      " [ 2 -1  2]\n",
      " [ 0  0  1]] [10 40  0]\n",
      "Det: 1.0\n",
      "\n",
      "[x0, x1, x2] =  [ 30.  20.   0.]\n",
      "***Extreme Point***\n",
      "--------------\n",
      "\n",
      "(0, 2, 3)\n",
      "[[ 1 -1  1]\n",
      " [ 3 -2  3]\n",
      " [ 1  0  0]] [10 50  0]\n",
      "Det: -1.0\n",
      "\n",
      "[x0, x1, x2] =  [  2.36847579e-15   2.00000000e+01   3.00000000e+01]\n",
      "***Extreme Point***\n",
      "--------------\n",
      "\n",
      "(0, 2, 4)\n",
      "[[ 1 -1  1]\n",
      " [ 3 -2  3]\n",
      " [ 0  1  0]] [10 50  0]\n",
      "Det: 0.0\n",
      "\n",
      "--------------\n",
      "\n",
      "(0, 2, 5)\n",
      "[[ 1 -1  1]\n",
      " [ 3 -2  3]\n",
      " [ 0  0  1]] [10 50  0]\n",
      "Det: 1.0\n",
      "\n",
      "[x0, x1, x2] =  [ 30.  20.   0.]\n",
      "--------------\n",
      "\n",
      "(0, 3, 4)\n",
      "[[ 1 -1  1]\n",
      " [ 1  0  0]\n",
      " [ 0  1  0]] [10  0  0]\n",
      "Det: 1.0\n",
      "\n",
      "[x0, x1, x2] =  [  0.   0.  10.]\n",
      "--------------\n",
      "\n",
      "(0, 3, 5)\n",
      "[[ 1 -1  1]\n",
      " [ 1  0  0]\n",
      " [ 0  0  1]] [10  0  0]\n",
      "Det: 1.0\n",
      "\n",
      "[x0, x1, x2] =  [  0. -10.   0.]\n",
      "--------------\n",
      "\n",
      "(0, 4, 5)\n",
      "[[ 1 -1  1]\n",
      " [ 0  1  0]\n",
      " [ 0  0  1]] [10  0  0]\n",
      "Det: 1.0\n",
      "\n",
      "[x0, x1, x2] =  [ 10.   0.   0.]\n",
      "--------------\n",
      "\n",
      "(1, 2, 3)\n",
      "[[ 2 -1  2]\n",
      " [ 3 -2  3]\n",
      " [ 1  0  0]] [40 50  0]\n",
      "Det: 1.0\n",
      "\n",
      "[x0, x1, x2] =  [  4.73695157e-15   2.00000000e+01   3.00000000e+01]\n",
      "***Extreme Point***\n",
      "--------------\n",
      "\n",
      "(1, 2, 4)\n",
      "[[ 2 -1  2]\n",
      " [ 3 -2  3]\n",
      " [ 0  1  0]] [40 50  0]\n",
      "Det: 0.0\n",
      "\n",
      "--------------\n",
      "\n",
      "(1, 2, 5)\n",
      "[[ 2 -1  2]\n",
      " [ 3 -2  3]\n",
      " [ 0  0  1]] [40 50  0]\n",
      "Det: -1.0\n",
      "\n",
      "[x0, x1, x2] =  [ 30.  20.   0.]\n",
      "--------------\n",
      "\n",
      "(1, 3, 4)\n",
      "[[ 2 -1  2]\n",
      " [ 1  0  0]\n",
      " [ 0  1  0]] [40  0  0]\n",
      "Det: 2.0\n",
      "\n",
      "[x0, x1, x2] =  [  0.   0.  20.]\n",
      "--------------\n",
      "\n",
      "(1, 3, 5)\n",
      "[[ 2 -1  2]\n",
      " [ 1  0  0]\n",
      " [ 0  0  1]] [40  0  0]\n",
      "Det: 1.0\n",
      "\n",
      "[x0, x1, x2] =  [  0. -40.   0.]\n",
      "--------------\n",
      "\n",
      "(1, 4, 5)\n",
      "[[ 2 -1  2]\n",
      " [ 0  1  0]\n",
      " [ 0  0  1]] [40  0  0]\n",
      "Det: 2.0\n",
      "\n",
      "[x0, x1, x2] =  [ 20.   0.   0.]\n",
      "--------------\n",
      "\n",
      "(2, 3, 4)\n",
      "[[ 3 -2  3]\n",
      " [ 1  0  0]\n",
      " [ 0  1  0]] [50  0  0]\n",
      "Det: 3.0\n",
      "\n",
      "[x0, x1, x2] =  [  2.36847579e-15   0.00000000e+00   1.66666667e+01]\n",
      "--------------\n",
      "\n",
      "(2, 3, 5)\n",
      "[[ 3 -2  3]\n",
      " [ 1  0  0]\n",
      " [ 0  0  1]] [50  0  0]\n",
      "Det: 2.0\n",
      "\n",
      "[x0, x1, x2] =  [  2.36847579e-15  -2.50000000e+01   0.00000000e+00]\n",
      "--------------\n",
      "\n",
      "(2, 4, 5)\n",
      "[[ 3 -2  3]\n",
      " [ 0  1  0]\n",
      " [ 0  0  1]] [50  0  0]\n",
      "Det: 3.0\n",
      "\n",
      "[x0, x1, x2] =  [ 16.66666667   0.           0.        ]\n",
      "--------------\n",
      "\n",
      "(3, 4, 5)\n",
      "[[1 0 0]\n",
      " [0 1 0]\n",
      " [0 0 1]] [0 0 0]\n",
      "Det: 1.0\n",
      "\n",
      "[x0, x1, x2] =  [ 0.  0.  0.]\n",
      "--------------\n",
      "\n"
     ]
    }
   ],
   "source": [
    "for comb in A_comb:\n",
    "    A_perm = A[comb, :]\n",
    "    b_perm = b[list(comb)]\n",
    "    detA = det(A_perm)\n",
    "    print(comb)\n",
    "    print(A_perm, b_perm)\n",
    "    print(\"Det: {}\\n\".format(detA))\n",
    "    \n",
    "    if detA != 0:\n",
    "        fpoints = solve(A_perm, b_perm)\n",
    "        ans = np.dot(A[0:3,:], fpoints)\n",
    "        print(\"[x0, x1, x2] = \", fpoints)\n",
    "        \n",
    "        \n",
    "        if np.all(ans == np.array([10, 40, 50])):\n",
    "            print(\"***Extreme Point***\")\n",
    "        \n",
    "    print(\"--------------\\n\")"
   ]
  },
  {
   "cell_type": "code",
   "execution_count": null,
   "metadata": {
    "collapsed": true
   },
   "outputs": [],
   "source": []
  }
 ],
 "metadata": {
  "kernelspec": {
   "display_name": "Python [default]",
   "language": "python",
   "name": "python3"
  },
  "language_info": {
   "codemirror_mode": {
    "name": "ipython",
    "version": 3
   },
   "file_extension": ".py",
   "mimetype": "text/x-python",
   "name": "python",
   "nbconvert_exporter": "python",
   "pygments_lexer": "ipython3",
   "version": "3.5.2"
  }
 },
 "nbformat": 4,
 "nbformat_minor": 2
}
